{
 "cells": [
  {
   "cell_type": "markdown",
   "metadata": {
    "toc": true
   },
   "source": [
    "<h1>Содержание<span class=\"tocSkip\"></span></h1>\n",
    "<div class=\"toc\"><ul class=\"toc-item\"><li><span><a href=\"#Подготовка-данных\" data-toc-modified-id=\"Подготовка-данных-1\"><span class=\"toc-item-num\">1&nbsp;&nbsp;</span>Подготовка данных</a></span><ul class=\"toc-item\"><li><span><a href=\"#Загрузка-и-первичный-анализ-данных\" data-toc-modified-id=\"Загрузка-и-первичный-анализ-данных-1.1\"><span class=\"toc-item-num\">1.1&nbsp;&nbsp;</span>Загрузка и первичный анализ данных</a></span></li><li><span><a href=\"#Подготовка-данных\" data-toc-modified-id=\"Подготовка-данных-1.2\"><span class=\"toc-item-num\">1.2&nbsp;&nbsp;</span>Подготовка данных</a></span><ul class=\"toc-item\"><li><span><a href=\"#Подготовка-текста\" data-toc-modified-id=\"Подготовка-текста-1.2.1\"><span class=\"toc-item-num\">1.2.1&nbsp;&nbsp;</span>Подготовка текста</a></span></li><li><span><a href=\"#Подготовка-выборок-и-векторизация-текста\" data-toc-modified-id=\"Подготовка-выборок-и-векторизация-текста-1.2.2\"><span class=\"toc-item-num\">1.2.2&nbsp;&nbsp;</span>Подготовка выборок и векторизация текста</a></span></li></ul></li></ul></li><li><span><a href=\"#Обучение\" data-toc-modified-id=\"Обучение-2\"><span class=\"toc-item-num\">2&nbsp;&nbsp;</span>Обучение</a></span><ul class=\"toc-item\"><li><ul class=\"toc-item\"><li><span><a href=\"#Логистическая-регрессия\" data-toc-modified-id=\"Логистическая-регрессия-2.0.1\"><span class=\"toc-item-num\">2.0.1&nbsp;&nbsp;</span>Логистическая регрессия</a></span></li><li><span><a href=\"#Решающее-дерево\" data-toc-modified-id=\"Решающее-дерево-2.0.2\"><span class=\"toc-item-num\">2.0.2&nbsp;&nbsp;</span>Решающее дерево</a></span></li></ul></li><li><span><a href=\"#Случайный-лес\" data-toc-modified-id=\"Случайный-лес-2.1\"><span class=\"toc-item-num\">2.1&nbsp;&nbsp;</span>Случайный лес</a></span></li><li><span><a href=\"#Тестирование\" data-toc-modified-id=\"Тестирование-2.2\"><span class=\"toc-item-num\">2.2&nbsp;&nbsp;</span>Тестирование</a></span></li></ul></li><li><span><a href=\"#Вывод\" data-toc-modified-id=\"Вывод-3\"><span class=\"toc-item-num\">3&nbsp;&nbsp;</span>Вывод</a></span></li></ul></div>"
   ]
  },
  {
   "cell_type": "markdown",
   "metadata": {},
   "source": [
    "# Классификация токсичных комментариев для \"Викишоп\"."
   ]
  },
  {
   "cell_type": "markdown",
   "metadata": {},
   "source": [
    "Интернет-магазин «Викишоп» запускает новый сервис. Теперь пользователи могут редактировать и дополнять описания товаров, как в вики-сообществах. То есть клиенты предлагают свои правки и комментируют изменения других. Магазину нужен инструмент, который будет искать токсичные комментарии и отправлять их на модерацию. \n",
    "\n",
    "Необходимо обучить модель классификации комментариев на позитивные и негативные. В нашем распоряжении набор данных с разметкой о токсичности правок.\n",
    "\n",
    "Необходимо построить модель со значением метрики качества *F1* не меньше 0.75. \n",
    "\n",
    "**План по выполнению проекта:**\n",
    "\n",
    "1. Загрузка и подготовка данных с помощью техники TF-IDF.\n",
    "2. Обучение разных моделей, тестирование.\n",
    "4. Вывод по проекту.\n"
   ]
  },
  {
   "cell_type": "code",
   "execution_count": 1,
   "metadata": {
    "scrolled": true
   },
   "outputs": [],
   "source": [
    "# Импорт библиотек\n",
    "import pandas as pd\n",
    "import numpy as np\n",
    "import nltk\n",
    "from nltk.corpus import stopwords as nltk_stopwords\n",
    "from nltk.stem import WordNetLemmatizer\n",
    "import matplotlib.pyplot as plt\n",
    "import seaborn as sns\n",
    "from scipy.sparse import vstack\n",
    "\n",
    "from sklearn.feature_extraction.text import TfidfVectorizer\n",
    "from sklearn.model_selection import train_test_split, RandomizedSearchCV, PredefinedSplit, GridSearchCV\n",
    "from sklearn.metrics import f1_score\n",
    "from sklearn.linear_model import LogisticRegression\n",
    "from sklearn.tree import DecisionTreeClassifier\n",
    "from sklearn.svm import SVC\n",
    "from sklearn.ensemble import RandomForestClassifier\n",
    "\n",
    "import re"
   ]
  },
  {
   "cell_type": "code",
   "execution_count": 3,
   "metadata": {},
   "outputs": [
    {
     "name": "stderr",
     "output_type": "stream",
     "text": [
      "[nltk_data] Downloading package wordnet to /home/vladimir/nltk_data...\n",
      "[nltk_data]   Package wordnet is already up-to-date!\n",
      "[nltk_data] Downloading package omw-1.4 to /home/vladimir/nltk_data...\n",
      "[nltk_data]   Package omw-1.4 is already up-to-date!\n",
      "[nltk_data] Downloading package stopwords to\n",
      "[nltk_data]     /home/vladimir/nltk_data...\n",
      "[nltk_data]   Package stopwords is already up-to-date!\n"
     ]
    },
    {
     "data": {
      "text/plain": [
       "True"
      ]
     },
     "execution_count": 3,
     "metadata": {},
     "output_type": "execute_result"
    }
   ],
   "source": [
    "nltk.download('wordnet')\n",
    "nltk.download('omw-1.4')\n",
    "nltk.download('stopwords')"
   ]
  },
  {
   "cell_type": "code",
   "execution_count": 4,
   "metadata": {},
   "outputs": [],
   "source": [
    "# Определение констант\n",
    "SEED = 12345"
   ]
  },
  {
   "cell_type": "markdown",
   "metadata": {},
   "source": [
    "## Подготовка данных\n",
    "\n",
    "1. Загрузка и изучение данных;\n",
    "2. Подготовка данных к обучению моделей."
   ]
  },
  {
   "cell_type": "markdown",
   "metadata": {},
   "source": [
    "### Загрузка и первичный анализ данных"
   ]
  },
  {
   "cell_type": "code",
   "execution_count": 5,
   "metadata": {},
   "outputs": [],
   "source": [
    "try:\n",
    "    df = pd.read_csv('/datasets/toxic_comments.csv')\n",
    "except:\n",
    "    df = pd.read_csv('toxic_comments.csv')"
   ]
  },
  {
   "cell_type": "code",
   "execution_count": 6,
   "metadata": {},
   "outputs": [
    {
     "data": {
      "text/html": [
       "<div>\n",
       "<style scoped>\n",
       "    .dataframe tbody tr th:only-of-type {\n",
       "        vertical-align: middle;\n",
       "    }\n",
       "\n",
       "    .dataframe tbody tr th {\n",
       "        vertical-align: top;\n",
       "    }\n",
       "\n",
       "    .dataframe thead th {\n",
       "        text-align: right;\n",
       "    }\n",
       "</style>\n",
       "<table border=\"1\" class=\"dataframe\">\n",
       "  <thead>\n",
       "    <tr style=\"text-align: right;\">\n",
       "      <th></th>\n",
       "      <th>text</th>\n",
       "      <th>toxic</th>\n",
       "    </tr>\n",
       "  </thead>\n",
       "  <tbody>\n",
       "    <tr>\n",
       "      <th>0</th>\n",
       "      <td>Explanation\\nWhy the edits made under my usern...</td>\n",
       "      <td>0</td>\n",
       "    </tr>\n",
       "    <tr>\n",
       "      <th>1</th>\n",
       "      <td>D'aww! He matches this background colour I'm s...</td>\n",
       "      <td>0</td>\n",
       "    </tr>\n",
       "    <tr>\n",
       "      <th>2</th>\n",
       "      <td>Hey man, I'm really not trying to edit war. It...</td>\n",
       "      <td>0</td>\n",
       "    </tr>\n",
       "    <tr>\n",
       "      <th>3</th>\n",
       "      <td>\"\\nMore\\nI can't make any real suggestions on ...</td>\n",
       "      <td>0</td>\n",
       "    </tr>\n",
       "    <tr>\n",
       "      <th>4</th>\n",
       "      <td>You, sir, are my hero. Any chance you remember...</td>\n",
       "      <td>0</td>\n",
       "    </tr>\n",
       "  </tbody>\n",
       "</table>\n",
       "</div>"
      ],
      "text/plain": [
       "                                                text  toxic\n",
       "0  Explanation\\nWhy the edits made under my usern...      0\n",
       "1  D'aww! He matches this background colour I'm s...      0\n",
       "2  Hey man, I'm really not trying to edit war. It...      0\n",
       "3  \"\\nMore\\nI can't make any real suggestions on ...      0\n",
       "4  You, sir, are my hero. Any chance you remember...      0"
      ]
     },
     "execution_count": 6,
     "metadata": {},
     "output_type": "execute_result"
    }
   ],
   "source": [
    "df.head()"
   ]
  },
  {
   "cell_type": "code",
   "execution_count": 7,
   "metadata": {},
   "outputs": [
    {
     "name": "stdout",
     "output_type": "stream",
     "text": [
      "<class 'pandas.core.frame.DataFrame'>\n",
      "RangeIndex: 159571 entries, 0 to 159570\n",
      "Data columns (total 2 columns):\n",
      " #   Column  Non-Null Count   Dtype \n",
      "---  ------  --------------   ----- \n",
      " 0   text    159571 non-null  object\n",
      " 1   toxic   159571 non-null  int64 \n",
      "dtypes: int64(1), object(1)\n",
      "memory usage: 2.4+ MB\n"
     ]
    }
   ],
   "source": [
    "df.info()"
   ]
  },
  {
   "cell_type": "code",
   "execution_count": 8,
   "metadata": {},
   "outputs": [
    {
     "data": {
      "text/plain": [
       "0"
      ]
     },
     "execution_count": 8,
     "metadata": {},
     "output_type": "execute_result"
    }
   ],
   "source": [
    "df.duplicated().sum()"
   ]
  },
  {
   "cell_type": "markdown",
   "metadata": {},
   "source": [
    "**Исследование баланса классов**"
   ]
  },
  {
   "cell_type": "code",
   "execution_count": 9,
   "metadata": {},
   "outputs": [
    {
     "data": {
      "image/png": "[encoded data removed]",
      "text/plain": [
       "<Figure size 432x288 with 1 Axes>"
      ]
     },
     "metadata": {
      "needs_background": "light"
     },
     "output_type": "display_data"
    }
   ],
   "source": [
    "df['toxic'].hist(bins=2)\n",
    "plt.title('Распределение целевого признака toxic', fontsize = 20)\n",
    "plt.show();"
   ]
  },
  {
   "cell_type": "code",
   "execution_count": 10,
   "metadata": {},
   "outputs": [
    {
     "data": {
      "text/plain": [
       "0    143346\n",
       "1     16225\n",
       "Name: toxic, dtype: int64"
      ]
     },
     "execution_count": 10,
     "metadata": {},
     "output_type": "execute_result"
    }
   ],
   "source": [
    "df['toxic'].value_counts()"
   ]
  },
  {
   "cell_type": "code",
   "execution_count": 11,
   "metadata": {},
   "outputs": [
    {
     "name": "stdout",
     "output_type": "stream",
     "text": [
      "Доля токсичных комментариев:  0.1131876717871444\n"
     ]
    }
   ],
   "source": [
    "print('Доля токсичных комментариев: ', \n",
    "      df[df['toxic'] == 1]['toxic'].count() / df[df['toxic'] == 0]['toxic'].count()\n",
    "     )"
   ]
  },
  {
   "cell_type": "markdown",
   "metadata": {},
   "source": [
    "Получается данные у нас не сбалансированны."
   ]
  },
  {
   "cell_type": "markdown",
   "metadata": {},
   "source": [
    "**Вывод**\n",
    "\n",
    "1. Данные загружены и изучены. Столбец *text* в нём содержит текст комментария, а *toxic* — целевой признак.;\n",
    "2. Пропусков и дубликатов в наборе данных нет;\n",
    "3. Данные не сбалансированы. Токсичных коментариев примерно 11%;\n"
   ]
  },
  {
   "cell_type": "markdown",
   "metadata": {},
   "source": [
    "### Подготовка данных\n",
    "\n",
    "Подготовку данных произведём в следующей последовательности:\n",
    "1. Подготовка текста;\n",
    "2. Подготовка выборок;\n",
    "3. Векторизация текста."
   ]
  },
  {
   "cell_type": "markdown",
   "metadata": {},
   "source": [
    "#### Подготовка текста\n",
    "\n",
    "Применим к текстовым данным следующие инструменты подготовки текста:\n",
    "1. Очистку от лишних символов;\n",
    "2. Лематизацию;\n",
    "3. Удаление стоп-слов.\n"
   ]
  },
  {
   "cell_type": "markdown",
   "metadata": {},
   "source": [
    "Загрузим список английских стоп-слов и очистим от лишних символов."
   ]
  },
  {
   "cell_type": "code",
   "execution_count": 12,
   "metadata": {},
   "outputs": [
    {
     "name": "stdout",
     "output_type": "stream",
     "text": [
      "CPU times: user 2min 15s, sys: 719 ms, total: 2min 15s\n",
      "Wall time: 2min 16s\n"
     ]
    }
   ],
   "source": [
    "%%time\n",
    "\n",
    "wnl = WordNetLemmatizer()\n",
    "stopwords = set(nltk_stopwords.words('english'))\n",
    "# очистка с лематизацией\n",
    "features = df['text'].apply(\n",
    "    lambda x: ' '.join([wnl.lemmatize(re.sub(r'[^a-zA-Z]', ' ', i)\n",
    "                                      .lower()) for i in x.split()])\n",
    ")\n"
   ]
  },
  {
   "cell_type": "code",
   "execution_count": 13,
   "metadata": {},
   "outputs": [
    {
     "data": {
      "text/plain": [
       "0    Explanation\\nWhy the edits made under my usern...\n",
       "1    D'aww! He matches this background colour I'm s...\n",
       "2    Hey man, I'm really not trying to edit war. It...\n",
       "3    \"\\nMore\\nI can't make any real suggestions on ...\n",
       "4    You, sir, are my hero. Any chance you remember...\n",
       "5    \"\\n\\nCongratulations from me as well, use the ...\n",
       "6         COCKSUCKER BEFORE YOU PISS AROUND ON MY WORK\n",
       "7    Your vandalism to the Matt Shirvington article...\n",
       "8    Sorry if the word 'nonsense' was offensive to ...\n",
       "9    alignment on this subject and which are contra...\n",
       "Name: text, dtype: object"
      ]
     },
     "execution_count": 13,
     "metadata": {},
     "output_type": "execute_result"
    }
   ],
   "source": [
    "# До очистки\n",
    "df['text'].head(10)"
   ]
  },
  {
   "cell_type": "code",
   "execution_count": 14,
   "metadata": {},
   "outputs": [
    {
     "data": {
      "text/plain": [
       "0    explanation why the edits made under my userna...\n",
       "1    d aww  he match this background colour i m see...\n",
       "2    hey man  i m really not trying to edit war  it...\n",
       "3      more i can t make any real suggestion on imp...\n",
       "4    you  sir  are my hero  any chance you remember...\n",
       "5      congratulation from me a well  use the tool ...\n",
       "6         cocksucker before you piss around on my work\n",
       "7    your vandalism to the matt shirvington article...\n",
       "8    sorry if the word  nonsense  wa offensive to y...\n",
       "9    alignment on this subject and which are contra...\n",
       "Name: text, dtype: object"
      ]
     },
     "execution_count": 14,
     "metadata": {},
     "output_type": "execute_result"
    }
   ],
   "source": [
    "# После очистки\n",
    "features.head(10)"
   ]
  },
  {
   "cell_type": "markdown",
   "metadata": {},
   "source": [
    "#### Подготовка выборок и векторизация текста\n",
    "\n",
    "Разделим набор данных на выборки:\n",
    "   - Тренировочную - 80%;\n",
    "   - Валидационную - 10%;\n",
    "   - Тестовую      - 10%.\n",
    "   \n",
    "После разделения данных, обучим векторизатор на тренировочной выборке, затем векторизируем валидационную и тестовую выборки. \n",
    "\n",
    "Затем создадим счетчик TF-IDF, передадим в него английские стоп-слова, будем также искать биграммы, ограничим максимальное количество признаков 50000, ограничим минимальное вхождение *n-gram* в текст двумя.\n"
   ]
  },
  {
   "cell_type": "code",
   "execution_count": 15,
   "metadata": {},
   "outputs": [],
   "source": [
    "target = df['toxic']"
   ]
  },
  {
   "cell_type": "code",
   "execution_count": 16,
   "metadata": {
    "scrolled": true
   },
   "outputs": [
    {
     "name": "stdout",
     "output_type": "stream",
     "text": [
      "CPU times: user 47.5 s, sys: 1.26 s, total: 48.8 s\n",
      "Wall time: 48.8 s\n"
     ]
    },
    {
     "data": {
      "text/html": [
       "<div>\n",
       "<style scoped>\n",
       "    .dataframe tbody tr th:only-of-type {\n",
       "        vertical-align: middle;\n",
       "    }\n",
       "\n",
       "    .dataframe tbody tr th {\n",
       "        vertical-align: top;\n",
       "    }\n",
       "\n",
       "    .dataframe thead th {\n",
       "        text-align: right;\n",
       "    }\n",
       "</style>\n",
       "<table border=\"1\" class=\"dataframe\">\n",
       "  <thead>\n",
       "    <tr style=\"text-align: right;\">\n",
       "      <th></th>\n",
       "      <th>Строк</th>\n",
       "      <th>Колонок</th>\n",
       "    </tr>\n",
       "  </thead>\n",
       "  <tbody>\n",
       "    <tr>\n",
       "      <th>features_train</th>\n",
       "      <td>127656</td>\n",
       "      <td>50000.0</td>\n",
       "    </tr>\n",
       "    <tr>\n",
       "      <th>target_train</th>\n",
       "      <td>127656</td>\n",
       "      <td>NaN</td>\n",
       "    </tr>\n",
       "    <tr>\n",
       "      <th>features_valid</th>\n",
       "      <td>15957</td>\n",
       "      <td>50000.0</td>\n",
       "    </tr>\n",
       "    <tr>\n",
       "      <th>target_valid</th>\n",
       "      <td>15957</td>\n",
       "      <td>NaN</td>\n",
       "    </tr>\n",
       "    <tr>\n",
       "      <th>features_test</th>\n",
       "      <td>15958</td>\n",
       "      <td>50000.0</td>\n",
       "    </tr>\n",
       "    <tr>\n",
       "      <th>target_test</th>\n",
       "      <td>15958</td>\n",
       "      <td>NaN</td>\n",
       "    </tr>\n",
       "  </tbody>\n",
       "</table>\n",
       "</div>"
      ],
      "text/plain": [
       "                 Строк  Колонок\n",
       "features_train  127656  50000.0\n",
       "target_train    127656      NaN\n",
       "features_valid   15957  50000.0\n",
       "target_valid     15957      NaN\n",
       "features_test    15958  50000.0\n",
       "target_test      15958      NaN"
      ]
     },
     "execution_count": 16,
     "metadata": {},
     "output_type": "execute_result"
    }
   ],
   "source": [
    "%%time\n",
    "# Создаём выборки\n",
    "# так как целевой признак несбалансированы применим параметр  stratify = target\n",
    "\n",
    "features_train, features_valid, target_train, target_valid = train_test_split(features, \n",
    "                                                                              target, \n",
    "                                                                              test_size=0.2, \n",
    "                                                                              random_state=SEED,\n",
    "                                                                              stratify=target)\n",
    "features_valid, features_test, target_valid, target_test = train_test_split(features_valid, \n",
    "                                                                            target_valid, \n",
    "                                                                            test_size=0.5, \n",
    "                                                                            random_state=SEED,\n",
    "                                                                            stratify=target_valid)\n",
    "# Векторизация текста\n",
    "vectorizer = TfidfVectorizer(ngram_range=(1,2), max_features=50000, stop_words=stopwords)\n",
    "\n",
    "features_train_vect = vectorizer.fit_transform(features_train)\n",
    "features_valid_vect = vectorizer.transform(features_valid)\n",
    "features_test_vect = vectorizer.transform(features_test)\n",
    "\n",
    "# проверим размеры выборок\n",
    "pd.DataFrame(data=[features_train_vect.shape, target_train.shape,\n",
    "                   features_valid_vect.shape, target_valid.shape,\n",
    "                   features_test_vect.shape,  target_test.shape\n",
    "                  ],\n",
    "             index=['features_train', 'target_train', \n",
    "                    'features_valid', 'target_valid', \n",
    "                    'features_test',  'target_test'],\n",
    "             columns=['Строк', 'Колонок']\n",
    "            )"
   ]
  },
  {
   "cell_type": "markdown",
   "metadata": {},
   "source": [
    "Данные подготовлены к обучению моделей."
   ]
  },
  {
   "cell_type": "markdown",
   "metadata": {},
   "source": [
    "## Обучение\n",
    "\n",
    "Обучим несколько моделей с подбором гиперпараметров:\n",
    "- Логистическую регрессию;\n",
    "- Классификатор на основе решающего дерева;\n",
    "- Случайный лес.\n",
    "\n",
    "Для исключения дублирования кода создадим две функции:\n",
    "- Функция `get_f1_valid` принимает модель и выборки, возвращает значение метрики F1;\n",
    "- Функция `get_f1_cv` приниает модель параметры и выборки, возвращает лучшие параметры модели и лучший F1."
   ]
  },
  {
   "cell_type": "code",
   "execution_count": 17,
   "metadata": {},
   "outputs": [],
   "source": [
    "def get_f1_valid(model, X, y, X_test, y_test):\n",
    "    \"\"\" Принимаем модель,\n",
    "        возвращаем f1 \n",
    "    \"\"\"\n",
    "    model.fit(X, y)\n",
    "    predictions = model.predict(X_test)\n",
    "     \n",
    "    return round(f1_score(y_test, predictions), 3)"
   ]
  },
  {
   "cell_type": "code",
   "execution_count": 18,
   "metadata": {},
   "outputs": [],
   "source": [
    "def get_f1_cv(model, \n",
    "              parametrs, \n",
    "              X=vstack((features_train_vect, features_valid_vect)), \n",
    "              y=pd.concat([target_train, target_valid])):\n",
    "    \"\"\" Принимаем модель,\n",
    "        возвращаем f1 \n",
    "    \"\"\"\n",
    "    validation_set_indexes = [-1]*features_train_vect.shape[0] + [0]*features_valid_vect.shape[0]\n",
    "    ps = PredefinedSplit(test_fold=validation_set_indexes)\n",
    "    \n",
    "    rs = RandomizedSearchCV(model, \n",
    "                            parametrs, \n",
    "                            scoring='f1', \n",
    "                            cv=ps,\n",
    "                            random_state = SEED,\n",
    "                            n_jobs=-1\n",
    "                           )\n",
    "    rs.fit(X, y)\n",
    "    \n",
    "    return round(rs.best_score_, 3), rs.best_params_"
   ]
  },
  {
   "cell_type": "markdown",
   "metadata": {},
   "source": [
    "#### Логистическая регрессия"
   ]
  },
  {
   "cell_type": "code",
   "execution_count": 19,
   "metadata": {
    "scrolled": true
   },
   "outputs": [
    {
     "name": "stdout",
     "output_type": "stream",
     "text": [
      "CPU times: user 48 s, sys: 1.9 s, total: 49.9 s\n",
      "Wall time: 14.2 s\n"
     ]
    },
    {
     "data": {
      "text/plain": [
       "0.735"
      ]
     },
     "execution_count": 19,
     "metadata": {},
     "output_type": "execute_result"
    }
   ],
   "source": [
    "%%time\n",
    "get_f1_valid(LogisticRegression(max_iter=2000, random_state=SEED), \n",
    "             X=features_train_vect, \n",
    "             y=target_train, \n",
    "             X_test=features_valid_vect, \n",
    "             y_test=target_valid\n",
    "            )"
   ]
  },
  {
   "cell_type": "markdown",
   "metadata": {},
   "source": [
    "Логистическая регрессия с параметрами по умолчанию показала F1=0.735\n",
    "\n",
    "Теперь попробуем подобрать лучшие параметры"
   ]
  },
  {
   "cell_type": "code",
   "execution_count": 20,
   "metadata": {},
   "outputs": [
    {
     "name": "stdout",
     "output_type": "stream",
     "text": [
      "CPU times: user 1min 18s, sys: 3.94 s, total: 1min 22s\n",
      "Wall time: 2min 8s\n"
     ]
    },
    {
     "data": {
      "text/plain": [
       "(0.787, {'C': 10})"
      ]
     },
     "execution_count": 20,
     "metadata": {},
     "output_type": "execute_result"
    }
   ],
   "source": [
    "%%time\n",
    "# Подбор коэфициента регуляризации\n",
    "get_f1_cv(LogisticRegression(max_iter=2000, random_state=SEED),\n",
    "          {'C':[2,3,4,5,7,10,15,20,40,50]}\n",
    "         )"
   ]
  },
  {
   "cell_type": "code",
   "execution_count": 21,
   "metadata": {
    "scrolled": true
   },
   "outputs": [
    {
     "name": "stdout",
     "output_type": "stream",
     "text": [
      "CPU times: user 1min 34s, sys: 4.19 s, total: 1min 38s\n",
      "Wall time: 26.7 s\n"
     ]
    },
    {
     "data": {
      "text/plain": [
       "0.787"
      ]
     },
     "execution_count": 21,
     "metadata": {},
     "output_type": "execute_result"
    }
   ],
   "source": [
    "%%time\n",
    "# Модель с подобранными гиперпараметрами\n",
    "get_f1_valid(LogisticRegression(max_iter=2000, C=10, random_state=SEED), \n",
    "             X=features_train_vect, \n",
    "             y=target_train, \n",
    "             X_test=features_valid_vect, \n",
    "             y_test=target_valid\n",
    "            )"
   ]
  },
  {
   "cell_type": "markdown",
   "metadata": {},
   "source": [
    "Логистическая регрессия после подбора коэфицента регуляризации достигла F1=0.787"
   ]
  },
  {
   "cell_type": "markdown",
   "metadata": {},
   "source": [
    "**Вывод:** Логистическая регрессия с регуляризацией успешно справляется с поставленной задачей"
   ]
  },
  {
   "cell_type": "markdown",
   "metadata": {},
   "source": [
    "#### Решающее дерево"
   ]
  },
  {
   "cell_type": "code",
   "execution_count": 22,
   "metadata": {},
   "outputs": [
    {
     "name": "stdout",
     "output_type": "stream",
     "text": [
      "CPU times: user 13.1 s, sys: 59.7 ms, total: 13.2 s\n",
      "Wall time: 12.8 s\n"
     ]
    },
    {
     "data": {
      "text/plain": [
       "0.589"
      ]
     },
     "execution_count": 22,
     "metadata": {},
     "output_type": "execute_result"
    }
   ],
   "source": [
    "%%time\n",
    "get_f1_valid(DecisionTreeClassifier(max_depth=10, random_state=SEED), \n",
    "             X=features_train_vect, \n",
    "             y=target_train, \n",
    "             X_test=features_valid_vect, \n",
    "             y_test=target_valid\n",
    "            )"
   ]
  },
  {
   "cell_type": "code",
   "execution_count": 23,
   "metadata": {},
   "outputs": [
    {
     "name": "stdout",
     "output_type": "stream",
     "text": [
      "CPU times: user 1min 8s, sys: 108 ms, total: 1min 8s\n",
      "Wall time: 4min 22s\n"
     ]
    },
    {
     "data": {
      "text/plain": [
       "(0.698, {'max_depth': 42})"
      ]
     },
     "execution_count": 23,
     "metadata": {},
     "output_type": "execute_result"
    }
   ],
   "source": [
    "%%time\n",
    "# Подбор максимальной глубины дерева\n",
    "get_f1_cv(DecisionTreeClassifier(random_state=SEED),\n",
    "          {'max_depth': range(2,50)}\n",
    "         )"
   ]
  },
  {
   "cell_type": "code",
   "execution_count": 24,
   "metadata": {},
   "outputs": [
    {
     "name": "stdout",
     "output_type": "stream",
     "text": [
      "CPU times: user 1min 3s, sys: 22.7 ms, total: 1min 3s\n",
      "Wall time: 1min 3s\n"
     ]
    },
    {
     "data": {
      "text/plain": [
       "0.698"
      ]
     },
     "execution_count": 24,
     "metadata": {},
     "output_type": "execute_result"
    }
   ],
   "source": [
    "%%time\n",
    "# Модель с подобранными гиперпараметрами\n",
    "get_f1_valid(DecisionTreeClassifier(max_depth=42, random_state=SEED), \n",
    "             X=features_train_vect, \n",
    "             y=target_train, \n",
    "             X_test=features_valid_vect, \n",
    "             y_test=target_valid\n",
    "            )"
   ]
  },
  {
   "cell_type": "markdown",
   "metadata": {},
   "source": [
    "**Вывод:** С помощью решающего дерева не удаётся добиться заданного качества классификации"
   ]
  },
  {
   "cell_type": "markdown",
   "metadata": {},
   "source": [
    "### Случайный лес"
   ]
  },
  {
   "cell_type": "markdown",
   "metadata": {},
   "source": [
    "Преобразуем функцию get_f1_cv в функцию get_forest_f1_cv специально для случайного леса"
   ]
  },
  {
   "cell_type": "code",
   "execution_count": 25,
   "metadata": {},
   "outputs": [],
   "source": [
    "def get_forest_f1_cv(model, \n",
    "              parametrs, \n",
    "              X=vstack((features_train_vect, features_valid_vect)), \n",
    "              y=pd.concat([target_train, target_valid])):\n",
    "    \"\"\" Принимаем модель,\n",
    "        возвращаем f1 \n",
    "    \"\"\"\n",
    "    validation_set_indexes = [-1]*features_train_vect.shape[0] + [0]*features_valid_vect.shape[0]\n",
    "    ps = PredefinedSplit(test_fold=validation_set_indexes)\n",
    "    \n",
    "    rs = GridSearchCV(model, \n",
    "                      parametrs, \n",
    "                      scoring='f1', \n",
    "                      cv=ps,\n",
    "                      n_jobs=-1\n",
    "                     )\n",
    "    rs.fit(X, y)\n",
    "    \n",
    "    return round(rs.best_score_, 3), rs.best_params_"
   ]
  },
  {
   "cell_type": "code",
   "execution_count": 26,
   "metadata": {
    "scrolled": true
   },
   "outputs": [
    {
     "name": "stdout",
     "output_type": "stream",
     "text": [
      "CPU times: user 40.1 s, sys: 140 ms, total: 40.2 s\n",
      "Wall time: 4min 55s\n"
     ]
    },
    {
     "data": {
      "text/plain": [
       "(0.274, {'max_depth': 50, 'n_estimators': 50})"
      ]
     },
     "execution_count": 26,
     "metadata": {},
     "output_type": "execute_result"
    }
   ],
   "source": [
    "%%time\n",
    "# Подбор максимальной глубины дерева и количества деревьев\n",
    "forest_params = {'n_estimators':range(50,111,30),\n",
    "                'max_depth': range(30,51,10),\n",
    "}\n",
    "\n",
    "get_forest_f1_cv(RandomForestClassifier(random_state=SEED),\n",
    "                 forest_params\n",
    "                )"
   ]
  },
  {
   "cell_type": "markdown",
   "metadata": {},
   "source": [
    "**Вывод:** Модель случайный лес совсем не подошла для этой задачи."
   ]
  },
  {
   "cell_type": "markdown",
   "metadata": {},
   "source": [
    "### Тестирование\n",
    "\n",
    "Протестируем лучшую модель на тестовой выборке."
   ]
  },
  {
   "cell_type": "code",
   "execution_count": 27,
   "metadata": {},
   "outputs": [
    {
     "name": "stdout",
     "output_type": "stream",
     "text": [
      "CPU times: user 1min 35s, sys: 3.96 s, total: 1min 39s\n",
      "Wall time: 29.1 s\n"
     ]
    },
    {
     "data": {
      "text/plain": [
       "0.767"
      ]
     },
     "execution_count": 27,
     "metadata": {},
     "output_type": "execute_result"
    }
   ],
   "source": [
    "%%time\n",
    "get_f1_valid(LogisticRegression(max_iter=2000, C=10, random_state=SEED),\n",
    "             X=vstack((features_train_vect, features_valid_vect)), \n",
    "             y=pd.concat([target_train, target_valid]),\n",
    "             X_test=features_test_vect,\n",
    "             y_test=target_test\n",
    "            )"
   ]
  },
  {
   "cell_type": "markdown",
   "metadata": {},
   "source": [
    "**Вывод**:\n",
    "Модель Логистическая регрессия и на тестовой выборке показала приемлемое качество. "
   ]
  },
  {
   "cell_type": "markdown",
   "metadata": {},
   "source": [
    "## Вывод"
   ]
  },
  {
   "cell_type": "markdown",
   "metadata": {},
   "source": [
    "В проекте был применен подход к преобразованию текстовых данных векторизация TF-IDF. \n",
    "\n",
    "Были обучены и оценены модели логистическая регрессия, решающее дерево и случайный лес.\n",
    "\n",
    "По качеству и скорости обучения лучше всех показала Логистическая регрессия с коэфициентом *С=10* и *F1=0.767*. Она единственная из рассмотренных моделей достигла заданного заказчиком метрики качества *F1* = 0.75\n"
   ]
  }
 ],
 "metadata": {
  "ExecuteTimeLog": [
   {
    "duration": 418,
    "start_time": "2022-06-10T15:57:49.231Z"
   },
   {
    "duration": 84,
    "start_time": "2022-06-10T15:58:12.294Z"
   },
   {
    "duration": 15,
    "start_time": "2022-06-10T15:58:43.932Z"
   },
   {
    "duration": 3305,
    "start_time": "2022-06-10T15:58:55.407Z"
   },
   {
    "duration": 14,
    "start_time": "2022-06-10T15:59:00.857Z"
   },
   {
    "duration": 6,
    "start_time": "2022-06-10T16:00:55.342Z"
   },
   {
    "duration": 30,
    "start_time": "2022-06-10T16:01:02.292Z"
   },
   {
    "duration": 204,
    "start_time": "2022-06-10T16:01:16.858Z"
   },
   {
    "duration": 169,
    "start_time": "2022-06-10T16:01:23.276Z"
   },
   {
    "duration": 13,
    "start_time": "2022-06-10T16:04:49.174Z"
   },
   {
    "duration": 526,
    "start_time": "2022-06-10T16:05:28.913Z"
   },
   {
    "duration": 113,
    "start_time": "2022-06-10T16:05:37.666Z"
   },
   {
    "duration": 9,
    "start_time": "2022-06-10T16:08:56.532Z"
   },
   {
    "duration": 37,
    "start_time": "2022-06-10T16:10:01.140Z"
   },
   {
    "duration": 7,
    "start_time": "2022-06-10T16:10:07.946Z"
   },
   {
    "duration": 20,
    "start_time": "2022-06-10T16:10:10.874Z"
   },
   {
    "duration": 17,
    "start_time": "2022-06-10T16:17:08.296Z"
   },
   {
    "duration": 2,
    "start_time": "2022-06-10T16:17:12.787Z"
   },
   {
    "duration": 904,
    "start_time": "2022-06-10T16:18:30.211Z"
   },
   {
    "duration": 53,
    "start_time": "2022-06-10T16:19:43.912Z"
   },
   {
    "duration": 2,
    "start_time": "2022-06-10T16:19:52.858Z"
   },
   {
    "duration": 14,
    "start_time": "2022-06-10T16:20:41.089Z"
   },
   {
    "duration": 3,
    "start_time": "2022-06-10T16:21:07.638Z"
   },
   {
    "duration": 7659,
    "start_time": "2022-06-10T16:22:27.024Z"
   },
   {
    "duration": 4,
    "start_time": "2022-06-10T16:23:03.007Z"
   },
   {
    "duration": 5,
    "start_time": "2022-06-10T16:24:55.658Z"
   },
   {
    "duration": 48,
    "start_time": "2022-06-10T16:27:57.143Z"
   },
   {
    "duration": 3,
    "start_time": "2022-06-10T16:29:12.147Z"
   },
   {
    "duration": 52,
    "start_time": "2022-06-10T16:31:53.255Z"
   },
   {
    "duration": 4,
    "start_time": "2022-06-10T16:32:10.147Z"
   },
   {
    "duration": 5,
    "start_time": "2022-06-10T16:32:17.477Z"
   },
   {
    "duration": 90,
    "start_time": "2022-06-10T16:33:10.344Z"
   },
   {
    "duration": 89,
    "start_time": "2022-06-10T16:33:36.575Z"
   },
   {
    "duration": 79,
    "start_time": "2022-06-10T16:33:59.330Z"
   },
   {
    "duration": 3,
    "start_time": "2022-06-10T16:37:39.943Z"
   },
   {
    "duration": 14,
    "start_time": "2022-06-10T16:39:06.565Z"
   },
   {
    "duration": 4,
    "start_time": "2022-06-10T16:39:13.946Z"
   },
   {
    "duration": 3,
    "start_time": "2022-06-10T16:39:26.554Z"
   },
   {
    "duration": 41,
    "start_time": "2022-06-10T16:39:32.185Z"
   },
   {
    "duration": 8,
    "start_time": "2022-06-10T16:39:37.796Z"
   },
   {
    "duration": 3,
    "start_time": "2022-06-10T16:39:41.259Z"
   },
   {
    "duration": 11,
    "start_time": "2022-06-10T16:39:42.195Z"
   },
   {
    "duration": 94,
    "start_time": "2022-06-10T16:40:27.548Z"
   },
   {
    "duration": 4,
    "start_time": "2022-06-10T16:40:29.444Z"
   },
   {
    "duration": 13,
    "start_time": "2022-06-10T16:40:30.107Z"
   },
   {
    "duration": 45609,
    "start_time": "2022-06-10T16:40:42.357Z"
   },
   {
    "duration": 3,
    "start_time": "2022-06-10T16:41:55.687Z"
   },
   {
    "duration": 42266,
    "start_time": "2022-06-10T16:41:56.262Z"
   },
   {
    "duration": 3,
    "start_time": "2022-06-10T16:42:41.271Z"
   },
   {
    "duration": 45990,
    "start_time": "2022-06-10T16:42:41.847Z"
   },
   {
    "duration": 3,
    "start_time": "2022-06-10T16:43:59.619Z"
   },
   {
    "duration": 41,
    "start_time": "2022-06-10T17:15:00.839Z"
   },
   {
    "duration": 1135,
    "start_time": "2022-06-10T17:15:03.198Z"
   },
   {
    "duration": 3165,
    "start_time": "2022-06-10T17:15:04.334Z"
   },
   {
    "duration": 11,
    "start_time": "2022-06-10T17:15:07.501Z"
   },
   {
    "duration": 32,
    "start_time": "2022-06-10T17:15:08.151Z"
   },
   {
    "duration": 208,
    "start_time": "2022-06-10T17:15:08.858Z"
   },
   {
    "duration": 272,
    "start_time": "2022-06-10T17:15:09.126Z"
   },
   {
    "duration": 5,
    "start_time": "2022-06-10T17:15:09.400Z"
   },
   {
    "duration": 22,
    "start_time": "2022-06-10T17:15:09.421Z"
   },
   {
    "duration": 76,
    "start_time": "2022-06-10T17:15:45.175Z"
   },
   {
    "duration": 81274,
    "start_time": "2022-06-10T17:16:00.086Z"
   },
   {
    "duration": 4,
    "start_time": "2022-06-10T17:17:21.362Z"
   },
   {
    "duration": 223,
    "start_time": "2022-06-10T17:18:24.762Z"
   },
   {
    "duration": 3,
    "start_time": "2022-06-10T17:18:29.874Z"
   },
   {
    "duration": 43,
    "start_time": "2022-06-10T17:21:06.968Z"
   },
   {
    "duration": 1151,
    "start_time": "2022-06-10T17:21:19.040Z"
   },
   {
    "duration": 3019,
    "start_time": "2022-06-10T17:21:20.193Z"
   },
   {
    "duration": 12,
    "start_time": "2022-06-10T17:21:23.214Z"
   },
   {
    "duration": 28,
    "start_time": "2022-06-10T17:21:23.227Z"
   },
   {
    "duration": 206,
    "start_time": "2022-06-10T17:21:23.256Z"
   },
   {
    "duration": 249,
    "start_time": "2022-06-10T17:21:23.464Z"
   },
   {
    "duration": 13,
    "start_time": "2022-06-10T17:21:23.715Z"
   },
   {
    "duration": 21,
    "start_time": "2022-06-10T17:21:23.729Z"
   },
   {
    "duration": 77660,
    "start_time": "2022-06-10T17:21:23.751Z"
   },
   {
    "duration": 4,
    "start_time": "2022-06-10T17:22:41.413Z"
   },
   {
    "duration": 141,
    "start_time": "2022-06-10T17:22:58.169Z"
   },
   {
    "duration": 3,
    "start_time": "2022-06-10T17:23:00.163Z"
   },
   {
    "duration": 60382,
    "start_time": "2022-06-10T17:23:00.545Z"
   },
   {
    "duration": 44,
    "start_time": "2022-06-10T17:31:23.022Z"
   },
   {
    "duration": 47400,
    "start_time": "2022-06-10T17:31:32.829Z"
   },
   {
    "duration": 8675,
    "start_time": "2022-06-10T17:32:51.026Z"
   },
   {
    "duration": 4,
    "start_time": "2022-06-10T17:34:18.709Z"
   },
   {
    "duration": 41566,
    "start_time": "2022-06-10T17:34:20.868Z"
   },
   {
    "duration": 90,
    "start_time": "2022-06-10T17:38:23.532Z"
   },
   {
    "duration": 71,
    "start_time": "2022-06-10T17:42:36.091Z"
   },
   {
    "duration": 2,
    "start_time": "2022-06-10T17:42:49.011Z"
   },
   {
    "duration": 9,
    "start_time": "2022-06-10T17:44:32.111Z"
   },
   {
    "duration": 10,
    "start_time": "2022-06-10T17:44:53.759Z"
   },
   {
    "duration": 2,
    "start_time": "2022-06-10T17:45:07.287Z"
   },
   {
    "duration": 137,
    "start_time": "2022-06-10T17:45:16.422Z"
   },
   {
    "duration": 118,
    "start_time": "2022-06-10T17:45:55.773Z"
   },
   {
    "duration": 80864,
    "start_time": "2022-06-10T17:46:01.525Z"
   },
   {
    "duration": 5,
    "start_time": "2022-06-10T17:47:22.391Z"
   },
   {
    "duration": 4,
    "start_time": "2022-06-10T17:47:55.645Z"
   },
   {
    "duration": 6,
    "start_time": "2022-06-10T17:48:04.196Z"
   },
   {
    "duration": 3,
    "start_time": "2022-06-10T17:54:29.664Z"
   },
   {
    "duration": 66191,
    "start_time": "2022-06-10T17:56:47.073Z"
   },
   {
    "duration": 5,
    "start_time": "2022-06-10T17:58:10.597Z"
   },
   {
    "duration": 4,
    "start_time": "2022-06-10T17:58:21.181Z"
   },
   {
    "duration": 12985,
    "start_time": "2022-06-10T17:58:56.312Z"
   },
   {
    "duration": 6,
    "start_time": "2022-06-10T17:59:21.904Z"
   },
   {
    "duration": 14044,
    "start_time": "2022-06-10T17:59:35.758Z"
   },
   {
    "duration": 5,
    "start_time": "2022-06-10T17:59:49.804Z"
   },
   {
    "duration": 68181,
    "start_time": "2022-06-10T18:00:01.615Z"
   },
   {
    "duration": 67878,
    "start_time": "2022-06-10T18:01:23.594Z"
   },
   {
    "duration": 5,
    "start_time": "2022-06-10T18:02:31.474Z"
   },
   {
    "duration": 5,
    "start_time": "2022-06-10T18:03:09.312Z"
   },
   {
    "duration": 47,
    "start_time": "2022-06-10T18:03:23.123Z"
   },
   {
    "duration": 51353,
    "start_time": "2022-06-10T18:03:46.150Z"
   },
   {
    "duration": 4,
    "start_time": "2022-06-10T18:04:43.648Z"
   },
   {
    "duration": 44950,
    "start_time": "2022-06-10T18:04:45.087Z"
   },
   {
    "duration": 45,
    "start_time": "2022-06-10T18:08:41.094Z"
   },
   {
    "duration": 7222,
    "start_time": "2022-06-10T18:08:46.965Z"
   },
   {
    "duration": 4,
    "start_time": "2022-06-10T18:13:53.108Z"
   },
   {
    "duration": 3,
    "start_time": "2022-06-10T18:14:02.238Z"
   },
   {
    "duration": 49657,
    "start_time": "2022-06-10T18:14:03.173Z"
   },
   {
    "duration": 6,
    "start_time": "2022-06-10T18:17:08.795Z"
   },
   {
    "duration": 9,
    "start_time": "2022-06-10T18:17:17.091Z"
   },
   {
    "duration": 118,
    "start_time": "2022-06-10T18:17:25.123Z"
   },
   {
    "duration": 4,
    "start_time": "2022-06-10T18:21:51.621Z"
   },
   {
    "duration": 9,
    "start_time": "2022-06-10T18:28:06.330Z"
   },
   {
    "duration": 3,
    "start_time": "2022-06-10T18:28:58.039Z"
   },
   {
    "duration": 9,
    "start_time": "2022-06-10T18:29:26.558Z"
   },
   {
    "duration": 6,
    "start_time": "2022-06-10T18:30:31.135Z"
   },
   {
    "duration": 5,
    "start_time": "2022-06-10T18:30:38.897Z"
   },
   {
    "duration": 3,
    "start_time": "2022-06-10T18:30:53.289Z"
   },
   {
    "duration": 5,
    "start_time": "2022-06-10T18:30:53.971Z"
   },
   {
    "duration": 6,
    "start_time": "2022-06-10T18:31:31.032Z"
   },
   {
    "duration": 4,
    "start_time": "2022-06-10T18:31:48.387Z"
   },
   {
    "duration": 5,
    "start_time": "2022-06-10T18:31:48.626Z"
   },
   {
    "duration": 4,
    "start_time": "2022-06-10T18:31:49.194Z"
   },
   {
    "duration": 4,
    "start_time": "2022-06-10T18:32:11.884Z"
   },
   {
    "duration": 19,
    "start_time": "2022-06-10T18:32:15.936Z"
   },
   {
    "duration": 3,
    "start_time": "2022-06-10T18:32:17.683Z"
   },
   {
    "duration": 3,
    "start_time": "2022-06-10T18:32:38.613Z"
   },
   {
    "duration": 633,
    "start_time": "2022-06-10T18:32:39.261Z"
   },
   {
    "duration": 7,
    "start_time": "2022-06-10T18:32:39.896Z"
   },
   {
    "duration": 37,
    "start_time": "2022-06-10T18:32:39.904Z"
   },
   {
    "duration": 201,
    "start_time": "2022-06-10T18:32:39.942Z"
   },
   {
    "duration": 115,
    "start_time": "2022-06-10T18:32:40.154Z"
   },
   {
    "duration": 6,
    "start_time": "2022-06-10T18:32:40.893Z"
   },
   {
    "duration": 18,
    "start_time": "2022-06-10T18:32:41.116Z"
   },
   {
    "duration": 4,
    "start_time": "2022-06-10T18:32:42.021Z"
   },
   {
    "duration": 4,
    "start_time": "2022-06-10T18:32:48.997Z"
   },
   {
    "duration": 60012,
    "start_time": "2022-06-10T18:32:56.355Z"
   },
   {
    "duration": 5,
    "start_time": "2022-06-10T18:35:19.879Z"
   },
   {
    "duration": 4,
    "start_time": "2022-06-10T18:35:20.262Z"
   },
   {
    "duration": 12,
    "start_time": "2022-06-10T18:35:23.709Z"
   },
   {
    "duration": 3,
    "start_time": "2022-06-10T18:35:29.087Z"
   },
   {
    "duration": 6549,
    "start_time": "2022-06-10T18:35:30.090Z"
   },
   {
    "duration": 3,
    "start_time": "2022-06-10T18:36:37.785Z"
   },
   {
    "duration": 3,
    "start_time": "2022-06-10T18:36:40.690Z"
   },
   {
    "duration": 43617,
    "start_time": "2022-06-10T18:36:42.514Z"
   },
   {
    "duration": 19,
    "start_time": "2022-06-10T18:38:39.182Z"
   },
   {
    "duration": 205118,
    "start_time": "2022-06-10T18:39:27.719Z"
   },
   {
    "duration": 36,
    "start_time": "2022-06-10T18:51:42.699Z"
   },
   {
    "duration": 7120,
    "start_time": "2022-06-10T18:52:09.675Z"
   },
   {
    "duration": 11,
    "start_time": "2022-06-10T18:52:25.787Z"
   },
   {
    "duration": 6556,
    "start_time": "2022-06-10T18:53:17.340Z"
   },
   {
    "duration": 9,
    "start_time": "2022-06-10T18:53:23.898Z"
   },
   {
    "duration": 17,
    "start_time": "2022-06-10T18:54:10.030Z"
   },
   {
    "duration": 8,
    "start_time": "2022-06-10T18:54:43.502Z"
   },
   {
    "duration": 14,
    "start_time": "2022-06-10T18:54:59.879Z"
   },
   {
    "duration": 9,
    "start_time": "2022-06-10T18:55:17.136Z"
   },
   {
    "duration": 13,
    "start_time": "2022-06-10T18:57:39.501Z"
   },
   {
    "duration": 6508,
    "start_time": "2022-06-10T18:58:34.459Z"
   },
   {
    "duration": 46,
    "start_time": "2022-06-10T19:00:05.025Z"
   },
   {
    "duration": 1122,
    "start_time": "2022-06-10T19:00:25.251Z"
   },
   {
    "duration": 3031,
    "start_time": "2022-06-10T19:00:26.375Z"
   },
   {
    "duration": 11,
    "start_time": "2022-06-10T19:00:29.408Z"
   },
   {
    "duration": 32,
    "start_time": "2022-06-10T19:00:29.421Z"
   },
   {
    "duration": 201,
    "start_time": "2022-06-10T19:00:29.455Z"
   },
   {
    "duration": 256,
    "start_time": "2022-06-10T19:00:29.658Z"
   },
   {
    "duration": 5,
    "start_time": "2022-06-10T19:00:29.925Z"
   },
   {
    "duration": 28,
    "start_time": "2022-06-10T19:00:29.932Z"
   },
   {
    "duration": 60797,
    "start_time": "2022-06-10T19:00:29.962Z"
   },
   {
    "duration": 6,
    "start_time": "2022-06-10T19:01:30.761Z"
   },
   {
    "duration": 22,
    "start_time": "2022-06-10T19:01:30.768Z"
   },
   {
    "duration": 11,
    "start_time": "2022-06-10T19:01:30.792Z"
   },
   {
    "duration": 39162,
    "start_time": "2022-06-10T19:07:29.716Z"
   },
   {
    "duration": 3,
    "start_time": "2022-06-10T19:08:08.879Z"
   },
   {
    "duration": 4,
    "start_time": "2022-06-10T19:08:39.051Z"
   },
   {
    "duration": 139751,
    "start_time": "2022-06-10T19:08:40.275Z"
   },
   {
    "duration": 21122,
    "start_time": "2022-06-10T19:15:02.948Z"
   },
   {
    "duration": 140952,
    "start_time": "2022-06-10T19:15:39.434Z"
   },
   {
    "duration": 6335,
    "start_time": "2022-06-10T19:19:34.538Z"
   },
   {
    "duration": 139074,
    "start_time": "2022-06-10T19:19:45.544Z"
   },
   {
    "duration": 135431,
    "start_time": "2022-06-10T19:22:38.589Z"
   },
   {
    "duration": 52179,
    "start_time": "2022-06-10T19:25:53.609Z"
   },
   {
    "duration": 93,
    "start_time": "2022-06-10T19:29:08.501Z"
   },
   {
    "duration": 200758,
    "start_time": "2022-06-10T19:29:56.195Z"
   },
   {
    "duration": 10,
    "start_time": "2022-06-10T19:33:16.955Z"
   },
   {
    "duration": 3,
    "start_time": "2022-06-10T19:35:33.349Z"
   },
   {
    "duration": 10,
    "start_time": "2022-06-10T19:35:43.784Z"
   },
   {
    "duration": 10,
    "start_time": "2022-06-10T19:35:53.220Z"
   },
   {
    "duration": 5,
    "start_time": "2022-06-10T19:36:31.680Z"
   },
   {
    "duration": 291,
    "start_time": "2022-06-10T19:37:57.567Z"
   },
   {
    "duration": 1126,
    "start_time": "2022-06-10T19:39:39.792Z"
   },
   {
    "duration": 3023,
    "start_time": "2022-06-10T19:39:40.920Z"
   },
   {
    "duration": 15,
    "start_time": "2022-06-10T19:39:43.945Z"
   },
   {
    "duration": 37,
    "start_time": "2022-06-10T19:39:43.961Z"
   },
   {
    "duration": 204,
    "start_time": "2022-06-10T19:39:44.000Z"
   },
   {
    "duration": 334,
    "start_time": "2022-06-10T19:39:44.205Z"
   },
   {
    "duration": 5,
    "start_time": "2022-06-10T19:39:44.540Z"
   },
   {
    "duration": 19,
    "start_time": "2022-06-10T19:39:44.546Z"
   },
   {
    "duration": 58729,
    "start_time": "2022-06-10T19:39:44.566Z"
   },
   {
    "duration": 5,
    "start_time": "2022-06-10T19:40:43.297Z"
   },
   {
    "duration": 23,
    "start_time": "2022-06-10T19:40:43.303Z"
   },
   {
    "duration": 34,
    "start_time": "2022-06-10T19:40:43.327Z"
   },
   {
    "duration": 6395,
    "start_time": "2022-06-10T19:40:43.363Z"
   },
   {
    "duration": 2,
    "start_time": "2022-06-10T19:40:49.760Z"
   },
   {
    "duration": 31,
    "start_time": "2022-06-10T19:40:49.764Z"
   },
   {
    "duration": 199859,
    "start_time": "2022-06-10T19:40:49.797Z"
   },
   {
    "duration": 148,
    "start_time": "2022-06-10T19:50:26.033Z"
   },
   {
    "duration": 72,
    "start_time": "2022-06-10T19:51:44.134Z"
   },
   {
    "duration": 4,
    "start_time": "2022-06-10T19:52:46.992Z"
   },
   {
    "duration": 5,
    "start_time": "2022-06-10T19:53:12.578Z"
   },
   {
    "duration": 14,
    "start_time": "2022-06-10T19:54:20.626Z"
   },
   {
    "duration": 9,
    "start_time": "2022-06-10T19:54:48.261Z"
   },
   {
    "duration": 9,
    "start_time": "2022-06-10T19:54:56.581Z"
   },
   {
    "duration": 9,
    "start_time": "2022-06-10T19:55:03.411Z"
   },
   {
    "duration": 3,
    "start_time": "2022-06-10T19:55:34.183Z"
   },
   {
    "duration": 19,
    "start_time": "2022-06-10T19:55:45.261Z"
   },
   {
    "duration": 20,
    "start_time": "2022-06-10T19:55:52.693Z"
   },
   {
    "duration": 247835,
    "start_time": "2022-06-10T19:56:04.366Z"
   },
   {
    "duration": 1300,
    "start_time": "2022-06-11T08:56:44.717Z"
   },
   {
    "duration": 2745,
    "start_time": "2022-06-11T08:56:46.019Z"
   },
   {
    "duration": 12,
    "start_time": "2022-06-11T08:56:48.766Z"
   },
   {
    "duration": 36,
    "start_time": "2022-06-11T08:56:48.780Z"
   },
   {
    "duration": 237,
    "start_time": "2022-06-11T08:56:48.818Z"
   },
   {
    "duration": 575,
    "start_time": "2022-06-11T08:56:49.057Z"
   },
   {
    "duration": 9,
    "start_time": "2022-06-11T08:56:49.644Z"
   },
   {
    "duration": 61,
    "start_time": "2022-06-11T08:56:49.655Z"
   },
   {
    "duration": 69989,
    "start_time": "2022-06-11T09:15:24.852Z"
   },
   {
    "duration": 7,
    "start_time": "2022-06-11T09:16:34.846Z"
   },
   {
    "duration": 12,
    "start_time": "2022-06-11T09:16:34.854Z"
   },
   {
    "duration": 4,
    "start_time": "2022-06-11T09:17:41.757Z"
   },
   {
    "duration": 73700,
    "start_time": "2022-06-11T09:17:42.772Z"
   },
   {
    "duration": 3,
    "start_time": "2022-06-11T09:19:05.967Z"
   },
   {
    "duration": 5,
    "start_time": "2022-06-11T09:19:06.199Z"
   },
   {
    "duration": 28738,
    "start_time": "2022-06-11T09:19:08.695Z"
   },
   {
    "duration": 14616,
    "start_time": "2022-06-11T09:21:10.801Z"
   },
   {
    "duration": 1261,
    "start_time": "2022-06-11T09:22:36.443Z"
   },
   {
    "duration": 2613,
    "start_time": "2022-06-11T09:22:37.706Z"
   },
   {
    "duration": 22,
    "start_time": "2022-06-11T09:22:40.320Z"
   },
   {
    "duration": 34,
    "start_time": "2022-06-11T09:22:40.344Z"
   },
   {
    "duration": 226,
    "start_time": "2022-06-11T09:22:40.380Z"
   },
   {
    "duration": 373,
    "start_time": "2022-06-11T09:22:40.608Z"
   },
   {
    "duration": 6,
    "start_time": "2022-06-11T09:22:40.983Z"
   },
   {
    "duration": 38,
    "start_time": "2022-06-11T09:22:40.990Z"
   },
   {
    "duration": 76257,
    "start_time": "2022-06-11T09:22:41.031Z"
   },
   {
    "duration": 5,
    "start_time": "2022-06-11T09:23:57.290Z"
   },
   {
    "duration": 8,
    "start_time": "2022-06-11T09:23:57.297Z"
   },
   {
    "duration": 26,
    "start_time": "2022-06-11T09:23:57.307Z"
   },
   {
    "duration": 76405,
    "start_time": "2022-06-11T09:23:57.334Z"
   },
   {
    "duration": 6,
    "start_time": "2022-06-11T09:25:13.742Z"
   },
   {
    "duration": 10,
    "start_time": "2022-06-11T09:25:13.749Z"
   },
   {
    "duration": 1284,
    "start_time": "2022-06-11T09:27:07.101Z"
   },
   {
    "duration": 2589,
    "start_time": "2022-06-11T09:27:08.386Z"
   },
   {
    "duration": 13,
    "start_time": "2022-06-11T09:27:10.977Z"
   },
   {
    "duration": 33,
    "start_time": "2022-06-11T09:27:10.991Z"
   },
   {
    "duration": 231,
    "start_time": "2022-06-11T09:27:11.026Z"
   },
   {
    "duration": 404,
    "start_time": "2022-06-11T09:27:11.258Z"
   },
   {
    "duration": 6,
    "start_time": "2022-06-11T09:27:11.663Z"
   },
   {
    "duration": 21,
    "start_time": "2022-06-11T09:27:11.671Z"
   },
   {
    "duration": 68074,
    "start_time": "2022-06-11T09:27:11.693Z"
   },
   {
    "duration": 5,
    "start_time": "2022-06-11T09:28:19.769Z"
   },
   {
    "duration": 7,
    "start_time": "2022-06-11T09:28:19.775Z"
   },
   {
    "duration": 6,
    "start_time": "2022-06-11T09:28:19.783Z"
   },
   {
    "duration": 40349,
    "start_time": "2022-06-11T09:28:19.791Z"
   },
   {
    "duration": 8,
    "start_time": "2022-06-11T09:29:00.146Z"
   },
   {
    "duration": 29,
    "start_time": "2022-06-11T09:29:00.156Z"
   },
   {
    "duration": 1276,
    "start_time": "2022-06-11T09:31:26.352Z"
   },
   {
    "duration": 2626,
    "start_time": "2022-06-11T09:31:27.630Z"
   },
   {
    "duration": 13,
    "start_time": "2022-06-11T09:31:30.257Z"
   },
   {
    "duration": 68,
    "start_time": "2022-06-11T09:31:30.271Z"
   },
   {
    "duration": 228,
    "start_time": "2022-06-11T09:31:30.342Z"
   },
   {
    "duration": 381,
    "start_time": "2022-06-11T09:31:30.572Z"
   },
   {
    "duration": 6,
    "start_time": "2022-06-11T09:31:30.955Z"
   },
   {
    "duration": 26,
    "start_time": "2022-06-11T09:31:30.962Z"
   },
   {
    "duration": 68094,
    "start_time": "2022-06-11T09:31:30.990Z"
   },
   {
    "duration": 6,
    "start_time": "2022-06-11T09:32:39.086Z"
   },
   {
    "duration": 7,
    "start_time": "2022-06-11T09:32:39.094Z"
   },
   {
    "duration": 5,
    "start_time": "2022-06-11T09:32:39.103Z"
   },
   {
    "duration": 39881,
    "start_time": "2022-06-11T09:32:39.109Z"
   },
   {
    "duration": 3,
    "start_time": "2022-06-11T09:33:18.992Z"
   },
   {
    "duration": 12,
    "start_time": "2022-06-11T09:33:18.997Z"
   },
   {
    "duration": 25039,
    "start_time": "2022-06-11T09:33:19.010Z"
   },
   {
    "duration": 14275,
    "start_time": "2022-06-11T09:39:19.090Z"
   },
   {
    "duration": 77184,
    "start_time": "2022-06-11T09:44:06.197Z"
   },
   {
    "duration": 3,
    "start_time": "2022-06-11T09:45:23.382Z"
   },
   {
    "duration": 9,
    "start_time": "2022-06-11T09:45:23.387Z"
   },
   {
    "duration": 27946,
    "start_time": "2022-06-11T09:45:23.398Z"
   },
   {
    "duration": 12809,
    "start_time": "2022-06-11T09:46:03.412Z"
   },
   {
    "duration": 1244,
    "start_time": "2022-06-11T09:47:20.174Z"
   },
   {
    "duration": 2591,
    "start_time": "2022-06-11T09:47:21.420Z"
   },
   {
    "duration": 13,
    "start_time": "2022-06-11T09:47:24.012Z"
   },
   {
    "duration": 50,
    "start_time": "2022-06-11T09:47:24.026Z"
   },
   {
    "duration": 229,
    "start_time": "2022-06-11T09:47:24.078Z"
   },
   {
    "duration": 375,
    "start_time": "2022-06-11T09:47:24.308Z"
   },
   {
    "duration": 6,
    "start_time": "2022-06-11T09:47:24.684Z"
   },
   {
    "duration": 26,
    "start_time": "2022-06-11T09:47:24.692Z"
   },
   {
    "duration": 75245,
    "start_time": "2022-06-11T09:47:24.727Z"
   },
   {
    "duration": 5,
    "start_time": "2022-06-11T09:48:39.974Z"
   },
   {
    "duration": 10,
    "start_time": "2022-06-11T09:48:39.980Z"
   },
   {
    "duration": 8,
    "start_time": "2022-06-11T09:48:39.991Z"
   },
   {
    "duration": 75236,
    "start_time": "2022-06-11T09:48:40.000Z"
   },
   {
    "duration": 4,
    "start_time": "2022-06-11T09:49:55.239Z"
   },
   {
    "duration": 1272,
    "start_time": "2022-06-11T09:51:42.784Z"
   },
   {
    "duration": 2635,
    "start_time": "2022-06-11T09:51:44.059Z"
   },
   {
    "duration": 12,
    "start_time": "2022-06-11T09:51:46.696Z"
   },
   {
    "duration": 36,
    "start_time": "2022-06-11T09:51:46.709Z"
   },
   {
    "duration": 213,
    "start_time": "2022-06-11T09:51:46.747Z"
   },
   {
    "duration": 388,
    "start_time": "2022-06-11T09:51:46.962Z"
   },
   {
    "duration": 6,
    "start_time": "2022-06-11T09:51:47.351Z"
   },
   {
    "duration": 21,
    "start_time": "2022-06-11T09:51:47.358Z"
   },
   {
    "duration": 68336,
    "start_time": "2022-06-11T09:51:47.380Z"
   },
   {
    "duration": 19,
    "start_time": "2022-06-11T09:52:55.718Z"
   },
   {
    "duration": 5,
    "start_time": "2022-06-11T09:52:55.739Z"
   },
   {
    "duration": 9,
    "start_time": "2022-06-11T09:52:55.745Z"
   },
   {
    "duration": 75848,
    "start_time": "2022-06-11T09:52:55.756Z"
   },
   {
    "duration": 3,
    "start_time": "2022-06-11T09:54:11.606Z"
   },
   {
    "duration": 30,
    "start_time": "2022-06-11T09:54:11.610Z"
   },
   {
    "duration": 28707,
    "start_time": "2022-06-11T09:54:11.641Z"
   },
   {
    "duration": 78204,
    "start_time": "2022-06-11T09:55:28.757Z"
   },
   {
    "duration": 3,
    "start_time": "2022-06-11T09:56:46.963Z"
   },
   {
    "duration": 26,
    "start_time": "2022-06-11T09:56:46.968Z"
   },
   {
    "duration": 27244,
    "start_time": "2022-06-11T09:56:46.996Z"
   },
   {
    "duration": 1231,
    "start_time": "2022-06-11T16:54:01.880Z"
   },
   {
    "duration": 3091,
    "start_time": "2022-06-11T16:54:03.113Z"
   },
   {
    "duration": 12,
    "start_time": "2022-06-11T16:54:06.206Z"
   },
   {
    "duration": 30,
    "start_time": "2022-06-11T16:54:06.219Z"
   },
   {
    "duration": 220,
    "start_time": "2022-06-11T16:54:06.250Z"
   },
   {
    "duration": 527,
    "start_time": "2022-06-11T16:54:06.472Z"
   },
   {
    "duration": 6,
    "start_time": "2022-06-11T16:54:07.001Z"
   },
   {
    "duration": 50,
    "start_time": "2022-06-11T16:54:07.008Z"
   },
   {
    "duration": 105,
    "start_time": "2022-06-11T16:54:29.335Z"
   },
   {
    "duration": 59920,
    "start_time": "2022-06-11T16:54:50.666Z"
   },
   {
    "duration": 5,
    "start_time": "2022-06-11T16:55:50.588Z"
   },
   {
    "duration": 5,
    "start_time": "2022-06-11T16:55:50.595Z"
   },
   {
    "duration": 4,
    "start_time": "2022-06-11T16:56:26.083Z"
   },
   {
    "duration": 51964,
    "start_time": "2022-06-11T16:56:32.413Z"
   },
   {
    "duration": 3,
    "start_time": "2022-06-11T16:57:33.337Z"
   },
   {
    "duration": 5,
    "start_time": "2022-06-11T16:57:33.883Z"
   },
   {
    "duration": 31406,
    "start_time": "2022-06-11T16:57:36.022Z"
   },
   {
    "duration": 11277,
    "start_time": "2022-06-11T16:58:12.239Z"
   },
   {
    "duration": 1209,
    "start_time": "2022-06-11T16:59:51.715Z"
   },
   {
    "duration": 2819,
    "start_time": "2022-06-11T16:59:52.926Z"
   },
   {
    "duration": 12,
    "start_time": "2022-06-11T16:59:55.747Z"
   },
   {
    "duration": 26,
    "start_time": "2022-06-11T16:59:55.761Z"
   },
   {
    "duration": 200,
    "start_time": "2022-06-11T16:59:55.789Z"
   },
   {
    "duration": 321,
    "start_time": "2022-06-11T16:59:55.991Z"
   },
   {
    "duration": 13,
    "start_time": "2022-06-11T16:59:56.314Z"
   },
   {
    "duration": 19,
    "start_time": "2022-06-11T16:59:56.329Z"
   },
   {
    "duration": 61898,
    "start_time": "2022-06-11T16:59:56.349Z"
   },
   {
    "duration": 5,
    "start_time": "2022-06-11T17:00:58.250Z"
   },
   {
    "duration": 7,
    "start_time": "2022-06-11T17:00:58.257Z"
   },
   {
    "duration": 7,
    "start_time": "2022-06-11T17:00:58.266Z"
   },
   {
    "duration": 116,
    "start_time": "2022-06-11T17:01:14.755Z"
   },
   {
    "duration": 2,
    "start_time": "2022-06-11T17:01:26.379Z"
   },
   {
    "duration": 51135,
    "start_time": "2022-06-11T17:01:27.368Z"
   },
   {
    "duration": 3,
    "start_time": "2022-06-11T17:02:23.247Z"
   },
   {
    "duration": 4,
    "start_time": "2022-06-11T17:02:24.312Z"
   },
   {
    "duration": 73,
    "start_time": "2022-06-11T17:04:33.938Z"
   },
   {
    "duration": 1242,
    "start_time": "2022-06-11T17:04:54.532Z"
   },
   {
    "duration": 2883,
    "start_time": "2022-06-11T17:04:55.776Z"
   },
   {
    "duration": 13,
    "start_time": "2022-06-11T17:04:58.661Z"
   },
   {
    "duration": 32,
    "start_time": "2022-06-11T17:04:58.675Z"
   },
   {
    "duration": 217,
    "start_time": "2022-06-11T17:04:58.709Z"
   },
   {
    "duration": 339,
    "start_time": "2022-06-11T17:04:58.927Z"
   },
   {
    "duration": 6,
    "start_time": "2022-06-11T17:04:59.267Z"
   },
   {
    "duration": 22,
    "start_time": "2022-06-11T17:04:59.274Z"
   },
   {
    "duration": 62305,
    "start_time": "2022-06-11T17:04:59.297Z"
   },
   {
    "duration": 5,
    "start_time": "2022-06-11T17:06:01.604Z"
   },
   {
    "duration": 18,
    "start_time": "2022-06-11T17:06:01.610Z"
   },
   {
    "duration": 5,
    "start_time": "2022-06-11T17:06:01.630Z"
   },
   {
    "duration": 19467,
    "start_time": "2022-06-11T17:06:01.637Z"
   },
   {
    "duration": 4,
    "start_time": "2022-06-11T17:06:21.106Z"
   },
   {
    "duration": 19,
    "start_time": "2022-06-11T17:06:21.111Z"
   },
   {
    "duration": 219969,
    "start_time": "2022-06-11T17:06:21.131Z"
   },
   {
    "duration": 286915,
    "start_time": "2022-06-11T17:17:35.015Z"
   },
   {
    "duration": 24322,
    "start_time": "2022-06-11T17:24:29.812Z"
   },
   {
    "duration": 10672,
    "start_time": "2022-06-11T17:24:57.826Z"
   },
   {
    "duration": 22963,
    "start_time": "2022-06-11T17:32:54.860Z"
   },
   {
    "duration": 24612,
    "start_time": "2022-06-11T17:33:26.814Z"
   },
   {
    "duration": 223492,
    "start_time": "2022-06-11T17:33:58.515Z"
   },
   {
    "duration": 25842,
    "start_time": "2022-06-14T09:21:10.679Z"
   },
   {
    "duration": 3638,
    "start_time": "2022-06-14T09:21:44.258Z"
   },
   {
    "duration": 19,
    "start_time": "2022-06-14T09:21:51.587Z"
   },
   {
    "duration": 54,
    "start_time": "2022-06-14T09:21:51.814Z"
   },
   {
    "duration": 286,
    "start_time": "2022-06-14T09:21:52.098Z"
   },
   {
    "duration": 660,
    "start_time": "2022-06-14T09:21:52.386Z"
   },
   {
    "duration": 25,
    "start_time": "2022-06-14T09:21:53.049Z"
   },
   {
    "duration": 46,
    "start_time": "2022-06-14T09:21:53.076Z"
   },
   {
    "duration": 377,
    "start_time": "2022-06-14T09:34:23.645Z"
   },
   {
    "duration": 9,
    "start_time": "2022-06-14T09:34:31.896Z"
   },
   {
    "duration": 17,
    "start_time": "2022-06-14T09:34:43.029Z"
   },
   {
    "duration": 36,
    "start_time": "2022-06-14T09:34:51.303Z"
   },
   {
    "duration": 3395,
    "start_time": "2022-06-14T12:50:30.400Z"
   },
   {
    "duration": 2793,
    "start_time": "2022-06-14T12:50:45.528Z"
   },
   {
    "duration": 15,
    "start_time": "2022-06-14T12:50:48.323Z"
   },
   {
    "duration": 39,
    "start_time": "2022-06-14T12:50:48.340Z"
   },
   {
    "duration": 199,
    "start_time": "2022-06-14T12:50:48.764Z"
   },
   {
    "duration": 428,
    "start_time": "2022-06-14T12:50:49.820Z"
   },
   {
    "duration": 7,
    "start_time": "2022-06-14T12:50:51.130Z"
   },
   {
    "duration": 38,
    "start_time": "2022-06-14T12:50:56.367Z"
   },
   {
    "duration": 9,
    "start_time": "2022-06-14T12:54:34.099Z"
   },
   {
    "duration": 14,
    "start_time": "2022-06-14T12:54:55.190Z"
   },
   {
    "duration": 13,
    "start_time": "2022-06-14T12:55:03.006Z"
   },
   {
    "duration": 59,
    "start_time": "2022-06-14T12:55:10.146Z"
   },
   {
    "duration": 12,
    "start_time": "2022-06-14T12:55:59.068Z"
   },
   {
    "duration": 70,
    "start_time": "2022-06-14T12:56:12.604Z"
   },
   {
    "duration": 11,
    "start_time": "2022-06-14T12:56:20.199Z"
   },
   {
    "duration": 62,
    "start_time": "2022-06-14T12:56:24.142Z"
   },
   {
    "duration": 140,
    "start_time": "2022-06-14T12:58:34.914Z"
   },
   {
    "duration": 156,
    "start_time": "2022-06-14T12:59:11.865Z"
   },
   {
    "duration": 147,
    "start_time": "2022-06-14T12:59:52.953Z"
   },
   {
    "duration": 122,
    "start_time": "2022-06-14T13:00:49.784Z"
   },
   {
    "duration": 388,
    "start_time": "2022-06-14T13:00:58.237Z"
   },
   {
    "duration": 273,
    "start_time": "2022-06-14T13:01:39.474Z"
   },
   {
    "duration": 58,
    "start_time": "2022-06-14T13:08:55.875Z"
   },
   {
    "duration": 12,
    "start_time": "2022-06-14T13:08:59.896Z"
   },
   {
    "duration": 69,
    "start_time": "2022-06-14T13:09:08.674Z"
   },
   {
    "duration": 11,
    "start_time": "2022-06-14T13:09:09.474Z"
   },
   {
    "duration": 768,
    "start_time": "2022-06-14T13:14:06.394Z"
   },
   {
    "duration": 11,
    "start_time": "2022-06-14T13:14:14.995Z"
   },
   {
    "duration": 4,
    "start_time": "2022-06-14T13:15:21.731Z"
   },
   {
    "duration": 428,
    "start_time": "2022-06-14T13:15:48.589Z"
   },
   {
    "duration": 314,
    "start_time": "2022-06-14T13:17:58.467Z"
   },
   {
    "duration": 4,
    "start_time": "2022-06-14T13:18:12.573Z"
   },
   {
    "duration": 4,
    "start_time": "2022-06-14T13:18:23.463Z"
   },
   {
    "duration": 2,
    "start_time": "2022-06-14T13:18:30.005Z"
   },
   {
    "duration": 5545,
    "start_time": "2022-06-14T13:19:35.448Z"
   },
   {
    "duration": 2849,
    "start_time": "2022-06-14T13:21:59.853Z"
   },
   {
    "duration": 5,
    "start_time": "2022-06-14T13:22:07.333Z"
   },
   {
    "duration": 4,
    "start_time": "2022-06-14T13:22:08.395Z"
   },
   {
    "duration": 24148,
    "start_time": "2022-06-14T13:23:38.672Z"
   },
   {
    "duration": 4,
    "start_time": "2022-06-14T13:24:31.542Z"
   },
   {
    "duration": 59,
    "start_time": "2022-06-14T13:24:32.388Z"
   },
   {
    "duration": 48064,
    "start_time": "2022-06-14T13:24:39.033Z"
   },
   {
    "duration": 140840,
    "start_time": "2022-06-14T13:25:42.954Z"
   },
   {
    "duration": 242,
    "start_time": "2022-06-14T13:31:28.753Z"
   },
   {
    "duration": 1776,
    "start_time": "2022-06-14T13:32:59.824Z"
   },
   {
    "duration": 6,
    "start_time": "2022-06-14T13:33:23.513Z"
   },
   {
    "duration": 5,
    "start_time": "2022-06-14T13:33:36.354Z"
   },
   {
    "duration": 5,
    "start_time": "2022-06-14T13:33:37.553Z"
   },
   {
    "duration": 5,
    "start_time": "2022-06-14T13:33:45.553Z"
   },
   {
    "duration": 5,
    "start_time": "2022-06-14T13:33:46.413Z"
   },
   {
    "duration": 4360,
    "start_time": "2022-06-14T13:34:08.454Z"
   },
   {
    "duration": 5,
    "start_time": "2022-06-14T13:34:19.303Z"
   },
   {
    "duration": 4,
    "start_time": "2022-06-14T13:34:19.933Z"
   },
   {
    "duration": 24002,
    "start_time": "2022-06-14T13:34:32.154Z"
   },
   {
    "duration": 5,
    "start_time": "2022-06-14T13:35:01.998Z"
   },
   {
    "duration": 50,
    "start_time": "2022-06-14T13:35:02.498Z"
   },
   {
    "duration": 56576,
    "start_time": "2022-06-14T13:35:05.923Z"
   },
   {
    "duration": 143731,
    "start_time": "2022-06-14T13:36:16.664Z"
   },
   {
    "duration": 414,
    "start_time": "2022-06-14T13:38:58.511Z"
   },
   {
    "duration": 116934,
    "start_time": "2022-06-14T13:39:37.360Z"
   }
  ],
  "kernelspec": {
   "display_name": "Python 3",
   "language": "python",
   "name": "python3"
  },
  "language_info": {
   "codemirror_mode": {
    "name": "ipython",
    "version": 3
   },
   "file_extension": ".py",
   "mimetype": "text/x-python",
   "name": "python",
   "nbconvert_exporter": "python",
   "pygments_lexer": "ipython3",
   "version": "3.8.5"
  },
  "toc": {
   "base_numbering": 1,
   "nav_menu": {},
   "number_sections": true,
   "sideBar": true,
   "skip_h1_title": true,
   "title_cell": "Содержание",
   "title_sidebar": "Contents",
   "toc_cell": true,
   "toc_position": {
    "height": "calc(100% - 180px)",
    "left": "10px",
    "top": "150px",
    "width": "223.391px"
   },
   "toc_section_display": true,
   "toc_window_display": true
  }
 },
 "nbformat": 4,
 "nbformat_minor": 2
}
