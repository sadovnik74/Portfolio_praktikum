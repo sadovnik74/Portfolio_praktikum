{
 "cells": [
  {
   "cell_type": "markdown",
   "metadata": {
    "toc": true
   },
   "source": [
    "<h1>Table of Contents<span class=\"tocSkip\"></span></h1>\n",
    "<div class=\"toc\"><ul class=\"toc-item\"><li><ul class=\"toc-item\"><li><span><a href=\"#Инструкция-по-выполнению-проекта\" data-toc-modified-id=\"Инструкция-по-выполнению-проекта-0.1\"><span class=\"toc-item-num\">0.1&nbsp;&nbsp;</span>Инструкция по выполнению проекта</a></span></li><li><span><a href=\"#Описание-данных\" data-toc-modified-id=\"Описание-данных-0.2\"><span class=\"toc-item-num\">0.2&nbsp;&nbsp;</span>Описание данных</a></span></li></ul></li><li><span><a href=\"#Подготовка-данных\" data-toc-modified-id=\"Подготовка-данных-1\"><span class=\"toc-item-num\">1&nbsp;&nbsp;</span>Подготовка данных</a></span><ul class=\"toc-item\"><li><span><a href=\"#Знакомство-с-данными\" data-toc-modified-id=\"Знакомство-с-данными-1.1\"><span class=\"toc-item-num\">1.1&nbsp;&nbsp;</span>Знакомство с данными</a></span></li><li><span><a href=\"#Анализ-данных\" data-toc-modified-id=\"Анализ-данных-1.2\"><span class=\"toc-item-num\">1.2&nbsp;&nbsp;</span>Анализ данных</a></span><ul class=\"toc-item\"><li><span><a href=\"#Аномалии-в-дате-регистрации-автомобиля\" data-toc-modified-id=\"Аномалии-в-дате-регистрации-автомобиля-1.2.1\"><span class=\"toc-item-num\">1.2.1&nbsp;&nbsp;</span>Аномалии в дате регистрации автомобиля</a></span></li><li><span><a href=\"#Анализ-количественных-параметров\" data-toc-modified-id=\"Анализ-количественных-параметров-1.2.2\"><span class=\"toc-item-num\">1.2.2&nbsp;&nbsp;</span>Анализ количественных параметров</a></span></li><li><span><a href=\"#Пропуски-в-качественных-параметрах\" data-toc-modified-id=\"Пропуски-в-качественных-параметрах-1.2.3\"><span class=\"toc-item-num\">1.2.3&nbsp;&nbsp;</span>Пропуски в качественных параметрах</a></span></li></ul></li><li><span><a href=\"#Лишние-признаки\" data-toc-modified-id=\"Лишние-признаки-1.3\"><span class=\"toc-item-num\">1.3&nbsp;&nbsp;</span>Лишние признаки</a></span></li><li><span><a href=\"#Выделение-признаков\" data-toc-modified-id=\"Выделение-признаков-1.4\"><span class=\"toc-item-num\">1.4&nbsp;&nbsp;</span>Выделение признаков</a></span></li><li><span><a href=\"#Вывод\" data-toc-modified-id=\"Вывод-1.5\"><span class=\"toc-item-num\">1.5&nbsp;&nbsp;</span>Вывод</a></span></li></ul></li><li><span><a href=\"#Обучение-моделей\" data-toc-modified-id=\"Обучение-моделей-2\"><span class=\"toc-item-num\">2&nbsp;&nbsp;</span>Обучение моделей</a></span><ul class=\"toc-item\"><li><span><a href=\"#Случайный-лес\" data-toc-modified-id=\"Случайный-лес-2.1\"><span class=\"toc-item-num\">2.1&nbsp;&nbsp;</span>Случайный лес</a></span></li><li><span><a href=\"#Линейная-регрессия\" data-toc-modified-id=\"Линейная-регрессия-2.2\"><span class=\"toc-item-num\">2.2&nbsp;&nbsp;</span>Линейная регрессия</a></span></li><li><span><a href=\"#Градиентный-бустинг-LightGBM\" data-toc-modified-id=\"Градиентный-бустинг-LightGBM-2.3\"><span class=\"toc-item-num\">2.3&nbsp;&nbsp;</span>Градиентный бустинг LightGBM</a></span></li></ul></li><li><span><a href=\"#Анализ-моделей\" data-toc-modified-id=\"Анализ-моделей-3\"><span class=\"toc-item-num\">3&nbsp;&nbsp;</span>Анализ моделей</a></span></li><li><span><a href=\"#Общий-вывод\" data-toc-modified-id=\"Общий-вывод-4\"><span class=\"toc-item-num\">4&nbsp;&nbsp;</span>Общий вывод</a></span></li></ul></div>"
   ]
  },
  {
   "cell_type": "markdown",
   "metadata": {},
   "source": [
    "# Определение стоимости автомобилей"
   ]
  },
  {
   "cell_type": "markdown",
   "metadata": {},
   "source": [
    "Сервис по продаже автомобилей с пробегом «Не бит, не крашен» разрабатывает приложение для привлечения новых клиентов. В нём можно быстро узнать рыночную стоимость своего автомобиля. В вашем распоряжении исторические данные: технические характеристики, комплектации и цены автомобилей. Вам нужно построить модель для определения стоимости. \n",
    "\n",
    "Заказчику важны:\n",
    "\n",
    "- качество предсказания;\n",
    "- скорость предсказания;\n",
    "- время обучения."
   ]
  },
  {
   "cell_type": "markdown",
   "metadata": {},
   "source": [
    "### Инструкция по выполнению проекта\n",
    "\n",
    "Чтобы усилить исследование, не ограничивайтесь градиентным бустингом. Попробуйте более простые модели — иногда они работают лучше. Это редкие случаи, которые легко пропустить, если всегда применять только бустинг.\n",
    "\n",
    "Поэкспериментируйте и сравните характеристики моделей: скорость работы, точность результата.\n",
    "1. Загрузите и подготовьте данные.\n",
    "2. Обучите разные модели. Попробуйте различные гипепараметеры.\n",
    "2. Проанализируйте скорость работы и качество моделей.\n",
    "\n",
    "Примечания:\n",
    "1. Для оценки качества моделей применяйте метрику RMSE.\n",
    "2. Самостоятельно освойте библиотеку LightGBM и её средствами постройте модели градиентного бустинга.\n",
    "3. Время выполнения ячейки кода Jupyter Notebook можно получить специальной командой. Найдите её.\n",
    "4. Поскольку модель градиентного бустинга может обучаться долго, измените у неё только два-три параметра.\n",
    "\n",
    "### Описание данных\n",
    "Данные находятся в файле `/datasets/autos.csv`. \n",
    "\n",
    "Признаки\n",
    "- DateCrawled — дата скачивания анкеты из базы\n",
    "- VehicleType — тип автомобильного кузова\n",
    "- RegistrationYear — год регистрации автомобиля\n",
    "- Gearbox — тип коробки передач\n",
    "- Power — мощность (л. с.)\n",
    "- Model — модель автомобиля\n",
    "- Kilometer — пробег (км)\n",
    "- RegistrationMonth — месяц регистрации автомобиля\n",
    "- FuelType — тип топлива\n",
    "- Brand — марка автомобиля\n",
    "- NotRepaired — была машина в ремонте или нет\n",
    "- DateCreated — дата создания анкеты\n",
    "- NumberOfPictures — количество фотографий автомобиля\n",
    "- PostalCode — почтовый индекс владельца анкеты (пользователя)\n",
    "- LastSeen — дата последней активности пользователя\n",
    "\n",
    "Целевой признак\n",
    "- Price — цена (евро)"
   ]
  },
  {
   "cell_type": "markdown",
   "metadata": {},
   "source": [
    "## Подготовка данных"
   ]
  },
  {
   "cell_type": "code",
   "execution_count": 1,
   "metadata": {},
   "outputs": [],
   "source": [
    "import datetime\n",
    "import time\n",
    "\n",
    "import pandas as pd\n",
    "import matplotlib.pyplot as plt\n",
    "import seaborn as sns\n",
    "import numpy as np\n",
    "\n",
    "from sklearn.model_selection import train_test_split,  GridSearchCV, cross_val_score, RandomizedSearchCV\n",
    "from sklearn.preprocessing import StandardScaler, OrdinalEncoder, OneHotEncoder\n",
    "from functools import partial\n",
    "from sklearn.ensemble import RandomForestRegressor\n",
    "from sklearn.linear_model import LinearRegression\n",
    "from lightgbm import LGBMRegressor\n",
    "from sklearn.metrics import mean_squared_error\n",
    "\n",
    "import warnings\n",
    "warnings.filterwarnings('ignore')"
   ]
  },
  {
   "cell_type": "markdown",
   "metadata": {},
   "source": [
    "### Знакомство с данными"
   ]
  },
  {
   "cell_type": "markdown",
   "metadata": {},
   "source": [
    "Прочитаем файлы и переведем дату сразу в формат datetime64 при открытии файла"
   ]
  },
  {
   "cell_type": "code",
   "execution_count": 2,
   "metadata": {},
   "outputs": [
    {
     "data": {
      "text/html": [
       "<div>\n",
       "<style scoped>\n",
       "    .dataframe tbody tr th:only-of-type {\n",
       "        vertical-align: middle;\n",
       "    }\n",
       "\n",
       "    .dataframe tbody tr th {\n",
       "        vertical-align: top;\n",
       "    }\n",
       "\n",
       "    .dataframe thead th {\n",
       "        text-align: right;\n",
       "    }\n",
       "</style>\n",
       "<table border=\"1\" class=\"dataframe\">\n",
       "  <thead>\n",
       "    <tr style=\"text-align: right;\">\n",
       "      <th></th>\n",
       "      <th>DateCrawled</th>\n",
       "      <th>Price</th>\n",
       "      <th>VehicleType</th>\n",
       "      <th>RegistrationYear</th>\n",
       "      <th>Gearbox</th>\n",
       "      <th>Power</th>\n",
       "      <th>Model</th>\n",
       "      <th>Kilometer</th>\n",
       "      <th>RegistrationMonth</th>\n",
       "      <th>FuelType</th>\n",
       "      <th>Brand</th>\n",
       "      <th>NotRepaired</th>\n",
       "      <th>DateCreated</th>\n",
       "      <th>NumberOfPictures</th>\n",
       "      <th>PostalCode</th>\n",
       "      <th>LastSeen</th>\n",
       "    </tr>\n",
       "  </thead>\n",
       "  <tbody>\n",
       "    <tr>\n",
       "      <th>0</th>\n",
       "      <td>2016-03-24 11:52:17</td>\n",
       "      <td>480</td>\n",
       "      <td>NaN</td>\n",
       "      <td>1993</td>\n",
       "      <td>manual</td>\n",
       "      <td>0</td>\n",
       "      <td>golf</td>\n",
       "      <td>150000</td>\n",
       "      <td>0</td>\n",
       "      <td>petrol</td>\n",
       "      <td>volkswagen</td>\n",
       "      <td>NaN</td>\n",
       "      <td>2016-03-24</td>\n",
       "      <td>0</td>\n",
       "      <td>70435</td>\n",
       "      <td>2016-04-07 03:16:57</td>\n",
       "    </tr>\n",
       "    <tr>\n",
       "      <th>1</th>\n",
       "      <td>2016-03-24 10:58:45</td>\n",
       "      <td>18300</td>\n",
       "      <td>coupe</td>\n",
       "      <td>2011</td>\n",
       "      <td>manual</td>\n",
       "      <td>190</td>\n",
       "      <td>NaN</td>\n",
       "      <td>125000</td>\n",
       "      <td>5</td>\n",
       "      <td>gasoline</td>\n",
       "      <td>audi</td>\n",
       "      <td>yes</td>\n",
       "      <td>2016-03-24</td>\n",
       "      <td>0</td>\n",
       "      <td>66954</td>\n",
       "      <td>2016-04-07 01:46:50</td>\n",
       "    </tr>\n",
       "  </tbody>\n",
       "</table>\n",
       "</div>"
      ],
      "text/plain": [
       "          DateCrawled  Price VehicleType  RegistrationYear Gearbox  Power  \\\n",
       "0 2016-03-24 11:52:17    480         NaN              1993  manual      0   \n",
       "1 2016-03-24 10:58:45  18300       coupe              2011  manual    190   \n",
       "\n",
       "  Model  Kilometer  RegistrationMonth  FuelType       Brand NotRepaired  \\\n",
       "0  golf     150000                  0    petrol  volkswagen         NaN   \n",
       "1   NaN     125000                  5  gasoline        audi         yes   \n",
       "\n",
       "  DateCreated  NumberOfPictures  PostalCode            LastSeen  \n",
       "0  2016-03-24                 0       70435 2016-04-07 03:16:57  \n",
       "1  2016-03-24                 0       66954 2016-04-07 01:46:50  "
      ]
     },
     "execution_count": 2,
     "metadata": {},
     "output_type": "execute_result"
    }
   ],
   "source": [
    "dates = ['DateCrawled', 'DateCreated', 'LastSeen']\n",
    "try:\n",
    "    df = pd.read_csv('autos.csv', parse_dates=dates)\n",
    "except:    \n",
    "    df = pd.read_csv('/datasets/autos.csv', parse_dates=dates) \n",
    "df.head(2)"
   ]
  },
  {
   "cell_type": "markdown",
   "metadata": {},
   "source": [
    "Имена столбцов преобразуем в змеиный тип "
   ]
  },
  {
   "cell_type": "code",
   "execution_count": 3,
   "metadata": {
    "scrolled": true
   },
   "outputs": [
    {
     "name": "stdout",
     "output_type": "stream",
     "text": [
      "['date_crawled', 'price', 'vehicle_type', 'registration_year', 'gearbox', 'power', 'model', 'kilometer', 'registration_month', 'fuel_type', 'brand', 'not_repaired', 'date_created', 'number_of_pictures', 'postal_code', 'last_seen']\n"
     ]
    }
   ],
   "source": [
    "import string\n",
    "\n",
    "# функция преобразования стоки из верблюжьего регистра в змеиный\n",
    "def to_snake_case(value, delimiter='_'):\n",
    "    value = value[0].lower() + value[1:]\n",
    "    for x in string.ascii_uppercase:\n",
    "        value = value.replace(x, delimiter + x.lower())\n",
    "    return value  \n",
    "\n",
    "new_names = []\n",
    "for col in df.columns:\n",
    "    new_names.append(to_snake_case(col)) \n",
    "\n",
    "print(new_names)\n",
    "df.columns = new_names"
   ]
  },
  {
   "cell_type": "markdown",
   "metadata": {},
   "source": [
    "Теперь познакомимся с полученными данными"
   ]
  },
  {
   "cell_type": "code",
   "execution_count": 4,
   "metadata": {},
   "outputs": [],
   "source": [
    "def data_info(df):\n",
    "    \"\"\"Изучение датасета\"\"\"\n",
    "    display(df.head())\n",
    "    print()\n",
    "    display(df.info())\n",
    "    print()\n",
    "    display(df.describe())\n",
    "    print('Количество дубликатов =', df.duplicated().sum())\n",
    "    # Построение корреляционной матрицы\n",
    "    plt.figure(figsize=(10,10))\n",
    "    corr_matrix = sns.heatmap(df.corr(),annot=True)\n",
    "    corr_matrix.axes.set_title(\"Корреляционная матрица\", fontsize=16)\n",
    "    plt.show()"
   ]
  },
  {
   "cell_type": "code",
   "execution_count": 5,
   "metadata": {
    "scrolled": false
   },
   "outputs": [
    {
     "data": {
      "text/html": [
       "<div>\n",
       "<style scoped>\n",
       "    .dataframe tbody tr th:only-of-type {\n",
       "        vertical-align: middle;\n",
       "    }\n",
       "\n",
       "    .dataframe tbody tr th {\n",
       "        vertical-align: top;\n",
       "    }\n",
       "\n",
       "    .dataframe thead th {\n",
       "        text-align: right;\n",
       "    }\n",
       "</style>\n",
       "<table border=\"1\" class=\"dataframe\">\n",
       "  <thead>\n",
       "    <tr style=\"text-align: right;\">\n",
       "      <th></th>\n",
       "      <th>date_crawled</th>\n",
       "      <th>price</th>\n",
       "      <th>vehicle_type</th>\n",
       "      <th>registration_year</th>\n",
       "      <th>gearbox</th>\n",
       "      <th>power</th>\n",
       "      <th>model</th>\n",
       "      <th>kilometer</th>\n",
       "      <th>registration_month</th>\n",
       "      <th>fuel_type</th>\n",
       "      <th>brand</th>\n",
       "      <th>not_repaired</th>\n",
       "      <th>date_created</th>\n",
       "      <th>number_of_pictures</th>\n",
       "      <th>postal_code</th>\n",
       "      <th>last_seen</th>\n",
       "    </tr>\n",
       "  </thead>\n",
       "  <tbody>\n",
       "    <tr>\n",
       "      <th>0</th>\n",
       "      <td>2016-03-24 11:52:17</td>\n",
       "      <td>480</td>\n",
       "      <td>NaN</td>\n",
       "      <td>1993</td>\n",
       "      <td>manual</td>\n",
       "      <td>0</td>\n",
       "      <td>golf</td>\n",
       "      <td>150000</td>\n",
       "      <td>0</td>\n",
       "      <td>petrol</td>\n",
       "      <td>volkswagen</td>\n",
       "      <td>NaN</td>\n",
       "      <td>2016-03-24</td>\n",
       "      <td>0</td>\n",
       "      <td>70435</td>\n",
       "      <td>2016-04-07 03:16:57</td>\n",
       "    </tr>\n",
       "    <tr>\n",
       "      <th>1</th>\n",
       "      <td>2016-03-24 10:58:45</td>\n",
       "      <td>18300</td>\n",
       "      <td>coupe</td>\n",
       "      <td>2011</td>\n",
       "      <td>manual</td>\n",
       "      <td>190</td>\n",
       "      <td>NaN</td>\n",
       "      <td>125000</td>\n",
       "      <td>5</td>\n",
       "      <td>gasoline</td>\n",
       "      <td>audi</td>\n",
       "      <td>yes</td>\n",
       "      <td>2016-03-24</td>\n",
       "      <td>0</td>\n",
       "      <td>66954</td>\n",
       "      <td>2016-04-07 01:46:50</td>\n",
       "    </tr>\n",
       "    <tr>\n",
       "      <th>2</th>\n",
       "      <td>2016-03-14 12:52:21</td>\n",
       "      <td>9800</td>\n",
       "      <td>suv</td>\n",
       "      <td>2004</td>\n",
       "      <td>auto</td>\n",
       "      <td>163</td>\n",
       "      <td>grand</td>\n",
       "      <td>125000</td>\n",
       "      <td>8</td>\n",
       "      <td>gasoline</td>\n",
       "      <td>jeep</td>\n",
       "      <td>NaN</td>\n",
       "      <td>2016-03-14</td>\n",
       "      <td>0</td>\n",
       "      <td>90480</td>\n",
       "      <td>2016-04-05 12:47:46</td>\n",
       "    </tr>\n",
       "    <tr>\n",
       "      <th>3</th>\n",
       "      <td>2016-03-17 16:54:04</td>\n",
       "      <td>1500</td>\n",
       "      <td>small</td>\n",
       "      <td>2001</td>\n",
       "      <td>manual</td>\n",
       "      <td>75</td>\n",
       "      <td>golf</td>\n",
       "      <td>150000</td>\n",
       "      <td>6</td>\n",
       "      <td>petrol</td>\n",
       "      <td>volkswagen</td>\n",
       "      <td>no</td>\n",
       "      <td>2016-03-17</td>\n",
       "      <td>0</td>\n",
       "      <td>91074</td>\n",
       "      <td>2016-03-17 17:40:17</td>\n",
       "    </tr>\n",
       "    <tr>\n",
       "      <th>4</th>\n",
       "      <td>2016-03-31 17:25:20</td>\n",
       "      <td>3600</td>\n",
       "      <td>small</td>\n",
       "      <td>2008</td>\n",
       "      <td>manual</td>\n",
       "      <td>69</td>\n",
       "      <td>fabia</td>\n",
       "      <td>90000</td>\n",
       "      <td>7</td>\n",
       "      <td>gasoline</td>\n",
       "      <td>skoda</td>\n",
       "      <td>no</td>\n",
       "      <td>2016-03-31</td>\n",
       "      <td>0</td>\n",
       "      <td>60437</td>\n",
       "      <td>2016-04-06 10:17:21</td>\n",
       "    </tr>\n",
       "  </tbody>\n",
       "</table>\n",
       "</div>"
      ],
      "text/plain": [
       "         date_crawled  price vehicle_type  registration_year gearbox  power  \\\n",
       "0 2016-03-24 11:52:17    480          NaN               1993  manual      0   \n",
       "1 2016-03-24 10:58:45  18300        coupe               2011  manual    190   \n",
       "2 2016-03-14 12:52:21   9800          suv               2004    auto    163   \n",
       "3 2016-03-17 16:54:04   1500        small               2001  manual     75   \n",
       "4 2016-03-31 17:25:20   3600        small               2008  manual     69   \n",
       "\n",
       "   model  kilometer  registration_month fuel_type       brand not_repaired  \\\n",
       "0   golf     150000                   0    petrol  volkswagen          NaN   \n",
       "1    NaN     125000                   5  gasoline        audi          yes   \n",
       "2  grand     125000                   8  gasoline        jeep          NaN   \n",
       "3   golf     150000                   6    petrol  volkswagen           no   \n",
       "4  fabia      90000                   7  gasoline       skoda           no   \n",
       "\n",
       "  date_created  number_of_pictures  postal_code           last_seen  \n",
       "0   2016-03-24                   0        70435 2016-04-07 03:16:57  \n",
       "1   2016-03-24                   0        66954 2016-04-07 01:46:50  \n",
       "2   2016-03-14                   0        90480 2016-04-05 12:47:46  \n",
       "3   2016-03-17                   0        91074 2016-03-17 17:40:17  \n",
       "4   2016-03-31                   0        60437 2016-04-06 10:17:21  "
      ]
     },
     "metadata": {},
     "output_type": "display_data"
    },
    {
     "name": "stdout",
     "output_type": "stream",
     "text": [
      "\n",
      "<class 'pandas.core.frame.DataFrame'>\n",
      "RangeIndex: 354369 entries, 0 to 354368\n",
      "Data columns (total 16 columns):\n",
      " #   Column              Non-Null Count   Dtype         \n",
      "---  ------              --------------   -----         \n",
      " 0   date_crawled        354369 non-null  datetime64[ns]\n",
      " 1   price               354369 non-null  int64         \n",
      " 2   vehicle_type        316879 non-null  object        \n",
      " 3   registration_year   354369 non-null  int64         \n",
      " 4   gearbox             334536 non-null  object        \n",
      " 5   power               354369 non-null  int64         \n",
      " 6   model               334664 non-null  object        \n",
      " 7   kilometer           354369 non-null  int64         \n",
      " 8   registration_month  354369 non-null  int64         \n",
      " 9   fuel_type           321474 non-null  object        \n",
      " 10  brand               354369 non-null  object        \n",
      " 11  not_repaired        283215 non-null  object        \n",
      " 12  date_created        354369 non-null  datetime64[ns]\n",
      " 13  number_of_pictures  354369 non-null  int64         \n",
      " 14  postal_code         354369 non-null  int64         \n",
      " 15  last_seen           354369 non-null  datetime64[ns]\n",
      "dtypes: datetime64[ns](3), int64(7), object(6)\n",
      "memory usage: 43.3+ MB\n"
     ]
    },
    {
     "data": {
      "text/plain": [
       "None"
      ]
     },
     "metadata": {},
     "output_type": "display_data"
    },
    {
     "name": "stdout",
     "output_type": "stream",
     "text": [
      "\n"
     ]
    },
    {
     "data": {
      "text/html": [
       "<div>\n",
       "<style scoped>\n",
       "    .dataframe tbody tr th:only-of-type {\n",
       "        vertical-align: middle;\n",
       "    }\n",
       "\n",
       "    .dataframe tbody tr th {\n",
       "        vertical-align: top;\n",
       "    }\n",
       "\n",
       "    .dataframe thead th {\n",
       "        text-align: right;\n",
       "    }\n",
       "</style>\n",
       "<table border=\"1\" class=\"dataframe\">\n",
       "  <thead>\n",
       "    <tr style=\"text-align: right;\">\n",
       "      <th></th>\n",
       "      <th>price</th>\n",
       "      <th>registration_year</th>\n",
       "      <th>power</th>\n",
       "      <th>kilometer</th>\n",
       "      <th>registration_month</th>\n",
       "      <th>number_of_pictures</th>\n",
       "      <th>postal_code</th>\n",
       "    </tr>\n",
       "  </thead>\n",
       "  <tbody>\n",
       "    <tr>\n",
       "      <th>count</th>\n",
       "      <td>354369.000000</td>\n",
       "      <td>354369.000000</td>\n",
       "      <td>354369.000000</td>\n",
       "      <td>354369.000000</td>\n",
       "      <td>354369.000000</td>\n",
       "      <td>354369.0</td>\n",
       "      <td>354369.000000</td>\n",
       "    </tr>\n",
       "    <tr>\n",
       "      <th>mean</th>\n",
       "      <td>4416.656776</td>\n",
       "      <td>2004.234448</td>\n",
       "      <td>110.094337</td>\n",
       "      <td>128211.172535</td>\n",
       "      <td>5.714645</td>\n",
       "      <td>0.0</td>\n",
       "      <td>50508.689087</td>\n",
       "    </tr>\n",
       "    <tr>\n",
       "      <th>std</th>\n",
       "      <td>4514.158514</td>\n",
       "      <td>90.227958</td>\n",
       "      <td>189.850405</td>\n",
       "      <td>37905.341530</td>\n",
       "      <td>3.726421</td>\n",
       "      <td>0.0</td>\n",
       "      <td>25783.096248</td>\n",
       "    </tr>\n",
       "    <tr>\n",
       "      <th>min</th>\n",
       "      <td>0.000000</td>\n",
       "      <td>1000.000000</td>\n",
       "      <td>0.000000</td>\n",
       "      <td>5000.000000</td>\n",
       "      <td>0.000000</td>\n",
       "      <td>0.0</td>\n",
       "      <td>1067.000000</td>\n",
       "    </tr>\n",
       "    <tr>\n",
       "      <th>25%</th>\n",
       "      <td>1050.000000</td>\n",
       "      <td>1999.000000</td>\n",
       "      <td>69.000000</td>\n",
       "      <td>125000.000000</td>\n",
       "      <td>3.000000</td>\n",
       "      <td>0.0</td>\n",
       "      <td>30165.000000</td>\n",
       "    </tr>\n",
       "    <tr>\n",
       "      <th>50%</th>\n",
       "      <td>2700.000000</td>\n",
       "      <td>2003.000000</td>\n",
       "      <td>105.000000</td>\n",
       "      <td>150000.000000</td>\n",
       "      <td>6.000000</td>\n",
       "      <td>0.0</td>\n",
       "      <td>49413.000000</td>\n",
       "    </tr>\n",
       "    <tr>\n",
       "      <th>75%</th>\n",
       "      <td>6400.000000</td>\n",
       "      <td>2008.000000</td>\n",
       "      <td>143.000000</td>\n",
       "      <td>150000.000000</td>\n",
       "      <td>9.000000</td>\n",
       "      <td>0.0</td>\n",
       "      <td>71083.000000</td>\n",
       "    </tr>\n",
       "    <tr>\n",
       "      <th>max</th>\n",
       "      <td>20000.000000</td>\n",
       "      <td>9999.000000</td>\n",
       "      <td>20000.000000</td>\n",
       "      <td>150000.000000</td>\n",
       "      <td>12.000000</td>\n",
       "      <td>0.0</td>\n",
       "      <td>99998.000000</td>\n",
       "    </tr>\n",
       "  </tbody>\n",
       "</table>\n",
       "</div>"
      ],
      "text/plain": [
       "               price  registration_year          power      kilometer  \\\n",
       "count  354369.000000      354369.000000  354369.000000  354369.000000   \n",
       "mean     4416.656776        2004.234448     110.094337  128211.172535   \n",
       "std      4514.158514          90.227958     189.850405   37905.341530   \n",
       "min         0.000000        1000.000000       0.000000    5000.000000   \n",
       "25%      1050.000000        1999.000000      69.000000  125000.000000   \n",
       "50%      2700.000000        2003.000000     105.000000  150000.000000   \n",
       "75%      6400.000000        2008.000000     143.000000  150000.000000   \n",
       "max     20000.000000        9999.000000   20000.000000  150000.000000   \n",
       "\n",
       "       registration_month  number_of_pictures    postal_code  \n",
       "count       354369.000000            354369.0  354369.000000  \n",
       "mean             5.714645                 0.0   50508.689087  \n",
       "std              3.726421                 0.0   25783.096248  \n",
       "min              0.000000                 0.0    1067.000000  \n",
       "25%              3.000000                 0.0   30165.000000  \n",
       "50%              6.000000                 0.0   49413.000000  \n",
       "75%              9.000000                 0.0   71083.000000  \n",
       "max             12.000000                 0.0   99998.000000  "
      ]
     },
     "metadata": {},
     "output_type": "display_data"
    },
    {
     "name": "stdout",
     "output_type": "stream",
     "text": [
      "Количество дубликатов = 4\n"
     ]
    },
    {
     "data": {
      "image/png": "[encoded data removed]",
      "text/plain": [
       "<Figure size 720x720 with 2 Axes>"
      ]
     },
     "metadata": {
      "needs_background": "light"
     },
     "output_type": "display_data"
    }
   ],
   "source": [
    "data_info(df)"
   ]
  },
  {
   "cell_type": "markdown",
   "metadata": {},
   "source": [
    "**Вывод**\n",
    "- Данные прочитаны.\n",
    "- Названия столбцов преобразованны в змеиный тип\n",
    "- В таблице 16 столбцов и 354369 строк. 3 столбца относятся к типу datetime64, 7 - int64, 6 -object.\n",
    "- В 5 столбцах типа object есть пропуски. Далее будем разбираться с ними.\n",
    "- Обнаруженно 4 дубликата.\n",
    "\n",
    "По беглому анализу численных данных\n",
    "- Столбцы цена 'price' и мощность 'power': Среднее чуть ли не в два раза больше медианы, есть цена и мощность с нулевыми значениями, а также выбросы в большую сторону. Придется расмотреть этот момент подробней.\n",
    "- Замеченны аномалии: года 1000 и 9999 в столбце Год регистрации 'registeration_year'; и нулевой месяц в 'registration_month'.\n",
    "- Пробег 'kilometer' у половины машин максимальный - 150000 км. \n",
    "- В столбеце 'number_of_pictures' все значения 0. Его можно удалить.\n",
    "\n",
    "По корреляционной матрице можно сказать следующее\n",
    "- на целевой признак 'price' очень слабо влияют 'power', 'registration_month' и 'kilometer'\n",
    "- Взаимозависимости между признакам по линейной корреляции не выявлено."
   ]
  },
  {
   "cell_type": "markdown",
   "metadata": {},
   "source": [
    "### Анализ данных"
   ]
  },
  {
   "cell_type": "markdown",
   "metadata": {},
   "source": [
    "Прежде чем приступить к анализу, выполним простые операции: удалим дубликаты и статичный столбец 'number_of_pictures'."
   ]
  },
  {
   "cell_type": "code",
   "execution_count": 6,
   "metadata": {},
   "outputs": [],
   "source": [
    "# удаление явных дубликатов (с удалением старых индексов и формированием новых)\n",
    "df = df.drop_duplicates().reset_index(drop=True)"
   ]
  },
  {
   "cell_type": "code",
   "execution_count": 7,
   "metadata": {},
   "outputs": [],
   "source": [
    "# удаление столбца 'number_of_pictures'\n",
    "df = df.drop('number_of_pictures', axis=1)"
   ]
  },
  {
   "cell_type": "markdown",
   "metadata": {},
   "source": [
    "Дляначала проверим диапазон дат, чтоб понять, за какой период полученны данные"
   ]
  },
  {
   "cell_type": "code",
   "execution_count": 8,
   "metadata": {
    "scrolled": true
   },
   "outputs": [
    {
     "data": {
      "text/html": [
       "<div>\n",
       "<style scoped>\n",
       "    .dataframe tbody tr th:only-of-type {\n",
       "        vertical-align: middle;\n",
       "    }\n",
       "\n",
       "    .dataframe tbody tr th {\n",
       "        vertical-align: top;\n",
       "    }\n",
       "\n",
       "    .dataframe thead th {\n",
       "        text-align: right;\n",
       "    }\n",
       "</style>\n",
       "<table border=\"1\" class=\"dataframe\">\n",
       "  <thead>\n",
       "    <tr style=\"text-align: right;\">\n",
       "      <th></th>\n",
       "      <th>min</th>\n",
       "      <th>max</th>\n",
       "    </tr>\n",
       "  </thead>\n",
       "  <tbody>\n",
       "    <tr>\n",
       "      <th>date_crawled</th>\n",
       "      <td>2016-03-05 14:06:22</td>\n",
       "      <td>2016-04-07 14:36:58</td>\n",
       "    </tr>\n",
       "    <tr>\n",
       "      <th>date_created</th>\n",
       "      <td>2014-03-10 00:00:00</td>\n",
       "      <td>2016-04-07 00:00:00</td>\n",
       "    </tr>\n",
       "    <tr>\n",
       "      <th>last_seen</th>\n",
       "      <td>2016-03-05 14:15:08</td>\n",
       "      <td>2016-04-07 14:58:51</td>\n",
       "    </tr>\n",
       "  </tbody>\n",
       "</table>\n",
       "</div>"
      ],
      "text/plain": [
       "                             min                 max\n",
       "date_crawled 2016-03-05 14:06:22 2016-04-07 14:36:58\n",
       "date_created 2014-03-10 00:00:00 2016-04-07 00:00:00\n",
       "last_seen    2016-03-05 14:15:08 2016-04-07 14:58:51"
      ]
     },
     "execution_count": 8,
     "metadata": {},
     "output_type": "execute_result"
    }
   ],
   "source": [
    "pd.DataFrame(data=[[df['date_crawled'].min(), df['date_crawled'].max()],\n",
    "                   [df['date_created'].min(), df['date_created'].max()],\n",
    "                   [df['last_seen'].min(), df['last_seen'].max()]],\n",
    "             index=['date_crawled', 'date_created', 'last_seen'],\n",
    "             columns=['min', 'max']\n",
    "             )"
   ]
  },
  {
   "cell_type": "markdown",
   "metadata": {},
   "source": [
    "Максимальные даты в столбцах: 1) *date_crawled* — дата скачивания анкеты из базы; 2) *date_created* — дата создания анкеты; и 3) *last_seen* — дата последней активности пользователя; - совпадают. Последние реальные изменения были 2016-04-07.\n",
    "\n",
    "\n",
    "Минимум *date_crawled* и *last_seen* снова совпадаютдо часа: 2016-03-05. Получается у нас данные за месяц продаж с 2016-03-05 по 2016-04-07.\n",
    "\n",
    "А минимальная дата *date_created* указана 2014-03-10. Посмотрим, сколько анкет было созданно до 2016-03-05"
   ]
  },
  {
   "cell_type": "code",
   "execution_count": 9,
   "metadata": {},
   "outputs": [
    {
     "name": "stdout",
     "output_type": "stream",
     "text": [
      "2015-03-04 00:00:00\n"
     ]
    }
   ],
   "source": [
    "print(datetime.datetime(2015, 3, 4))"
   ]
  },
  {
   "cell_type": "code",
   "execution_count": 10,
   "metadata": {},
   "outputs": [
    {
     "data": {
      "text/plain": [
       "1577"
      ]
     },
     "execution_count": 10,
     "metadata": {},
     "output_type": "execute_result"
    }
   ],
   "source": [
    "df[df['date_created'] < datetime.datetime(2016, 3, 5)]['date_created'].count()\n"
   ]
  },
  {
   "cell_type": "markdown",
   "metadata": {},
   "source": [
    " 1577 анкет было создано до начала изучаемого месяца продаж, самая ранняя в марте 2014 года.\n",
    " "
   ]
  },
  {
   "cell_type": "markdown",
   "metadata": {},
   "source": [
    "#### Аномалии в дате регистрации автомобиля\n",
    "\n",
    "Теперь, зная период продаж, перейдем к году *registration_year* и месяцу *registration_month* регистрации автомобиля.\n",
    "\n",
    "В наших данных не должно быть дат регистрации после периода продаж\n",
    "Посмотрим, сколько строк, с датой регистрации после  2016-04-07."
   ]
  },
  {
   "cell_type": "code",
   "execution_count": 11,
   "metadata": {},
   "outputs": [
    {
     "name": "stdout",
     "output_type": "stream",
     "text": [
      "Количество автомобилей, с указанной регистрацией после окончания продаж:  19892\n",
      "чья доля состовляет:  0.05613421190015944\n"
     ]
    }
   ],
   "source": [
    "n = df[\n",
    "    (df['registration_year'] > 2016) | \n",
    "    ((df['registration_year'] == 2016) & (df['registration_month'] > 3))]['date_created'].count() \n",
    "print('Количество автомобилей, с указанной регистрацией после окончания продаж: ', n)\n",
    "print('чья доля состовляет: ', n / df.shape[0])"
   ]
  },
  {
   "cell_type": "markdown",
   "metadata": {},
   "source": [
    "Не смотря на то, что доля больше пяти процентов, придется с ними растаться"
   ]
  },
  {
   "cell_type": "code",
   "execution_count": 12,
   "metadata": {},
   "outputs": [
    {
     "data": {
      "text/plain": [
       "(334473, 15)"
      ]
     },
     "execution_count": 12,
     "metadata": {},
     "output_type": "execute_result"
    }
   ],
   "source": [
    "df = df[\n",
    "    ~((df['registration_year'] > 2016) | \n",
    "    ((df['registration_year'] == 2016) & (df['registration_month'] > 3)))]\n",
    "df.shape"
   ]
  },
  {
   "cell_type": "markdown",
   "metadata": {},
   "source": [
    "Теперь попробуем разобраться с нижней границей *registration_year*. Построим диаграмму размаха"
   ]
  },
  {
   "cell_type": "code",
   "execution_count": 13,
   "metadata": {
    "scrolled": true
   },
   "outputs": [
    {
     "data": {
      "image/png": "[encoded data removed]",
      "text/plain": [
       "<Figure size 864x288 with 1 Axes>"
      ]
     },
     "metadata": {
      "needs_background": "light"
     },
     "output_type": "display_data"
    }
   ],
   "source": [
    "fig, axes = plt.subplots(1,1, figsize = (12,4))\n",
    "sns.boxplot(x=df['registration_year'], orient='h', palette='Set3', fliersize=0.5) #, ax=axes[1]);\n",
    "\n",
    "plt.xlabel('Год регистрации', fontsize = 15) \n",
    "plt.xticks(rotation = 0, fontsize = 15)\n",
    "plt.title(f'Диаграмма размаха года регистрации', fontsize = 20)\n",
    "\n",
    "plt.show();"
   ]
  },
  {
   "cell_type": "markdown",
   "metadata": {},
   "source": [
    "В таблице даты начинаются с 1000 года! Поробуем приблизить, чтоб посмотреть на век автомобилей."
   ]
  },
  {
   "cell_type": "code",
   "execution_count": 14,
   "metadata": {},
   "outputs": [
    {
     "data": {
      "image/png": "[encoded data removed]",
      "text/plain": [
       "<Figure size 864x288 with 1 Axes>"
      ]
     },
     "metadata": {
      "needs_background": "light"
     },
     "output_type": "display_data"
    }
   ],
   "source": [
    "fig, axes = plt.subplots(1,1, figsize = (12,4))\n",
    "sns.boxplot(x=df['registration_year'], orient='h', palette='Set3', fliersize=0.5)\n",
    "\n",
    "plt.xlabel('Год регистрации', fontsize = 15) \n",
    "plt.xticks(rotation = 0, fontsize = 15)\n",
    "plt.title(f'Диаграмма размаха года регистрации', fontsize = 20)\n",
    "plt.xlim(1900, 2017)\n",
    "\n",
    "plt.show();"
   ]
  },
  {
   "cell_type": "code",
   "execution_count": 15,
   "metadata": {
    "scrolled": true
   },
   "outputs": [
    {
     "name": "stdout",
     "output_type": "stream",
     "text": [
      "Нижняя граница уса:  1987.0\n",
      "Количество авто до 1987.0 года: 6742\n"
     ]
    }
   ],
   "source": [
    "q1 = df.registration_year.quantile(0.25)\n",
    "q3 = df.registration_year.quantile(0.75)\n",
    "iqr = q3 - q1\n",
    "qr1 = q1 - 1.5 * iqr\n",
    "print('Нижняя граница уса: ', qr1)\n",
    "print(\"Количество авто до {} года: {}\"\n",
    "      .format(qr1, df[df['registration_year'] < int(qr1)]['registration_year'].count()))"
   ]
  },
  {
   "cell_type": "markdown",
   "metadata": {},
   "source": [
    "Посмотрим как ведет себя цена с 1900 по 1987 года"
   ]
  },
  {
   "cell_type": "code",
   "execution_count": 16,
   "metadata": {},
   "outputs": [
    {
     "data": {
      "image/png": "[encoded data removed]",
      "text/plain": [
       "<Figure size 864x432 with 1 Axes>"
      ]
     },
     "metadata": {
      "needs_background": "light"
     },
     "output_type": "display_data"
    }
   ],
   "source": [
    "df.plot(x=\"registration_year\", y=\"price\", kind=\"scatter\", xlim=[1900, 1987], alpha=0.3, figsize=(12,6))\n",
    "plt.xlabel('Год регистрации', fontsize = 15) \n",
    "plt.xticks(rotation = 0, fontsize = 15)\n",
    "plt.ylabel('Цена', fontsize = 15) \n",
    "plt.yticks(rotation = 0, fontsize = 15)\n",
    "plt.title(f'Зависимость цены от года регистрации, 1900-1987', fontsize = 20)\n",
    "\n",
    "plt.show();"
   ]
  },
  {
   "cell_type": "markdown",
   "metadata": {},
   "source": [
    "По цене нельзя отнести эти авто к раритетным. Разброс цен от 0 до 20000 до 1960 года практически равномерный. Все это напоминает случайный разброс. Больше похоже на ошибку при указании года регистрации. Задать уточняющие вопросы не к кому, придется растаться с этими выбросами. Не стоит оставлять столь сомнительные данные в ключевом признаке."
   ]
  },
  {
   "cell_type": "code",
   "execution_count": 17,
   "metadata": {},
   "outputs": [
    {
     "data": {
      "text/plain": [
       "(327731, 15)"
      ]
     },
     "execution_count": 17,
     "metadata": {},
     "output_type": "execute_result"
    }
   ],
   "source": [
    "df = df[df['registration_year'] >= 1987] \n",
    "df.shape"
   ]
  },
  {
   "cell_type": "markdown",
   "metadata": {},
   "source": [
    "**Месяц регистрации**\n"
   ]
  },
  {
   "cell_type": "markdown",
   "metadata": {},
   "source": [
    "Для удобства создадим функцию построения графиков."
   ]
  },
  {
   "cell_type": "code",
   "execution_count": 18,
   "metadata": {},
   "outputs": [],
   "source": [
    "def feature_analiser(data, title, x_label):\n",
    "    \"\"\" Функция принимает колонку, заголовок и подпись оси Х\n",
    "        Выводит на экран гистограмму распределения и диаграму размаха\n",
    "    \"\"\"\n",
    "    fig = plt.figure(figsize=(15,5))\n",
    "    # Вывод гистограмы\n",
    "    ax_1 = fig.add_subplot(1, 2, 1)\n",
    "    ax_1 = sns.histplot(data=data)\n",
    "    ax_1.axes.set_title(title, fontsize=16)\n",
    "    ax_1.set_xlabel(x_label, fontsize=14)\n",
    "    \n",
    "    # Вывод диаграмы размаха\n",
    "    ax_2 = fig.add_subplot(1, 2, 2)\n",
    "    ax_2 = sns.boxplot(data=data, orient='h')\n",
    "    ax_2.axes.set_title(title, fontsize=16)\n",
    "    ax_2.set_xlabel(x_label, fontsize=14)\n",
    "\n",
    "    plt.show();"
   ]
  },
  {
   "cell_type": "code",
   "execution_count": 19,
   "metadata": {
    "scrolled": true
   },
   "outputs": [
    {
     "data": {
      "image/png": "[encoded data removed]",
      "text/plain": [
       "<Figure size 1080x360 with 2 Axes>"
      ]
     },
     "metadata": {
      "needs_background": "light"
     },
     "output_type": "display_data"
    }
   ],
   "source": [
    "feature_analiser(df['registration_month'], 'Месяц регистрации', 'номер месяца')"
   ]
  },
  {
   "cell_type": "markdown",
   "metadata": {},
   "source": [
    "Распределение по месяцам практически равномерное. Значение нулевой месяц можно объяснить тем, что месяц не указан. \n",
    "\n",
    "Месяц регистрации автомобиля по прошествии десяти лет обычно становиться не актуальным для определения цены. Поэтому в дальнейшем его можно будет удалить из признаков для модели."
   ]
  },
  {
   "cell_type": "markdown",
   "metadata": {},
   "source": [
    "#### Анализ количественных параметров\n"
   ]
  },
  {
   "cell_type": "markdown",
   "metadata": {},
   "source": [
    "**Пробег**\n",
    "\n",
    "Начнем со столбца *kilometer* пробег"
   ]
  },
  {
   "cell_type": "code",
   "execution_count": 20,
   "metadata": {
    "scrolled": true
   },
   "outputs": [
    {
     "data": {
      "image/png": "[encoded data removed]",
      "text/plain": [
       "<Figure size 1080x360 with 2 Axes>"
      ]
     },
     "metadata": {
      "needs_background": "light"
     },
     "output_type": "display_data"
    }
   ],
   "source": [
    "feature_analiser(df['kilometer'], 'Пробег', 'км')"
   ]
  },
  {
   "cell_type": "code",
   "execution_count": 21,
   "metadata": {},
   "outputs": [
    {
     "data": {
      "text/plain": [
       "13"
      ]
     },
     "execution_count": 21,
     "metadata": {},
     "output_type": "execute_result"
    }
   ],
   "source": [
    "df['kilometer'].nunique()"
   ]
  },
  {
   "cell_type": "markdown",
   "metadata": {},
   "source": [
    "Распределение значений пробега дискретно. Похоже в анкете было всего 13 значений от *0* до *150 тыс.км*, или заканчивалось значением *более 150 тыс.км*. В этом случае 0 может означать *меньше 5 тыс.км*. Авто все подержанные, большинство владельцев растаются с авто, хорошо попльзовав его. Поэтому небольшой пробег на диаграмме размаха выглядит как выброс. \n",
    "\n",
    "**Мощность**\n",
    "\n",
    "Передем к следующей характеристике: *power* мощность (л.с.)"
   ]
  },
  {
   "cell_type": "code",
   "execution_count": 22,
   "metadata": {
    "scrolled": true
   },
   "outputs": [
    {
     "data": {
      "image/png": "[encoded data removed]",
      "text/plain": [
       "<Figure size 1080x360 with 2 Axes>"
      ]
     },
     "metadata": {
      "needs_background": "light"
     },
     "output_type": "display_data"
    }
   ],
   "source": [
    "feature_analiser(df['power'], 'Мощность', 'л.с')"
   ]
  },
  {
   "cell_type": "markdown",
   "metadata": {},
   "source": [
    "Для легковых авто указаны слишком большие мощности. Некоторые значения даже для грузовиков велики."
   ]
  },
  {
   "cell_type": "code",
   "execution_count": 23,
   "metadata": {
    "scrolled": true
   },
   "outputs": [
    {
     "data": {
      "image/png": "[encoded data removed]",
      "text/plain": [
       "<Figure size 864x288 with 1 Axes>"
      ]
     },
     "metadata": {
      "needs_background": "light"
     },
     "output_type": "display_data"
    }
   ],
   "source": [
    "fig, axes = plt.subplots(1,1, figsize = (12,4))\n",
    "sns.boxplot(x=df['power'], orient='h', palette='Set3', fliersize=0.5)\n",
    "\n",
    "plt.xlabel('л.с', fontsize = 15) \n",
    "plt.xticks(rotation = 0, fontsize = 15)\n",
    "plt.title(f'Диаграмма размаха мощности', fontsize = 20)\n",
    "plt.xlim(0, 260)\n",
    "\n",
    "plt.show();"
   ]
  },
  {
   "cell_type": "code",
   "execution_count": 24,
   "metadata": {},
   "outputs": [
    {
     "name": "stdout",
     "output_type": "stream",
     "text": [
      "Нижняя граница уса:  251.0\n",
      "Количество авто свыше 251.0 л.с: 7016\n"
     ]
    }
   ],
   "source": [
    "q1 = df.power.quantile(0.25)\n",
    "q3 = df.power.quantile(0.75)\n",
    "iqr = q3 - q1\n",
    "qr1 = q3 + 1.5 * iqr\n",
    "print('Нижняя граница уса: ', qr1)\n",
    "print(\"Количество авто свыше {} л.с: {}\"\n",
    "      .format(qr1, df[df['power'] > int(qr1)]['power'].count()))"
   ]
  },
  {
   "cell_type": "markdown",
   "metadata": {},
   "source": [
    "Верхняя граница диаграммы размаха мощности соответствует легковым авто массового сегмента. Для некоторых серийных моделей джипов может быть и 700 л.с.\n",
    "\n",
    "В то же время у авто премиум сегмента мощность больше.  Из извесных легковых самая мощная Devel Sixteen c 5000 л.с. Но таких всего лишь 3 штуки, первая выпущена в 2017 году (а у нас база за 2016 год). Но до 2500 л.с. включительно машины выпускались ранее. \n",
    "\n",
    "Авто с указанной мощность больше 1000 л.с. придется удалить, как не соответствующие действительности."
   ]
  },
  {
   "cell_type": "code",
   "execution_count": 25,
   "metadata": {},
   "outputs": [],
   "source": [
    "df = df[(df['power'] < 1000)]"
   ]
  },
  {
   "cell_type": "markdown",
   "metadata": {},
   "source": [
    "С другой стороны в таблице есть значения с очень маленькой мощностью"
   ]
  },
  {
   "cell_type": "code",
   "execution_count": 26,
   "metadata": {
    "scrolled": true
   },
   "outputs": [
    {
     "data": {
      "image/png": "[encoded data removed]",
      "text/plain": [
       "<Figure size 1080x360 with 2 Axes>"
      ]
     },
     "metadata": {
      "needs_background": "light"
     },
     "output_type": "display_data"
    }
   ],
   "source": [
    "feature_analiser(df[df['power'] < 50]['power'], 'Мощность', 'л.с')"
   ]
  },
  {
   "cell_type": "code",
   "execution_count": 27,
   "metadata": {},
   "outputs": [
    {
     "data": {
      "image/png": "[encoded data removed]",
      "text/plain": [
       "<Figure size 1080x360 with 2 Axes>"
      ]
     },
     "metadata": {
      "needs_background": "light"
     },
     "output_type": "display_data"
    }
   ],
   "source": [
    "feature_analiser(df[df['power'] < 10]['power'], 'Мощность', 'л.с')"
   ]
  },
  {
   "cell_type": "code",
   "execution_count": 28,
   "metadata": {
    "scrolled": true
   },
   "outputs": [
    {
     "data": {
      "text/html": [
       "<div>\n",
       "<style scoped>\n",
       "    .dataframe tbody tr th:only-of-type {\n",
       "        vertical-align: middle;\n",
       "    }\n",
       "\n",
       "    .dataframe tbody tr th {\n",
       "        vertical-align: top;\n",
       "    }\n",
       "\n",
       "    .dataframe thead th {\n",
       "        text-align: right;\n",
       "    }\n",
       "</style>\n",
       "<table border=\"1\" class=\"dataframe\">\n",
       "  <thead>\n",
       "    <tr style=\"text-align: right;\">\n",
       "      <th></th>\n",
       "      <th>date_crawled</th>\n",
       "      <th>price</th>\n",
       "      <th>vehicle_type</th>\n",
       "      <th>registration_year</th>\n",
       "      <th>gearbox</th>\n",
       "      <th>power</th>\n",
       "      <th>model</th>\n",
       "      <th>kilometer</th>\n",
       "      <th>registration_month</th>\n",
       "      <th>fuel_type</th>\n",
       "      <th>brand</th>\n",
       "      <th>not_repaired</th>\n",
       "      <th>date_created</th>\n",
       "      <th>postal_code</th>\n",
       "      <th>last_seen</th>\n",
       "    </tr>\n",
       "  </thead>\n",
       "  <tbody>\n",
       "    <tr>\n",
       "      <th>354334</th>\n",
       "      <td>2016-03-31 19:52:33</td>\n",
       "      <td>180</td>\n",
       "      <td>NaN</td>\n",
       "      <td>1995</td>\n",
       "      <td>NaN</td>\n",
       "      <td>0</td>\n",
       "      <td>NaN</td>\n",
       "      <td>125000</td>\n",
       "      <td>3</td>\n",
       "      <td>petrol</td>\n",
       "      <td>opel</td>\n",
       "      <td>NaN</td>\n",
       "      <td>2016-03-31</td>\n",
       "      <td>41470</td>\n",
       "      <td>2016-04-06 14:18:04</td>\n",
       "    </tr>\n",
       "    <tr>\n",
       "      <th>354342</th>\n",
       "      <td>2016-03-07 17:06:35</td>\n",
       "      <td>2600</td>\n",
       "      <td>NaN</td>\n",
       "      <td>2005</td>\n",
       "      <td>auto</td>\n",
       "      <td>0</td>\n",
       "      <td>c_klasse</td>\n",
       "      <td>150000</td>\n",
       "      <td>9</td>\n",
       "      <td>NaN</td>\n",
       "      <td>mercedes_benz</td>\n",
       "      <td>NaN</td>\n",
       "      <td>2016-03-07</td>\n",
       "      <td>61169</td>\n",
       "      <td>2016-03-08 21:28:38</td>\n",
       "    </tr>\n",
       "    <tr>\n",
       "      <th>354359</th>\n",
       "      <td>2016-03-27 20:36:20</td>\n",
       "      <td>1150</td>\n",
       "      <td>bus</td>\n",
       "      <td>2000</td>\n",
       "      <td>manual</td>\n",
       "      <td>0</td>\n",
       "      <td>zafira</td>\n",
       "      <td>150000</td>\n",
       "      <td>3</td>\n",
       "      <td>petrol</td>\n",
       "      <td>opel</td>\n",
       "      <td>no</td>\n",
       "      <td>2016-03-27</td>\n",
       "      <td>26624</td>\n",
       "      <td>2016-03-29 10:17:23</td>\n",
       "    </tr>\n",
       "    <tr>\n",
       "      <th>354360</th>\n",
       "      <td>2016-03-21 09:50:58</td>\n",
       "      <td>0</td>\n",
       "      <td>NaN</td>\n",
       "      <td>2005</td>\n",
       "      <td>manual</td>\n",
       "      <td>0</td>\n",
       "      <td>colt</td>\n",
       "      <td>150000</td>\n",
       "      <td>7</td>\n",
       "      <td>petrol</td>\n",
       "      <td>mitsubishi</td>\n",
       "      <td>yes</td>\n",
       "      <td>2016-03-21</td>\n",
       "      <td>2694</td>\n",
       "      <td>2016-03-21 10:42:49</td>\n",
       "    </tr>\n",
       "    <tr>\n",
       "      <th>354361</th>\n",
       "      <td>2016-03-14 17:48:27</td>\n",
       "      <td>2200</td>\n",
       "      <td>NaN</td>\n",
       "      <td>2005</td>\n",
       "      <td>NaN</td>\n",
       "      <td>0</td>\n",
       "      <td>NaN</td>\n",
       "      <td>20000</td>\n",
       "      <td>1</td>\n",
       "      <td>NaN</td>\n",
       "      <td>sonstige_autos</td>\n",
       "      <td>NaN</td>\n",
       "      <td>2016-03-14</td>\n",
       "      <td>39576</td>\n",
       "      <td>2016-04-06 00:46:52</td>\n",
       "    </tr>\n",
       "  </tbody>\n",
       "</table>\n",
       "</div>"
      ],
      "text/plain": [
       "              date_crawled  price vehicle_type  registration_year gearbox  \\\n",
       "354334 2016-03-31 19:52:33    180          NaN               1995     NaN   \n",
       "354342 2016-03-07 17:06:35   2600          NaN               2005    auto   \n",
       "354359 2016-03-27 20:36:20   1150          bus               2000  manual   \n",
       "354360 2016-03-21 09:50:58      0          NaN               2005  manual   \n",
       "354361 2016-03-14 17:48:27   2200          NaN               2005     NaN   \n",
       "\n",
       "        power     model  kilometer  registration_month fuel_type  \\\n",
       "354334      0       NaN     125000                   3    petrol   \n",
       "354342      0  c_klasse     150000                   9       NaN   \n",
       "354359      0    zafira     150000                   3    petrol   \n",
       "354360      0      colt     150000                   7    petrol   \n",
       "354361      0       NaN      20000                   1       NaN   \n",
       "\n",
       "                 brand not_repaired date_created  postal_code  \\\n",
       "354334            opel          NaN   2016-03-31        41470   \n",
       "354342   mercedes_benz          NaN   2016-03-07        61169   \n",
       "354359            opel           no   2016-03-27        26624   \n",
       "354360      mitsubishi          yes   2016-03-21         2694   \n",
       "354361  sonstige_autos          NaN   2016-03-14        39576   \n",
       "\n",
       "                 last_seen  \n",
       "354334 2016-04-06 14:18:04  \n",
       "354342 2016-03-08 21:28:38  \n",
       "354359 2016-03-29 10:17:23  \n",
       "354360 2016-03-21 10:42:49  \n",
       "354361 2016-04-06 00:46:52  "
      ]
     },
     "execution_count": 28,
     "metadata": {},
     "output_type": "execute_result"
    }
   ],
   "source": [
    "df[df['power'] == 0].tail()"
   ]
  },
  {
   "cell_type": "code",
   "execution_count": 29,
   "metadata": {
    "scrolled": false
   },
   "outputs": [
    {
     "data": {
      "text/html": [
       "<div>\n",
       "<style scoped>\n",
       "    .dataframe tbody tr th:only-of-type {\n",
       "        vertical-align: middle;\n",
       "    }\n",
       "\n",
       "    .dataframe tbody tr th {\n",
       "        vertical-align: top;\n",
       "    }\n",
       "\n",
       "    .dataframe thead th {\n",
       "        text-align: right;\n",
       "    }\n",
       "</style>\n",
       "<table border=\"1\" class=\"dataframe\">\n",
       "  <thead>\n",
       "    <tr style=\"text-align: right;\">\n",
       "      <th></th>\n",
       "      <th>date_crawled</th>\n",
       "      <th>price</th>\n",
       "      <th>vehicle_type</th>\n",
       "      <th>registration_year</th>\n",
       "      <th>gearbox</th>\n",
       "      <th>power</th>\n",
       "      <th>model</th>\n",
       "      <th>kilometer</th>\n",
       "      <th>registration_month</th>\n",
       "      <th>fuel_type</th>\n",
       "      <th>brand</th>\n",
       "      <th>not_repaired</th>\n",
       "      <th>date_created</th>\n",
       "      <th>postal_code</th>\n",
       "      <th>last_seen</th>\n",
       "    </tr>\n",
       "  </thead>\n",
       "  <tbody>\n",
       "    <tr>\n",
       "      <th>193</th>\n",
       "      <td>2016-03-27 12:47:45</td>\n",
       "      <td>1200</td>\n",
       "      <td>coupe</td>\n",
       "      <td>1990</td>\n",
       "      <td>manual</td>\n",
       "      <td>45</td>\n",
       "      <td>NaN</td>\n",
       "      <td>150000</td>\n",
       "      <td>0</td>\n",
       "      <td>petrol</td>\n",
       "      <td>volkswagen</td>\n",
       "      <td>NaN</td>\n",
       "      <td>2016-03-27</td>\n",
       "      <td>83317</td>\n",
       "      <td>2016-04-07 08:17:08</td>\n",
       "    </tr>\n",
       "    <tr>\n",
       "      <th>208</th>\n",
       "      <td>2016-03-13 00:56:50</td>\n",
       "      <td>2250</td>\n",
       "      <td>small</td>\n",
       "      <td>2001</td>\n",
       "      <td>NaN</td>\n",
       "      <td>41</td>\n",
       "      <td>fortwo</td>\n",
       "      <td>150000</td>\n",
       "      <td>10</td>\n",
       "      <td>gasoline</td>\n",
       "      <td>smart</td>\n",
       "      <td>no</td>\n",
       "      <td>2016-03-13</td>\n",
       "      <td>78224</td>\n",
       "      <td>2016-03-30 01:47:18</td>\n",
       "    </tr>\n",
       "    <tr>\n",
       "      <th>212</th>\n",
       "      <td>2016-03-11 19:50:22</td>\n",
       "      <td>1200</td>\n",
       "      <td>small</td>\n",
       "      <td>2002</td>\n",
       "      <td>manual</td>\n",
       "      <td>45</td>\n",
       "      <td>lupo</td>\n",
       "      <td>150000</td>\n",
       "      <td>9</td>\n",
       "      <td>petrol</td>\n",
       "      <td>volkswagen</td>\n",
       "      <td>no</td>\n",
       "      <td>2016-03-11</td>\n",
       "      <td>38707</td>\n",
       "      <td>2016-03-20 07:18:49</td>\n",
       "    </tr>\n",
       "    <tr>\n",
       "      <th>322</th>\n",
       "      <td>2016-03-28 14:57:57</td>\n",
       "      <td>3300</td>\n",
       "      <td>small</td>\n",
       "      <td>2006</td>\n",
       "      <td>auto</td>\n",
       "      <td>41</td>\n",
       "      <td>fortwo</td>\n",
       "      <td>125000</td>\n",
       "      <td>8</td>\n",
       "      <td>gasoline</td>\n",
       "      <td>smart</td>\n",
       "      <td>no</td>\n",
       "      <td>2016-03-28</td>\n",
       "      <td>33719</td>\n",
       "      <td>2016-03-30 05:46:53</td>\n",
       "    </tr>\n",
       "    <tr>\n",
       "      <th>347</th>\n",
       "      <td>2016-04-03 09:53:39</td>\n",
       "      <td>500</td>\n",
       "      <td>small</td>\n",
       "      <td>1996</td>\n",
       "      <td>manual</td>\n",
       "      <td>45</td>\n",
       "      <td>corsa</td>\n",
       "      <td>70000</td>\n",
       "      <td>4</td>\n",
       "      <td>petrol</td>\n",
       "      <td>opel</td>\n",
       "      <td>NaN</td>\n",
       "      <td>2016-04-03</td>\n",
       "      <td>8496</td>\n",
       "      <td>2016-04-07 11:17:28</td>\n",
       "    </tr>\n",
       "    <tr>\n",
       "      <th>...</th>\n",
       "      <td>...</td>\n",
       "      <td>...</td>\n",
       "      <td>...</td>\n",
       "      <td>...</td>\n",
       "      <td>...</td>\n",
       "      <td>...</td>\n",
       "      <td>...</td>\n",
       "      <td>...</td>\n",
       "      <td>...</td>\n",
       "      <td>...</td>\n",
       "      <td>...</td>\n",
       "      <td>...</td>\n",
       "      <td>...</td>\n",
       "      <td>...</td>\n",
       "      <td>...</td>\n",
       "    </tr>\n",
       "    <tr>\n",
       "      <th>353902</th>\n",
       "      <td>2016-03-14 20:37:15</td>\n",
       "      <td>2999</td>\n",
       "      <td>other</td>\n",
       "      <td>1989</td>\n",
       "      <td>manual</td>\n",
       "      <td>45</td>\n",
       "      <td>transporter</td>\n",
       "      <td>150000</td>\n",
       "      <td>11</td>\n",
       "      <td>gasoline</td>\n",
       "      <td>volkswagen</td>\n",
       "      <td>no</td>\n",
       "      <td>2016-03-14</td>\n",
       "      <td>26632</td>\n",
       "      <td>2016-03-24 00:46:24</td>\n",
       "    </tr>\n",
       "    <tr>\n",
       "      <th>353988</th>\n",
       "      <td>2016-03-05 14:08:23</td>\n",
       "      <td>1499</td>\n",
       "      <td>small</td>\n",
       "      <td>2001</td>\n",
       "      <td>auto</td>\n",
       "      <td>41</td>\n",
       "      <td>fortwo</td>\n",
       "      <td>150000</td>\n",
       "      <td>12</td>\n",
       "      <td>gasoline</td>\n",
       "      <td>smart</td>\n",
       "      <td>no</td>\n",
       "      <td>2016-03-04</td>\n",
       "      <td>65931</td>\n",
       "      <td>2016-03-08 14:45:23</td>\n",
       "    </tr>\n",
       "    <tr>\n",
       "      <th>354171</th>\n",
       "      <td>2016-03-20 17:55:27</td>\n",
       "      <td>0</td>\n",
       "      <td>NaN</td>\n",
       "      <td>1995</td>\n",
       "      <td>manual</td>\n",
       "      <td>45</td>\n",
       "      <td>polo</td>\n",
       "      <td>150000</td>\n",
       "      <td>0</td>\n",
       "      <td>petrol</td>\n",
       "      <td>volkswagen</td>\n",
       "      <td>NaN</td>\n",
       "      <td>2016-03-20</td>\n",
       "      <td>2625</td>\n",
       "      <td>2016-04-07 00:46:35</td>\n",
       "    </tr>\n",
       "    <tr>\n",
       "      <th>354219</th>\n",
       "      <td>2016-03-26 08:37:13</td>\n",
       "      <td>200</td>\n",
       "      <td>small</td>\n",
       "      <td>1991</td>\n",
       "      <td>manual</td>\n",
       "      <td>45</td>\n",
       "      <td>polo</td>\n",
       "      <td>150000</td>\n",
       "      <td>1</td>\n",
       "      <td>petrol</td>\n",
       "      <td>volkswagen</td>\n",
       "      <td>yes</td>\n",
       "      <td>2016-03-26</td>\n",
       "      <td>27798</td>\n",
       "      <td>2016-03-29 12:16:52</td>\n",
       "    </tr>\n",
       "    <tr>\n",
       "      <th>354262</th>\n",
       "      <td>2016-03-31 16:37:05</td>\n",
       "      <td>399</td>\n",
       "      <td>small</td>\n",
       "      <td>1992</td>\n",
       "      <td>manual</td>\n",
       "      <td>45</td>\n",
       "      <td>polo</td>\n",
       "      <td>150000</td>\n",
       "      <td>4</td>\n",
       "      <td>petrol</td>\n",
       "      <td>volkswagen</td>\n",
       "      <td>NaN</td>\n",
       "      <td>2016-03-31</td>\n",
       "      <td>74592</td>\n",
       "      <td>2016-03-31 16:37:05</td>\n",
       "    </tr>\n",
       "  </tbody>\n",
       "</table>\n",
       "<p>3742 rows × 15 columns</p>\n",
       "</div>"
      ],
      "text/plain": [
       "              date_crawled  price vehicle_type  registration_year gearbox  \\\n",
       "193    2016-03-27 12:47:45   1200        coupe               1990  manual   \n",
       "208    2016-03-13 00:56:50   2250        small               2001     NaN   \n",
       "212    2016-03-11 19:50:22   1200        small               2002  manual   \n",
       "322    2016-03-28 14:57:57   3300        small               2006    auto   \n",
       "347    2016-04-03 09:53:39    500        small               1996  manual   \n",
       "...                    ...    ...          ...                ...     ...   \n",
       "353902 2016-03-14 20:37:15   2999        other               1989  manual   \n",
       "353988 2016-03-05 14:08:23   1499        small               2001    auto   \n",
       "354171 2016-03-20 17:55:27      0          NaN               1995  manual   \n",
       "354219 2016-03-26 08:37:13    200        small               1991  manual   \n",
       "354262 2016-03-31 16:37:05    399        small               1992  manual   \n",
       "\n",
       "        power        model  kilometer  registration_month fuel_type  \\\n",
       "193        45          NaN     150000                   0    petrol   \n",
       "208        41       fortwo     150000                  10  gasoline   \n",
       "212        45         lupo     150000                   9    petrol   \n",
       "322        41       fortwo     125000                   8  gasoline   \n",
       "347        45        corsa      70000                   4    petrol   \n",
       "...       ...          ...        ...                 ...       ...   \n",
       "353902     45  transporter     150000                  11  gasoline   \n",
       "353988     41       fortwo     150000                  12  gasoline   \n",
       "354171     45         polo     150000                   0    petrol   \n",
       "354219     45         polo     150000                   1    petrol   \n",
       "354262     45         polo     150000                   4    petrol   \n",
       "\n",
       "             brand not_repaired date_created  postal_code           last_seen  \n",
       "193     volkswagen          NaN   2016-03-27        83317 2016-04-07 08:17:08  \n",
       "208          smart           no   2016-03-13        78224 2016-03-30 01:47:18  \n",
       "212     volkswagen           no   2016-03-11        38707 2016-03-20 07:18:49  \n",
       "322          smart           no   2016-03-28        33719 2016-03-30 05:46:53  \n",
       "347           opel          NaN   2016-04-03         8496 2016-04-07 11:17:28  \n",
       "...            ...          ...          ...          ...                 ...  \n",
       "353902  volkswagen           no   2016-03-14        26632 2016-03-24 00:46:24  \n",
       "353988       smart           no   2016-03-04        65931 2016-03-08 14:45:23  \n",
       "354171  volkswagen          NaN   2016-03-20         2625 2016-04-07 00:46:35  \n",
       "354219  volkswagen          yes   2016-03-26        27798 2016-03-29 12:16:52  \n",
       "354262  volkswagen          NaN   2016-03-31        74592 2016-03-31 16:37:05  \n",
       "\n",
       "[3742 rows x 15 columns]"
      ]
     },
     "execution_count": 29,
     "metadata": {},
     "output_type": "execute_result"
    }
   ],
   "source": [
    "df[(df['power'] > 40) & (df['power'] < 50)]"
   ]
  },
  {
   "cell_type": "code",
   "execution_count": 30,
   "metadata": {},
   "outputs": [
    {
     "data": {
      "text/html": [
       "<div>\n",
       "<style scoped>\n",
       "    .dataframe tbody tr th:only-of-type {\n",
       "        vertical-align: middle;\n",
       "    }\n",
       "\n",
       "    .dataframe tbody tr th {\n",
       "        vertical-align: top;\n",
       "    }\n",
       "\n",
       "    .dataframe thead th {\n",
       "        text-align: right;\n",
       "    }\n",
       "</style>\n",
       "<table border=\"1\" class=\"dataframe\">\n",
       "  <thead>\n",
       "    <tr style=\"text-align: right;\">\n",
       "      <th></th>\n",
       "      <th>date_crawled</th>\n",
       "      <th>price</th>\n",
       "      <th>vehicle_type</th>\n",
       "      <th>registration_year</th>\n",
       "      <th>gearbox</th>\n",
       "      <th>power</th>\n",
       "      <th>model</th>\n",
       "      <th>kilometer</th>\n",
       "      <th>registration_month</th>\n",
       "      <th>fuel_type</th>\n",
       "      <th>brand</th>\n",
       "      <th>not_repaired</th>\n",
       "      <th>date_created</th>\n",
       "      <th>postal_code</th>\n",
       "      <th>last_seen</th>\n",
       "    </tr>\n",
       "  </thead>\n",
       "  <tbody>\n",
       "    <tr>\n",
       "      <th>431</th>\n",
       "      <td>2016-03-20 20:45:27</td>\n",
       "      <td>3950</td>\n",
       "      <td>small</td>\n",
       "      <td>2004</td>\n",
       "      <td>auto</td>\n",
       "      <td>5</td>\n",
       "      <td>NaN</td>\n",
       "      <td>70000</td>\n",
       "      <td>5</td>\n",
       "      <td>gasoline</td>\n",
       "      <td>sonstige_autos</td>\n",
       "      <td>no</td>\n",
       "      <td>2016-03-20</td>\n",
       "      <td>90562</td>\n",
       "      <td>2016-04-03 04:17:08</td>\n",
       "    </tr>\n",
       "    <tr>\n",
       "      <th>3349</th>\n",
       "      <td>2016-03-29 17:37:58</td>\n",
       "      <td>1990</td>\n",
       "      <td>small</td>\n",
       "      <td>2004</td>\n",
       "      <td>NaN</td>\n",
       "      <td>7</td>\n",
       "      <td>polo</td>\n",
       "      <td>150000</td>\n",
       "      <td>5</td>\n",
       "      <td>gasoline</td>\n",
       "      <td>volkswagen</td>\n",
       "      <td>no</td>\n",
       "      <td>2016-03-29</td>\n",
       "      <td>37124</td>\n",
       "      <td>2016-04-02 05:16:40</td>\n",
       "    </tr>\n",
       "    <tr>\n",
       "      <th>9561</th>\n",
       "      <td>2016-04-04 07:58:34</td>\n",
       "      <td>9000</td>\n",
       "      <td>sedan</td>\n",
       "      <td>2009</td>\n",
       "      <td>manual</td>\n",
       "      <td>2</td>\n",
       "      <td>a4</td>\n",
       "      <td>5000</td>\n",
       "      <td>12</td>\n",
       "      <td>gasoline</td>\n",
       "      <td>audi</td>\n",
       "      <td>NaN</td>\n",
       "      <td>2016-04-04</td>\n",
       "      <td>12045</td>\n",
       "      <td>2016-04-06 10:17:01</td>\n",
       "    </tr>\n",
       "    <tr>\n",
       "      <th>12747</th>\n",
       "      <td>2016-03-24 16:38:53</td>\n",
       "      <td>2850</td>\n",
       "      <td>small</td>\n",
       "      <td>2005</td>\n",
       "      <td>auto</td>\n",
       "      <td>5</td>\n",
       "      <td>NaN</td>\n",
       "      <td>40000</td>\n",
       "      <td>8</td>\n",
       "      <td>gasoline</td>\n",
       "      <td>sonstige_autos</td>\n",
       "      <td>no</td>\n",
       "      <td>2016-03-24</td>\n",
       "      <td>56825</td>\n",
       "      <td>2016-04-07 08:44:59</td>\n",
       "    </tr>\n",
       "    <tr>\n",
       "      <th>16228</th>\n",
       "      <td>2016-04-02 22:47:03</td>\n",
       "      <td>2500</td>\n",
       "      <td>small</td>\n",
       "      <td>2006</td>\n",
       "      <td>auto</td>\n",
       "      <td>5</td>\n",
       "      <td>NaN</td>\n",
       "      <td>40000</td>\n",
       "      <td>1</td>\n",
       "      <td>gasoline</td>\n",
       "      <td>sonstige_autos</td>\n",
       "      <td>yes</td>\n",
       "      <td>2016-04-02</td>\n",
       "      <td>78532</td>\n",
       "      <td>2016-04-04 21:17:01</td>\n",
       "    </tr>\n",
       "    <tr>\n",
       "      <th>...</th>\n",
       "      <td>...</td>\n",
       "      <td>...</td>\n",
       "      <td>...</td>\n",
       "      <td>...</td>\n",
       "      <td>...</td>\n",
       "      <td>...</td>\n",
       "      <td>...</td>\n",
       "      <td>...</td>\n",
       "      <td>...</td>\n",
       "      <td>...</td>\n",
       "      <td>...</td>\n",
       "      <td>...</td>\n",
       "      <td>...</td>\n",
       "      <td>...</td>\n",
       "      <td>...</td>\n",
       "    </tr>\n",
       "    <tr>\n",
       "      <th>345254</th>\n",
       "      <td>2016-03-28 11:47:51</td>\n",
       "      <td>8999</td>\n",
       "      <td>small</td>\n",
       "      <td>2013</td>\n",
       "      <td>auto</td>\n",
       "      <td>5</td>\n",
       "      <td>NaN</td>\n",
       "      <td>20000</td>\n",
       "      <td>6</td>\n",
       "      <td>gasoline</td>\n",
       "      <td>sonstige_autos</td>\n",
       "      <td>no</td>\n",
       "      <td>2016-03-28</td>\n",
       "      <td>49324</td>\n",
       "      <td>2016-04-06 14:17:13</td>\n",
       "    </tr>\n",
       "    <tr>\n",
       "      <th>346663</th>\n",
       "      <td>2016-03-08 19:50:27</td>\n",
       "      <td>3700</td>\n",
       "      <td>small</td>\n",
       "      <td>2006</td>\n",
       "      <td>auto</td>\n",
       "      <td>5</td>\n",
       "      <td>NaN</td>\n",
       "      <td>40000</td>\n",
       "      <td>4</td>\n",
       "      <td>gasoline</td>\n",
       "      <td>sonstige_autos</td>\n",
       "      <td>no</td>\n",
       "      <td>2016-03-08</td>\n",
       "      <td>50769</td>\n",
       "      <td>2016-04-05 15:45:35</td>\n",
       "    </tr>\n",
       "    <tr>\n",
       "      <th>348971</th>\n",
       "      <td>2016-03-19 21:53:10</td>\n",
       "      <td>1850</td>\n",
       "      <td>small</td>\n",
       "      <td>2003</td>\n",
       "      <td>auto</td>\n",
       "      <td>5</td>\n",
       "      <td>NaN</td>\n",
       "      <td>50000</td>\n",
       "      <td>3</td>\n",
       "      <td>gasoline</td>\n",
       "      <td>sonstige_autos</td>\n",
       "      <td>yes</td>\n",
       "      <td>2016-03-19</td>\n",
       "      <td>13347</td>\n",
       "      <td>2016-04-03 14:44:50</td>\n",
       "    </tr>\n",
       "    <tr>\n",
       "      <th>353123</th>\n",
       "      <td>2016-03-26 18:53:12</td>\n",
       "      <td>8600</td>\n",
       "      <td>convertible</td>\n",
       "      <td>2012</td>\n",
       "      <td>manual</td>\n",
       "      <td>8</td>\n",
       "      <td>NaN</td>\n",
       "      <td>5000</td>\n",
       "      <td>3</td>\n",
       "      <td>gasoline</td>\n",
       "      <td>sonstige_autos</td>\n",
       "      <td>no</td>\n",
       "      <td>2016-03-26</td>\n",
       "      <td>82399</td>\n",
       "      <td>2016-04-06 08:17:29</td>\n",
       "    </tr>\n",
       "    <tr>\n",
       "      <th>354356</th>\n",
       "      <td>2016-04-02 20:37:03</td>\n",
       "      <td>3999</td>\n",
       "      <td>wagon</td>\n",
       "      <td>2005</td>\n",
       "      <td>manual</td>\n",
       "      <td>3</td>\n",
       "      <td>3er</td>\n",
       "      <td>150000</td>\n",
       "      <td>5</td>\n",
       "      <td>gasoline</td>\n",
       "      <td>bmw</td>\n",
       "      <td>no</td>\n",
       "      <td>2016-04-02</td>\n",
       "      <td>81825</td>\n",
       "      <td>2016-04-06 20:47:12</td>\n",
       "    </tr>\n",
       "  </tbody>\n",
       "</table>\n",
       "<p>201 rows × 15 columns</p>\n",
       "</div>"
      ],
      "text/plain": [
       "              date_crawled  price vehicle_type  registration_year gearbox  \\\n",
       "431    2016-03-20 20:45:27   3950        small               2004    auto   \n",
       "3349   2016-03-29 17:37:58   1990        small               2004     NaN   \n",
       "9561   2016-04-04 07:58:34   9000        sedan               2009  manual   \n",
       "12747  2016-03-24 16:38:53   2850        small               2005    auto   \n",
       "16228  2016-04-02 22:47:03   2500        small               2006    auto   \n",
       "...                    ...    ...          ...                ...     ...   \n",
       "345254 2016-03-28 11:47:51   8999        small               2013    auto   \n",
       "346663 2016-03-08 19:50:27   3700        small               2006    auto   \n",
       "348971 2016-03-19 21:53:10   1850        small               2003    auto   \n",
       "353123 2016-03-26 18:53:12   8600  convertible               2012  manual   \n",
       "354356 2016-04-02 20:37:03   3999        wagon               2005  manual   \n",
       "\n",
       "        power model  kilometer  registration_month fuel_type           brand  \\\n",
       "431         5   NaN      70000                   5  gasoline  sonstige_autos   \n",
       "3349        7  polo     150000                   5  gasoline      volkswagen   \n",
       "9561        2    a4       5000                  12  gasoline            audi   \n",
       "12747       5   NaN      40000                   8  gasoline  sonstige_autos   \n",
       "16228       5   NaN      40000                   1  gasoline  sonstige_autos   \n",
       "...       ...   ...        ...                 ...       ...             ...   \n",
       "345254      5   NaN      20000                   6  gasoline  sonstige_autos   \n",
       "346663      5   NaN      40000                   4  gasoline  sonstige_autos   \n",
       "348971      5   NaN      50000                   3  gasoline  sonstige_autos   \n",
       "353123      8   NaN       5000                   3  gasoline  sonstige_autos   \n",
       "354356      3   3er     150000                   5  gasoline             bmw   \n",
       "\n",
       "       not_repaired date_created  postal_code           last_seen  \n",
       "431              no   2016-03-20        90562 2016-04-03 04:17:08  \n",
       "3349             no   2016-03-29        37124 2016-04-02 05:16:40  \n",
       "9561            NaN   2016-04-04        12045 2016-04-06 10:17:01  \n",
       "12747            no   2016-03-24        56825 2016-04-07 08:44:59  \n",
       "16228           yes   2016-04-02        78532 2016-04-04 21:17:01  \n",
       "...             ...          ...          ...                 ...  \n",
       "345254           no   2016-03-28        49324 2016-04-06 14:17:13  \n",
       "346663           no   2016-03-08        50769 2016-04-05 15:45:35  \n",
       "348971          yes   2016-03-19        13347 2016-04-03 14:44:50  \n",
       "353123           no   2016-03-26        82399 2016-04-06 08:17:29  \n",
       "354356           no   2016-04-02        81825 2016-04-06 20:47:12  \n",
       "\n",
       "[201 rows x 15 columns]"
      ]
     },
     "execution_count": 30,
     "metadata": {},
     "output_type": "execute_result"
    }
   ],
   "source": [
    "df[(df['power'] > 0) & (df['power'] < 10)]"
   ]
  },
  {
   "cell_type": "markdown",
   "metadata": {},
   "source": [
    "С нижней границей мощности тоже не просто. \n",
    "Более 30 тысяч анкет почему-то с нулевой мощностью. Может просто не указали при заполнении анкеты, а может машина не находу.\n",
    "\n",
    "Есть диапазон от 10 до 50 л.с., куда попадают малолитражки и электромобили. \n",
    " \n",
    " Трудно объяснимый диапазон больше нуля и меньше 10, всего 201 строка. Сюда в основном попал бренд *sonstige_autos* (другие авто) для которого неизвестны достоверные данные. А также встречаются известные бренды *audi*, *bmv* и другие, для которых эти значения явно ошибочные."
   ]
  },
  {
   "cell_type": "markdown",
   "metadata": {},
   "source": [
    "**Цена**\n",
    "\n",
    "Посмотрим на столбец *price*"
   ]
  },
  {
   "cell_type": "code",
   "execution_count": 31,
   "metadata": {
    "scrolled": true
   },
   "outputs": [
    {
     "data": {
      "image/png": "[encoded data removed]",
      "text/plain": [
       "<Figure size 1080x360 with 2 Axes>"
      ]
     },
     "metadata": {
      "needs_background": "light"
     },
     "output_type": "display_data"
    }
   ],
   "source": [
    "feature_analiser(df['price'], 'Цена', 'евро')"
   ]
  },
  {
   "cell_type": "code",
   "execution_count": 32,
   "metadata": {
    "scrolled": false
   },
   "outputs": [
    {
     "data": {
      "text/html": [
       "<div>\n",
       "<style scoped>\n",
       "    .dataframe tbody tr th:only-of-type {\n",
       "        vertical-align: middle;\n",
       "    }\n",
       "\n",
       "    .dataframe tbody tr th {\n",
       "        vertical-align: top;\n",
       "    }\n",
       "\n",
       "    .dataframe thead th {\n",
       "        text-align: right;\n",
       "    }\n",
       "</style>\n",
       "<table border=\"1\" class=\"dataframe\">\n",
       "  <thead>\n",
       "    <tr style=\"text-align: right;\">\n",
       "      <th></th>\n",
       "      <th>date_crawled</th>\n",
       "      <th>price</th>\n",
       "      <th>vehicle_type</th>\n",
       "      <th>registration_year</th>\n",
       "      <th>gearbox</th>\n",
       "      <th>power</th>\n",
       "      <th>model</th>\n",
       "      <th>kilometer</th>\n",
       "      <th>registration_month</th>\n",
       "      <th>fuel_type</th>\n",
       "      <th>brand</th>\n",
       "      <th>not_repaired</th>\n",
       "      <th>date_created</th>\n",
       "      <th>postal_code</th>\n",
       "      <th>last_seen</th>\n",
       "    </tr>\n",
       "  </thead>\n",
       "  <tbody>\n",
       "    <tr>\n",
       "      <th>1</th>\n",
       "      <td>2016-03-24 10:58:45</td>\n",
       "      <td>18300</td>\n",
       "      <td>coupe</td>\n",
       "      <td>2011</td>\n",
       "      <td>manual</td>\n",
       "      <td>190</td>\n",
       "      <td>NaN</td>\n",
       "      <td>125000</td>\n",
       "      <td>5</td>\n",
       "      <td>gasoline</td>\n",
       "      <td>audi</td>\n",
       "      <td>yes</td>\n",
       "      <td>2016-03-24</td>\n",
       "      <td>66954</td>\n",
       "      <td>2016-04-07 01:46:50</td>\n",
       "    </tr>\n",
       "    <tr>\n",
       "      <th>14</th>\n",
       "      <td>2016-03-21 12:57:01</td>\n",
       "      <td>17999</td>\n",
       "      <td>suv</td>\n",
       "      <td>2011</td>\n",
       "      <td>manual</td>\n",
       "      <td>190</td>\n",
       "      <td>navara</td>\n",
       "      <td>70000</td>\n",
       "      <td>3</td>\n",
       "      <td>gasoline</td>\n",
       "      <td>nissan</td>\n",
       "      <td>no</td>\n",
       "      <td>2016-03-21</td>\n",
       "      <td>4177</td>\n",
       "      <td>2016-04-06 07:45:42</td>\n",
       "    </tr>\n",
       "    <tr>\n",
       "      <th>33</th>\n",
       "      <td>2016-03-25 21:48:47</td>\n",
       "      <td>18000</td>\n",
       "      <td>sedan</td>\n",
       "      <td>2007</td>\n",
       "      <td>auto</td>\n",
       "      <td>218</td>\n",
       "      <td>3er</td>\n",
       "      <td>20000</td>\n",
       "      <td>5</td>\n",
       "      <td>petrol</td>\n",
       "      <td>bmw</td>\n",
       "      <td>no</td>\n",
       "      <td>2016-03-25</td>\n",
       "      <td>39179</td>\n",
       "      <td>2016-04-07 04:45:21</td>\n",
       "    </tr>\n",
       "    <tr>\n",
       "      <th>172</th>\n",
       "      <td>2016-03-07 12:38:19</td>\n",
       "      <td>19750</td>\n",
       "      <td>convertible</td>\n",
       "      <td>2006</td>\n",
       "      <td>manual</td>\n",
       "      <td>305</td>\n",
       "      <td>mustang</td>\n",
       "      <td>50000</td>\n",
       "      <td>7</td>\n",
       "      <td>petrol</td>\n",
       "      <td>ford</td>\n",
       "      <td>no</td>\n",
       "      <td>2016-03-07</td>\n",
       "      <td>38350</td>\n",
       "      <td>2016-03-12 20:18:29</td>\n",
       "    </tr>\n",
       "    <tr>\n",
       "      <th>179</th>\n",
       "      <td>2016-03-08 20:58:31</td>\n",
       "      <td>16449</td>\n",
       "      <td>wagon</td>\n",
       "      <td>2015</td>\n",
       "      <td>auto</td>\n",
       "      <td>110</td>\n",
       "      <td>fabia</td>\n",
       "      <td>10000</td>\n",
       "      <td>8</td>\n",
       "      <td>petrol</td>\n",
       "      <td>skoda</td>\n",
       "      <td>no</td>\n",
       "      <td>2016-03-08</td>\n",
       "      <td>95502</td>\n",
       "      <td>2016-04-06 01:17:03</td>\n",
       "    </tr>\n",
       "    <tr>\n",
       "      <th>204</th>\n",
       "      <td>2016-03-31 12:58:26</td>\n",
       "      <td>18400</td>\n",
       "      <td>wagon</td>\n",
       "      <td>2011</td>\n",
       "      <td>auto</td>\n",
       "      <td>313</td>\n",
       "      <td>5er</td>\n",
       "      <td>150000</td>\n",
       "      <td>11</td>\n",
       "      <td>gasoline</td>\n",
       "      <td>bmw</td>\n",
       "      <td>no</td>\n",
       "      <td>2016-03-31</td>\n",
       "      <td>52477</td>\n",
       "      <td>2016-03-31 13:44:44</td>\n",
       "    </tr>\n",
       "    <tr>\n",
       "      <th>236</th>\n",
       "      <td>2016-03-05 17:50:33</td>\n",
       "      <td>15700</td>\n",
       "      <td>sedan</td>\n",
       "      <td>2011</td>\n",
       "      <td>manual</td>\n",
       "      <td>170</td>\n",
       "      <td>golf</td>\n",
       "      <td>90000</td>\n",
       "      <td>3</td>\n",
       "      <td>gasoline</td>\n",
       "      <td>volkswagen</td>\n",
       "      <td>no</td>\n",
       "      <td>2016-03-05</td>\n",
       "      <td>32832</td>\n",
       "      <td>2016-03-11 16:17:33</td>\n",
       "    </tr>\n",
       "    <tr>\n",
       "      <th>282</th>\n",
       "      <td>2016-03-06 12:38:13</td>\n",
       "      <td>18700</td>\n",
       "      <td>coupe</td>\n",
       "      <td>2009</td>\n",
       "      <td>auto</td>\n",
       "      <td>213</td>\n",
       "      <td>mustang</td>\n",
       "      <td>80000</td>\n",
       "      <td>8</td>\n",
       "      <td>petrol</td>\n",
       "      <td>ford</td>\n",
       "      <td>no</td>\n",
       "      <td>2016-03-06</td>\n",
       "      <td>97424</td>\n",
       "      <td>2016-04-06 05:44:39</td>\n",
       "    </tr>\n",
       "    <tr>\n",
       "      <th>287</th>\n",
       "      <td>2016-03-19 16:40:33</td>\n",
       "      <td>16150</td>\n",
       "      <td>suv</td>\n",
       "      <td>2011</td>\n",
       "      <td>manual</td>\n",
       "      <td>150</td>\n",
       "      <td>tiguan</td>\n",
       "      <td>30000</td>\n",
       "      <td>4</td>\n",
       "      <td>petrol</td>\n",
       "      <td>volkswagen</td>\n",
       "      <td>no</td>\n",
       "      <td>2016-03-19</td>\n",
       "      <td>6502</td>\n",
       "      <td>2016-04-07 02:15:37</td>\n",
       "    </tr>\n",
       "    <tr>\n",
       "      <th>313</th>\n",
       "      <td>2016-03-05 19:47:47</td>\n",
       "      <td>16500</td>\n",
       "      <td>coupe</td>\n",
       "      <td>2007</td>\n",
       "      <td>manual</td>\n",
       "      <td>265</td>\n",
       "      <td>z_reihe</td>\n",
       "      <td>150000</td>\n",
       "      <td>3</td>\n",
       "      <td>petrol</td>\n",
       "      <td>bmw</td>\n",
       "      <td>no</td>\n",
       "      <td>2016-03-05</td>\n",
       "      <td>71083</td>\n",
       "      <td>2016-04-07 12:17:24</td>\n",
       "    </tr>\n",
       "  </tbody>\n",
       "</table>\n",
       "</div>"
      ],
      "text/plain": [
       "           date_crawled  price vehicle_type  registration_year gearbox  power  \\\n",
       "1   2016-03-24 10:58:45  18300        coupe               2011  manual    190   \n",
       "14  2016-03-21 12:57:01  17999          suv               2011  manual    190   \n",
       "33  2016-03-25 21:48:47  18000        sedan               2007    auto    218   \n",
       "172 2016-03-07 12:38:19  19750  convertible               2006  manual    305   \n",
       "179 2016-03-08 20:58:31  16449        wagon               2015    auto    110   \n",
       "204 2016-03-31 12:58:26  18400        wagon               2011    auto    313   \n",
       "236 2016-03-05 17:50:33  15700        sedan               2011  manual    170   \n",
       "282 2016-03-06 12:38:13  18700        coupe               2009    auto    213   \n",
       "287 2016-03-19 16:40:33  16150          suv               2011  manual    150   \n",
       "313 2016-03-05 19:47:47  16500        coupe               2007  manual    265   \n",
       "\n",
       "       model  kilometer  registration_month fuel_type       brand  \\\n",
       "1        NaN     125000                   5  gasoline        audi   \n",
       "14    navara      70000                   3  gasoline      nissan   \n",
       "33       3er      20000                   5    petrol         bmw   \n",
       "172  mustang      50000                   7    petrol        ford   \n",
       "179    fabia      10000                   8    petrol       skoda   \n",
       "204      5er     150000                  11  gasoline         bmw   \n",
       "236     golf      90000                   3  gasoline  volkswagen   \n",
       "282  mustang      80000                   8    petrol        ford   \n",
       "287   tiguan      30000                   4    petrol  volkswagen   \n",
       "313  z_reihe     150000                   3    petrol         bmw   \n",
       "\n",
       "    not_repaired date_created  postal_code           last_seen  \n",
       "1            yes   2016-03-24        66954 2016-04-07 01:46:50  \n",
       "14            no   2016-03-21         4177 2016-04-06 07:45:42  \n",
       "33            no   2016-03-25        39179 2016-04-07 04:45:21  \n",
       "172           no   2016-03-07        38350 2016-03-12 20:18:29  \n",
       "179           no   2016-03-08        95502 2016-04-06 01:17:03  \n",
       "204           no   2016-03-31        52477 2016-03-31 13:44:44  \n",
       "236           no   2016-03-05        32832 2016-03-11 16:17:33  \n",
       "282           no   2016-03-06        97424 2016-04-06 05:44:39  \n",
       "287           no   2016-03-19         6502 2016-04-07 02:15:37  \n",
       "313           no   2016-03-05        71083 2016-04-07 12:17:24  "
      ]
     },
     "execution_count": 32,
     "metadata": {},
     "output_type": "execute_result"
    }
   ],
   "source": [
    "df[df['price'] > 15000].head(10)"
   ]
  },
  {
   "cell_type": "markdown",
   "metadata": {},
   "source": [
    "К вернему диапазону цен вопросов нет. Это либо относительно новые автомобили, либо более высокого класса."
   ]
  },
  {
   "cell_type": "code",
   "execution_count": 33,
   "metadata": {
    "scrolled": false
   },
   "outputs": [
    {
     "data": {
      "text/html": [
       "<div>\n",
       "<style scoped>\n",
       "    .dataframe tbody tr th:only-of-type {\n",
       "        vertical-align: middle;\n",
       "    }\n",
       "\n",
       "    .dataframe tbody tr th {\n",
       "        vertical-align: top;\n",
       "    }\n",
       "\n",
       "    .dataframe thead th {\n",
       "        text-align: right;\n",
       "    }\n",
       "</style>\n",
       "<table border=\"1\" class=\"dataframe\">\n",
       "  <thead>\n",
       "    <tr style=\"text-align: right;\">\n",
       "      <th></th>\n",
       "      <th>date_crawled</th>\n",
       "      <th>price</th>\n",
       "      <th>vehicle_type</th>\n",
       "      <th>registration_year</th>\n",
       "      <th>gearbox</th>\n",
       "      <th>power</th>\n",
       "      <th>model</th>\n",
       "      <th>kilometer</th>\n",
       "      <th>registration_month</th>\n",
       "      <th>fuel_type</th>\n",
       "      <th>brand</th>\n",
       "      <th>not_repaired</th>\n",
       "      <th>date_created</th>\n",
       "      <th>postal_code</th>\n",
       "      <th>last_seen</th>\n",
       "    </tr>\n",
       "  </thead>\n",
       "  <tbody>\n",
       "    <tr>\n",
       "      <th>40</th>\n",
       "      <td>2016-03-26 22:06:17</td>\n",
       "      <td>0</td>\n",
       "      <td>NaN</td>\n",
       "      <td>1990</td>\n",
       "      <td>NaN</td>\n",
       "      <td>0</td>\n",
       "      <td>corsa</td>\n",
       "      <td>150000</td>\n",
       "      <td>1</td>\n",
       "      <td>petrol</td>\n",
       "      <td>opel</td>\n",
       "      <td>NaN</td>\n",
       "      <td>2016-03-26</td>\n",
       "      <td>56412</td>\n",
       "      <td>2016-03-27 17:43:34</td>\n",
       "    </tr>\n",
       "    <tr>\n",
       "      <th>59</th>\n",
       "      <td>2016-03-29 15:48:15</td>\n",
       "      <td>1</td>\n",
       "      <td>suv</td>\n",
       "      <td>1994</td>\n",
       "      <td>manual</td>\n",
       "      <td>286</td>\n",
       "      <td>NaN</td>\n",
       "      <td>150000</td>\n",
       "      <td>11</td>\n",
       "      <td>NaN</td>\n",
       "      <td>sonstige_autos</td>\n",
       "      <td>NaN</td>\n",
       "      <td>2016-03-29</td>\n",
       "      <td>53721</td>\n",
       "      <td>2016-04-06 01:44:38</td>\n",
       "    </tr>\n",
       "    <tr>\n",
       "      <th>89</th>\n",
       "      <td>2016-03-28 09:37:01</td>\n",
       "      <td>1</td>\n",
       "      <td>sedan</td>\n",
       "      <td>1995</td>\n",
       "      <td>manual</td>\n",
       "      <td>113</td>\n",
       "      <td>e_klasse</td>\n",
       "      <td>150000</td>\n",
       "      <td>4</td>\n",
       "      <td>gasoline</td>\n",
       "      <td>mercedes_benz</td>\n",
       "      <td>no</td>\n",
       "      <td>2016-03-28</td>\n",
       "      <td>40589</td>\n",
       "      <td>2016-04-06 12:15:54</td>\n",
       "    </tr>\n",
       "    <tr>\n",
       "      <th>115</th>\n",
       "      <td>2016-03-20 18:53:27</td>\n",
       "      <td>0</td>\n",
       "      <td>small</td>\n",
       "      <td>1999</td>\n",
       "      <td>NaN</td>\n",
       "      <td>0</td>\n",
       "      <td>NaN</td>\n",
       "      <td>5000</td>\n",
       "      <td>0</td>\n",
       "      <td>petrol</td>\n",
       "      <td>volkswagen</td>\n",
       "      <td>NaN</td>\n",
       "      <td>2016-03-20</td>\n",
       "      <td>37520</td>\n",
       "      <td>2016-04-07 02:45:22</td>\n",
       "    </tr>\n",
       "    <tr>\n",
       "      <th>152</th>\n",
       "      <td>2016-03-11 18:55:53</td>\n",
       "      <td>0</td>\n",
       "      <td>bus</td>\n",
       "      <td>2004</td>\n",
       "      <td>manual</td>\n",
       "      <td>101</td>\n",
       "      <td>meriva</td>\n",
       "      <td>150000</td>\n",
       "      <td>10</td>\n",
       "      <td>lpg</td>\n",
       "      <td>opel</td>\n",
       "      <td>yes</td>\n",
       "      <td>2016-03-11</td>\n",
       "      <td>27432</td>\n",
       "      <td>2016-03-12 23:47:10</td>\n",
       "    </tr>\n",
       "    <tr>\n",
       "      <th>...</th>\n",
       "      <td>...</td>\n",
       "      <td>...</td>\n",
       "      <td>...</td>\n",
       "      <td>...</td>\n",
       "      <td>...</td>\n",
       "      <td>...</td>\n",
       "      <td>...</td>\n",
       "      <td>...</td>\n",
       "      <td>...</td>\n",
       "      <td>...</td>\n",
       "      <td>...</td>\n",
       "      <td>...</td>\n",
       "      <td>...</td>\n",
       "      <td>...</td>\n",
       "      <td>...</td>\n",
       "    </tr>\n",
       "    <tr>\n",
       "      <th>354201</th>\n",
       "      <td>2016-03-09 15:56:30</td>\n",
       "      <td>0</td>\n",
       "      <td>NaN</td>\n",
       "      <td>2000</td>\n",
       "      <td>manual</td>\n",
       "      <td>65</td>\n",
       "      <td>corsa</td>\n",
       "      <td>150000</td>\n",
       "      <td>0</td>\n",
       "      <td>NaN</td>\n",
       "      <td>opel</td>\n",
       "      <td>yes</td>\n",
       "      <td>2016-03-09</td>\n",
       "      <td>23758</td>\n",
       "      <td>2016-03-30 11:16:08</td>\n",
       "    </tr>\n",
       "    <tr>\n",
       "      <th>354234</th>\n",
       "      <td>2016-03-20 14:55:07</td>\n",
       "      <td>0</td>\n",
       "      <td>small</td>\n",
       "      <td>2002</td>\n",
       "      <td>manual</td>\n",
       "      <td>60</td>\n",
       "      <td>fiesta</td>\n",
       "      <td>150000</td>\n",
       "      <td>3</td>\n",
       "      <td>petrol</td>\n",
       "      <td>ford</td>\n",
       "      <td>NaN</td>\n",
       "      <td>2016-03-20</td>\n",
       "      <td>33659</td>\n",
       "      <td>2016-04-06 18:45:23</td>\n",
       "    </tr>\n",
       "    <tr>\n",
       "      <th>354244</th>\n",
       "      <td>2016-03-24 13:48:05</td>\n",
       "      <td>0</td>\n",
       "      <td>small</td>\n",
       "      <td>1999</td>\n",
       "      <td>manual</td>\n",
       "      <td>53</td>\n",
       "      <td>swift</td>\n",
       "      <td>150000</td>\n",
       "      <td>3</td>\n",
       "      <td>petrol</td>\n",
       "      <td>suzuki</td>\n",
       "      <td>NaN</td>\n",
       "      <td>2016-03-24</td>\n",
       "      <td>42329</td>\n",
       "      <td>2016-04-07 05:17:24</td>\n",
       "    </tr>\n",
       "    <tr>\n",
       "      <th>354273</th>\n",
       "      <td>2016-03-10 22:55:50</td>\n",
       "      <td>0</td>\n",
       "      <td>small</td>\n",
       "      <td>1999</td>\n",
       "      <td>manual</td>\n",
       "      <td>37</td>\n",
       "      <td>arosa</td>\n",
       "      <td>150000</td>\n",
       "      <td>7</td>\n",
       "      <td>petrol</td>\n",
       "      <td>seat</td>\n",
       "      <td>yes</td>\n",
       "      <td>2016-03-10</td>\n",
       "      <td>22559</td>\n",
       "      <td>2016-03-12 23:46:32</td>\n",
       "    </tr>\n",
       "    <tr>\n",
       "      <th>354360</th>\n",
       "      <td>2016-03-21 09:50:58</td>\n",
       "      <td>0</td>\n",
       "      <td>NaN</td>\n",
       "      <td>2005</td>\n",
       "      <td>manual</td>\n",
       "      <td>0</td>\n",
       "      <td>colt</td>\n",
       "      <td>150000</td>\n",
       "      <td>7</td>\n",
       "      <td>petrol</td>\n",
       "      <td>mitsubishi</td>\n",
       "      <td>yes</td>\n",
       "      <td>2016-03-21</td>\n",
       "      <td>2694</td>\n",
       "      <td>2016-03-21 10:42:49</td>\n",
       "    </tr>\n",
       "  </tbody>\n",
       "</table>\n",
       "<p>10220 rows × 15 columns</p>\n",
       "</div>"
      ],
      "text/plain": [
       "              date_crawled  price vehicle_type  registration_year gearbox  \\\n",
       "40     2016-03-26 22:06:17      0          NaN               1990     NaN   \n",
       "59     2016-03-29 15:48:15      1          suv               1994  manual   \n",
       "89     2016-03-28 09:37:01      1        sedan               1995  manual   \n",
       "115    2016-03-20 18:53:27      0        small               1999     NaN   \n",
       "152    2016-03-11 18:55:53      0          bus               2004  manual   \n",
       "...                    ...    ...          ...                ...     ...   \n",
       "354201 2016-03-09 15:56:30      0          NaN               2000  manual   \n",
       "354234 2016-03-20 14:55:07      0        small               2002  manual   \n",
       "354244 2016-03-24 13:48:05      0        small               1999  manual   \n",
       "354273 2016-03-10 22:55:50      0        small               1999  manual   \n",
       "354360 2016-03-21 09:50:58      0          NaN               2005  manual   \n",
       "\n",
       "        power     model  kilometer  registration_month fuel_type  \\\n",
       "40          0     corsa     150000                   1    petrol   \n",
       "59        286       NaN     150000                  11       NaN   \n",
       "89        113  e_klasse     150000                   4  gasoline   \n",
       "115         0       NaN       5000                   0    petrol   \n",
       "152       101    meriva     150000                  10       lpg   \n",
       "...       ...       ...        ...                 ...       ...   \n",
       "354201     65     corsa     150000                   0       NaN   \n",
       "354234     60    fiesta     150000                   3    petrol   \n",
       "354244     53     swift     150000                   3    petrol   \n",
       "354273     37     arosa     150000                   7    petrol   \n",
       "354360      0      colt     150000                   7    petrol   \n",
       "\n",
       "                 brand not_repaired date_created  postal_code  \\\n",
       "40                opel          NaN   2016-03-26        56412   \n",
       "59      sonstige_autos          NaN   2016-03-29        53721   \n",
       "89       mercedes_benz           no   2016-03-28        40589   \n",
       "115         volkswagen          NaN   2016-03-20        37520   \n",
       "152               opel          yes   2016-03-11        27432   \n",
       "...                ...          ...          ...          ...   \n",
       "354201            opel          yes   2016-03-09        23758   \n",
       "354234            ford          NaN   2016-03-20        33659   \n",
       "354244          suzuki          NaN   2016-03-24        42329   \n",
       "354273            seat          yes   2016-03-10        22559   \n",
       "354360      mitsubishi          yes   2016-03-21         2694   \n",
       "\n",
       "                 last_seen  \n",
       "40     2016-03-27 17:43:34  \n",
       "59     2016-04-06 01:44:38  \n",
       "89     2016-04-06 12:15:54  \n",
       "115    2016-04-07 02:45:22  \n",
       "152    2016-03-12 23:47:10  \n",
       "...                    ...  \n",
       "354201 2016-03-30 11:16:08  \n",
       "354234 2016-04-06 18:45:23  \n",
       "354244 2016-04-07 05:17:24  \n",
       "354273 2016-03-12 23:46:32  \n",
       "354360 2016-03-21 10:42:49  \n",
       "\n",
       "[10220 rows x 15 columns]"
      ]
     },
     "execution_count": 33,
     "metadata": {},
     "output_type": "execute_result"
    }
   ],
   "source": [
    "df[df['price'] < 10]"
   ]
  },
  {
   "cell_type": "markdown",
   "metadata": {},
   "source": [
    "А нижнюю границу в 0 евро  и возле нее, когда автомобиль отдают практически даром, можно объяснить только тем, что это уже автохлам."
   ]
  },
  {
   "cell_type": "markdown",
   "metadata": {},
   "source": [
    "#### Пропуски в качественных параметрах\n"
   ]
  },
  {
   "cell_type": "code",
   "execution_count": 34,
   "metadata": {},
   "outputs": [
    {
     "data": {
      "text/plain": [
       "vehicle_type    16591\n",
       "gearbox         16118\n",
       "model           15572\n",
       "fuel_type       23697\n",
       "not_repaired    60198\n",
       "dtype: int64"
      ]
     },
     "execution_count": 34,
     "metadata": {},
     "output_type": "execute_result"
    }
   ],
   "source": [
    "# подсчёт пропусков\n",
    "df_isna = df.isna().sum()\n",
    "df_isna = df_isna[df_isna > 0]\n",
    "df_isna\n"
   ]
  },
  {
   "cell_type": "markdown",
   "metadata": {},
   "source": [
    "**Столбец *brand***"
   ]
  },
  {
   "cell_type": "code",
   "execution_count": 35,
   "metadata": {
    "scrolled": true
   },
   "outputs": [
    {
     "data": {
      "text/plain": [
       "volkswagen        70313\n",
       "opel              36586\n",
       "bmw               35065\n",
       "mercedes_benz     29525\n",
       "audi              27879\n",
       "ford              23308\n",
       "renault           16466\n",
       "peugeot           10418\n",
       "fiat               8733\n",
       "seat               6385\n",
       "skoda              5277\n",
       "mazda              5269\n",
       "smart              4958\n",
       "citroen            4717\n",
       "nissan             4656\n",
       "toyota             4366\n",
       "hyundai            3409\n",
       "mini               3052\n",
       "volvo              3026\n",
       "mitsubishi         2848\n",
       "honda              2623\n",
       "kia                2329\n",
       "sonstige_autos     2316\n",
       "suzuki             2158\n",
       "alfa_romeo         2103\n",
       "chevrolet          1507\n",
       "chrysler           1345\n",
       "dacia               865\n",
       "daihatsu            760\n",
       "subaru              721\n",
       "jeep                605\n",
       "porsche             592\n",
       "saab                500\n",
       "daewoo              498\n",
       "land_rover          497\n",
       "jaguar              466\n",
       "rover               439\n",
       "lancia              415\n",
       "trabant             291\n",
       "lada                177\n",
       "Name: brand, dtype: int64"
      ]
     },
     "execution_count": 35,
     "metadata": {},
     "output_type": "execute_result"
    }
   ],
   "source": [
    "df['brand'].value_counts()"
   ]
  },
  {
   "cell_type": "markdown",
   "metadata": {},
   "source": [
    "Распределение брендов не вызывает вопросов. Пропусков в этом столбце нет.\n",
    "\n",
    "В столбце бренд есть значение *sonstige_autos*, что в переводе означает другое авто, - 2318 экземпляров. Из-за дополнительных пропусков по другим признакам, это бренд можно было удалить, но пока оставим."
   ]
  },
  {
   "cell_type": "markdown",
   "metadata": {},
   "source": [
    "**Столбец *model***\n",
    "\n",
    "Сначала обработаем пропуски в столбце *model*. \n",
    "\n",
    "Какое-нибудь уникальное название модели хозяин обязательнобы указал, чтоб выделиться среди объявлений. Поэтому предположим, что не указана самая популярная модель для указанного года регистрации и бренда. \n",
    "Следовательно, заполним пропуски значением моды для среза по бренду и году выпуска.\n"
   ]
  },
  {
   "cell_type": "code",
   "execution_count": 36,
   "metadata": {},
   "outputs": [],
   "source": [
    "#Заменим пропуски модели самой популярной для данного бренда и года:\n",
    "df['model'] = (\n",
    "    df.groupby(['brand', 'registration_year'])  \n",
    "    ['model'].fillna(lambda x: x.value_counts(dropna=False).idxmax())\n",
    ")\n"
   ]
  },
  {
   "cell_type": "code",
   "execution_count": 37,
   "metadata": {
    "scrolled": true
   },
   "outputs": [
    {
     "data": {
      "text/plain": [
       "0"
      ]
     },
     "execution_count": 37,
     "metadata": {},
     "output_type": "execute_result"
    }
   ],
   "source": [
    "#Если было самое популярное значение было nan, то оно заменилось на\n",
    "model_nan = df.loc[(df['brand']=='chrysler')&(df['registration_year']==2015)]['model'].values[0]\n",
    "df.loc[(df['model']==model_nan), 'model'] = 'other'\n",
    "\n",
    "df.loc[(df['model']==model_nan), 'model'].count() # проверка, все ли заменилось"
   ]
  },
  {
   "cell_type": "markdown",
   "metadata": {},
   "source": [
    "Теперь пропусков в *model* нет."
   ]
  },
  {
   "cell_type": "markdown",
   "metadata": {},
   "source": [
    "**Столбец *not_repaired***\n",
    "\n",
    "Перейдем к столбцу *not_repaired*. Для удобства оценки заменим *nan* на *unknow*"
   ]
  },
  {
   "cell_type": "code",
   "execution_count": 38,
   "metadata": {
    "scrolled": false
   },
   "outputs": [
    {
     "data": {
      "text/html": [
       "<div>\n",
       "<style scoped>\n",
       "    .dataframe tbody tr th:only-of-type {\n",
       "        vertical-align: middle;\n",
       "    }\n",
       "\n",
       "    .dataframe tbody tr th {\n",
       "        vertical-align: top;\n",
       "    }\n",
       "\n",
       "    .dataframe thead th {\n",
       "        text-align: right;\n",
       "    }\n",
       "</style>\n",
       "<table border=\"1\" class=\"dataframe\">\n",
       "  <thead>\n",
       "    <tr style=\"text-align: right;\">\n",
       "      <th></th>\n",
       "      <th>count</th>\n",
       "      <th>mean</th>\n",
       "      <th>std</th>\n",
       "      <th>min</th>\n",
       "      <th>25%</th>\n",
       "      <th>50%</th>\n",
       "      <th>75%</th>\n",
       "      <th>max</th>\n",
       "    </tr>\n",
       "    <tr>\n",
       "      <th>not_repaired</th>\n",
       "      <th></th>\n",
       "      <th></th>\n",
       "      <th></th>\n",
       "      <th></th>\n",
       "      <th></th>\n",
       "      <th></th>\n",
       "      <th></th>\n",
       "      <th></th>\n",
       "    </tr>\n",
       "  </thead>\n",
       "  <tbody>\n",
       "    <tr>\n",
       "      <th>no</th>\n",
       "      <td>233717.0</td>\n",
       "      <td>5339.231087</td>\n",
       "      <td>4733.986653</td>\n",
       "      <td>0.0</td>\n",
       "      <td>1600.0</td>\n",
       "      <td>3750.0</td>\n",
       "      <td>7800.0</td>\n",
       "      <td>20000.0</td>\n",
       "    </tr>\n",
       "    <tr>\n",
       "      <th>unknow</th>\n",
       "      <td>60198.0</td>\n",
       "      <td>2594.403801</td>\n",
       "      <td>3340.059138</td>\n",
       "      <td>0.0</td>\n",
       "      <td>500.0</td>\n",
       "      <td>1300.0</td>\n",
       "      <td>3299.0</td>\n",
       "      <td>20000.0</td>\n",
       "    </tr>\n",
       "    <tr>\n",
       "      <th>yes</th>\n",
       "      <td>33548.0</td>\n",
       "      <td>1926.126207</td>\n",
       "      <td>2684.501522</td>\n",
       "      <td>0.0</td>\n",
       "      <td>450.0</td>\n",
       "      <td>900.0</td>\n",
       "      <td>2200.0</td>\n",
       "      <td>20000.0</td>\n",
       "    </tr>\n",
       "  </tbody>\n",
       "</table>\n",
       "</div>"
      ],
      "text/plain": [
       "                 count         mean          std  min     25%     50%     75%  \\\n",
       "not_repaired                                                                    \n",
       "no            233717.0  5339.231087  4733.986653  0.0  1600.0  3750.0  7800.0   \n",
       "unknow         60198.0  2594.403801  3340.059138  0.0   500.0  1300.0  3299.0   \n",
       "yes            33548.0  1926.126207  2684.501522  0.0   450.0   900.0  2200.0   \n",
       "\n",
       "                  max  \n",
       "not_repaired           \n",
       "no            20000.0  \n",
       "unknow        20000.0  \n",
       "yes           20000.0  "
      ]
     },
     "execution_count": 38,
     "metadata": {},
     "output_type": "execute_result"
    }
   ],
   "source": [
    "df['not_repaired'] = df['not_repaired'].fillna('unknow')\n",
    "\n",
    "df.groupby(['not_repaired'])['price'].describe()"
   ]
  },
  {
   "cell_type": "markdown",
   "metadata": {},
   "source": [
    "В столбце *not_repaired* два значения *yes* и *no*. А также 60 тыс пропусков. Эти пропуски по параметру цена ближе к значению *yes*, межквартильный размах по параметру цена для пропусков включает в себя межквартильный размах для значения *yes*.\n",
    "\n",
    "Поэтому заменим наши пропуски значением *yes*. Это значение означает, что авто требует ремонта, поэтому цена на него ниже."
   ]
  },
  {
   "cell_type": "code",
   "execution_count": 39,
   "metadata": {},
   "outputs": [],
   "source": [
    "df.loc[(df['not_repaired']=='unknow'), 'not_repaired'] = 'yes'"
   ]
  },
  {
   "cell_type": "markdown",
   "metadata": {},
   "source": [
    "**Столбец *fuel_type***\n"
   ]
  },
  {
   "cell_type": "code",
   "execution_count": 40,
   "metadata": {
    "scrolled": true
   },
   "outputs": [
    {
     "data": {
      "text/plain": [
       "petrol      202764\n",
       "gasoline     94965\n",
       "NaN          23697\n",
       "lpg           5054\n",
       "cng            528\n",
       "hybrid         218\n",
       "other          149\n",
       "electric        88\n",
       "Name: fuel_type, dtype: int64"
      ]
     },
     "execution_count": 40,
     "metadata": {},
     "output_type": "execute_result"
    }
   ],
   "source": [
    "df['fuel_type'].value_counts(dropna=False)"
   ]
  },
  {
   "cell_type": "markdown",
   "metadata": {},
   "source": [
    "*gasoline*, *lpgм, *cng* - это типы газового топлива. Приведем их к одной категории. А пропуски заполним самым популярным значением *petrol*"
   ]
  },
  {
   "cell_type": "code",
   "execution_count": 41,
   "metadata": {
    "scrolled": true
   },
   "outputs": [
    {
     "data": {
      "text/plain": [
       "petrol      226461\n",
       "gasoline    100547\n",
       "hybrid         218\n",
       "other          149\n",
       "electric        88\n",
       "Name: fuel_type, dtype: int64"
      ]
     },
     "execution_count": 41,
     "metadata": {},
     "output_type": "execute_result"
    }
   ],
   "source": [
    "df.loc[(df['fuel_type']=='lpg'), 'fuel_type'] = 'gasoline'\n",
    "df.loc[(df['fuel_type']=='cng'), 'fuel_type'] = 'gasoline'\n",
    "df['fuel_type'] = df['fuel_type'].fillna('petrol')\n",
    "df['fuel_type'].value_counts(dropna=False)"
   ]
  },
  {
   "cell_type": "markdown",
   "metadata": {},
   "source": [
    "**Столбец *gearbox***"
   ]
  },
  {
   "cell_type": "code",
   "execution_count": 42,
   "metadata": {
    "scrolled": false
   },
   "outputs": [
    {
     "data": {
      "text/plain": [
       "manual    249023\n",
       "auto       62322\n",
       "NaN        16118\n",
       "Name: gearbox, dtype: int64"
      ]
     },
     "execution_count": 42,
     "metadata": {},
     "output_type": "execute_result"
    }
   ],
   "source": [
    "df['gearbox'].value_counts(dropna=False)"
   ]
  },
  {
   "cell_type": "code",
   "execution_count": 43,
   "metadata": {
    "scrolled": true
   },
   "outputs": [
    {
     "data": {
      "text/plain": [
       "count    16118.000000\n",
       "mean      2002.145614\n",
       "std          6.170909\n",
       "min       1987.000000\n",
       "25%       1999.000000\n",
       "50%       2001.000000\n",
       "75%       2005.000000\n",
       "max       2016.000000\n",
       "Name: registration_year, dtype: float64"
      ]
     },
     "execution_count": 43,
     "metadata": {},
     "output_type": "execute_result"
    }
   ],
   "source": [
    "df.loc[df['gearbox'].isna()]['registration_year'].describe()"
   ]
  },
  {
   "cell_type": "markdown",
   "metadata": {},
   "source": [
    " Большая часть пропусков относится к авто прошлого века и начала этого, когда автоматическая коробка передач была роскошью. Поэтому заменим пропуски наиболее популярным значением *manual*"
   ]
  },
  {
   "cell_type": "code",
   "execution_count": 44,
   "metadata": {
    "scrolled": true
   },
   "outputs": [
    {
     "data": {
      "text/plain": [
       "manual    265141\n",
       "auto       62322\n",
       "Name: gearbox, dtype: int64"
      ]
     },
     "execution_count": 44,
     "metadata": {},
     "output_type": "execute_result"
    }
   ],
   "source": [
    "df['gearbox'] = df['gearbox'].fillna('manual')\n",
    "df['gearbox'].value_counts(dropna=False)"
   ]
  },
  {
   "cell_type": "markdown",
   "metadata": {},
   "source": [
    "**Столбец *vehicle_type***"
   ]
  },
  {
   "cell_type": "code",
   "execution_count": 45,
   "metadata": {
    "scrolled": false
   },
   "outputs": [
    {
     "data": {
      "text/plain": [
       "sedan          89230\n",
       "small          79153\n",
       "wagon          64839\n",
       "bus            28435\n",
       "convertible    19448\n",
       "NaN            16591\n",
       "coupe          15115\n",
       "suv            11648\n",
       "other           3004\n",
       "Name: vehicle_type, dtype: int64"
      ]
     },
     "execution_count": 45,
     "metadata": {},
     "output_type": "execute_result"
    }
   ],
   "source": [
    "df['vehicle_type'].value_counts(dropna=False)"
   ]
  },
  {
   "cell_type": "code",
   "execution_count": 46,
   "metadata": {
    "scrolled": true
   },
   "outputs": [
    {
     "data": {
      "text/html": [
       "<div>\n",
       "<style scoped>\n",
       "    .dataframe tbody tr th:only-of-type {\n",
       "        vertical-align: middle;\n",
       "    }\n",
       "\n",
       "    .dataframe tbody tr th {\n",
       "        vertical-align: top;\n",
       "    }\n",
       "\n",
       "    .dataframe thead th {\n",
       "        text-align: right;\n",
       "    }\n",
       "</style>\n",
       "<table border=\"1\" class=\"dataframe\">\n",
       "  <thead>\n",
       "    <tr style=\"text-align: right;\">\n",
       "      <th></th>\n",
       "      <th>date_crawled</th>\n",
       "      <th>price</th>\n",
       "      <th>vehicle_type</th>\n",
       "      <th>registration_year</th>\n",
       "      <th>gearbox</th>\n",
       "      <th>power</th>\n",
       "      <th>model</th>\n",
       "      <th>kilometer</th>\n",
       "      <th>registration_month</th>\n",
       "      <th>fuel_type</th>\n",
       "      <th>brand</th>\n",
       "      <th>not_repaired</th>\n",
       "      <th>date_created</th>\n",
       "      <th>postal_code</th>\n",
       "      <th>last_seen</th>\n",
       "    </tr>\n",
       "  </thead>\n",
       "  <tbody>\n",
       "    <tr>\n",
       "      <th>0</th>\n",
       "      <td>2016-03-24 11:52:17</td>\n",
       "      <td>480</td>\n",
       "      <td>NaN</td>\n",
       "      <td>1993</td>\n",
       "      <td>manual</td>\n",
       "      <td>0</td>\n",
       "      <td>golf</td>\n",
       "      <td>150000</td>\n",
       "      <td>0</td>\n",
       "      <td>petrol</td>\n",
       "      <td>volkswagen</td>\n",
       "      <td>yes</td>\n",
       "      <td>2016-03-24</td>\n",
       "      <td>70435</td>\n",
       "      <td>2016-04-07 03:16:57</td>\n",
       "    </tr>\n",
       "    <tr>\n",
       "      <th>16</th>\n",
       "      <td>2016-04-01 12:46:46</td>\n",
       "      <td>300</td>\n",
       "      <td>NaN</td>\n",
       "      <td>2016</td>\n",
       "      <td>manual</td>\n",
       "      <td>60</td>\n",
       "      <td>polo</td>\n",
       "      <td>150000</td>\n",
       "      <td>0</td>\n",
       "      <td>petrol</td>\n",
       "      <td>volkswagen</td>\n",
       "      <td>yes</td>\n",
       "      <td>2016-04-01</td>\n",
       "      <td>38871</td>\n",
       "      <td>2016-04-01 12:46:46</td>\n",
       "    </tr>\n",
       "    <tr>\n",
       "      <th>37</th>\n",
       "      <td>2016-03-28 17:50:15</td>\n",
       "      <td>1500</td>\n",
       "      <td>NaN</td>\n",
       "      <td>2016</td>\n",
       "      <td>manual</td>\n",
       "      <td>0</td>\n",
       "      <td>kangoo</td>\n",
       "      <td>150000</td>\n",
       "      <td>1</td>\n",
       "      <td>gasoline</td>\n",
       "      <td>renault</td>\n",
       "      <td>no</td>\n",
       "      <td>2016-03-28</td>\n",
       "      <td>46483</td>\n",
       "      <td>2016-03-30 09:18:02</td>\n",
       "    </tr>\n",
       "    <tr>\n",
       "      <th>40</th>\n",
       "      <td>2016-03-26 22:06:17</td>\n",
       "      <td>0</td>\n",
       "      <td>NaN</td>\n",
       "      <td>1990</td>\n",
       "      <td>manual</td>\n",
       "      <td>0</td>\n",
       "      <td>corsa</td>\n",
       "      <td>150000</td>\n",
       "      <td>1</td>\n",
       "      <td>petrol</td>\n",
       "      <td>opel</td>\n",
       "      <td>yes</td>\n",
       "      <td>2016-03-26</td>\n",
       "      <td>56412</td>\n",
       "      <td>2016-03-27 17:43:34</td>\n",
       "    </tr>\n",
       "    <tr>\n",
       "      <th>52</th>\n",
       "      <td>2016-04-04 10:57:36</td>\n",
       "      <td>1400</td>\n",
       "      <td>NaN</td>\n",
       "      <td>2016</td>\n",
       "      <td>manual</td>\n",
       "      <td>55</td>\n",
       "      <td>other</td>\n",
       "      <td>5000</td>\n",
       "      <td>1</td>\n",
       "      <td>petrol</td>\n",
       "      <td>hyundai</td>\n",
       "      <td>yes</td>\n",
       "      <td>2016-04-04</td>\n",
       "      <td>34454</td>\n",
       "      <td>2016-04-06 12:45:43</td>\n",
       "    </tr>\n",
       "    <tr>\n",
       "      <th>...</th>\n",
       "      <td>...</td>\n",
       "      <td>...</td>\n",
       "      <td>...</td>\n",
       "      <td>...</td>\n",
       "      <td>...</td>\n",
       "      <td>...</td>\n",
       "      <td>...</td>\n",
       "      <td>...</td>\n",
       "      <td>...</td>\n",
       "      <td>...</td>\n",
       "      <td>...</td>\n",
       "      <td>...</td>\n",
       "      <td>...</td>\n",
       "      <td>...</td>\n",
       "      <td>...</td>\n",
       "    </tr>\n",
       "    <tr>\n",
       "      <th>354334</th>\n",
       "      <td>2016-03-31 19:52:33</td>\n",
       "      <td>180</td>\n",
       "      <td>NaN</td>\n",
       "      <td>1995</td>\n",
       "      <td>manual</td>\n",
       "      <td>0</td>\n",
       "      <td>other</td>\n",
       "      <td>125000</td>\n",
       "      <td>3</td>\n",
       "      <td>petrol</td>\n",
       "      <td>opel</td>\n",
       "      <td>yes</td>\n",
       "      <td>2016-03-31</td>\n",
       "      <td>41470</td>\n",
       "      <td>2016-04-06 14:18:04</td>\n",
       "    </tr>\n",
       "    <tr>\n",
       "      <th>354342</th>\n",
       "      <td>2016-03-07 17:06:35</td>\n",
       "      <td>2600</td>\n",
       "      <td>NaN</td>\n",
       "      <td>2005</td>\n",
       "      <td>auto</td>\n",
       "      <td>0</td>\n",
       "      <td>c_klasse</td>\n",
       "      <td>150000</td>\n",
       "      <td>9</td>\n",
       "      <td>petrol</td>\n",
       "      <td>mercedes_benz</td>\n",
       "      <td>yes</td>\n",
       "      <td>2016-03-07</td>\n",
       "      <td>61169</td>\n",
       "      <td>2016-03-08 21:28:38</td>\n",
       "    </tr>\n",
       "    <tr>\n",
       "      <th>354347</th>\n",
       "      <td>2016-03-11 23:40:32</td>\n",
       "      <td>1900</td>\n",
       "      <td>NaN</td>\n",
       "      <td>2000</td>\n",
       "      <td>manual</td>\n",
       "      <td>110</td>\n",
       "      <td>other</td>\n",
       "      <td>150000</td>\n",
       "      <td>7</td>\n",
       "      <td>petrol</td>\n",
       "      <td>volkswagen</td>\n",
       "      <td>no</td>\n",
       "      <td>2016-03-11</td>\n",
       "      <td>87700</td>\n",
       "      <td>2016-03-12 14:16:51</td>\n",
       "    </tr>\n",
       "    <tr>\n",
       "      <th>354360</th>\n",
       "      <td>2016-03-21 09:50:58</td>\n",
       "      <td>0</td>\n",
       "      <td>NaN</td>\n",
       "      <td>2005</td>\n",
       "      <td>manual</td>\n",
       "      <td>0</td>\n",
       "      <td>colt</td>\n",
       "      <td>150000</td>\n",
       "      <td>7</td>\n",
       "      <td>petrol</td>\n",
       "      <td>mitsubishi</td>\n",
       "      <td>yes</td>\n",
       "      <td>2016-03-21</td>\n",
       "      <td>2694</td>\n",
       "      <td>2016-03-21 10:42:49</td>\n",
       "    </tr>\n",
       "    <tr>\n",
       "      <th>354361</th>\n",
       "      <td>2016-03-14 17:48:27</td>\n",
       "      <td>2200</td>\n",
       "      <td>NaN</td>\n",
       "      <td>2005</td>\n",
       "      <td>manual</td>\n",
       "      <td>0</td>\n",
       "      <td>other</td>\n",
       "      <td>20000</td>\n",
       "      <td>1</td>\n",
       "      <td>petrol</td>\n",
       "      <td>sonstige_autos</td>\n",
       "      <td>yes</td>\n",
       "      <td>2016-03-14</td>\n",
       "      <td>39576</td>\n",
       "      <td>2016-04-06 00:46:52</td>\n",
       "    </tr>\n",
       "  </tbody>\n",
       "</table>\n",
       "<p>16591 rows × 15 columns</p>\n",
       "</div>"
      ],
      "text/plain": [
       "              date_crawled  price vehicle_type  registration_year gearbox  \\\n",
       "0      2016-03-24 11:52:17    480          NaN               1993  manual   \n",
       "16     2016-04-01 12:46:46    300          NaN               2016  manual   \n",
       "37     2016-03-28 17:50:15   1500          NaN               2016  manual   \n",
       "40     2016-03-26 22:06:17      0          NaN               1990  manual   \n",
       "52     2016-04-04 10:57:36   1400          NaN               2016  manual   \n",
       "...                    ...    ...          ...                ...     ...   \n",
       "354334 2016-03-31 19:52:33    180          NaN               1995  manual   \n",
       "354342 2016-03-07 17:06:35   2600          NaN               2005    auto   \n",
       "354347 2016-03-11 23:40:32   1900          NaN               2000  manual   \n",
       "354360 2016-03-21 09:50:58      0          NaN               2005  manual   \n",
       "354361 2016-03-14 17:48:27   2200          NaN               2005  manual   \n",
       "\n",
       "        power     model  kilometer  registration_month fuel_type  \\\n",
       "0           0      golf     150000                   0    petrol   \n",
       "16         60      polo     150000                   0    petrol   \n",
       "37          0    kangoo     150000                   1  gasoline   \n",
       "40          0     corsa     150000                   1    petrol   \n",
       "52         55     other       5000                   1    petrol   \n",
       "...       ...       ...        ...                 ...       ...   \n",
       "354334      0     other     125000                   3    petrol   \n",
       "354342      0  c_klasse     150000                   9    petrol   \n",
       "354347    110     other     150000                   7    petrol   \n",
       "354360      0      colt     150000                   7    petrol   \n",
       "354361      0     other      20000                   1    petrol   \n",
       "\n",
       "                 brand not_repaired date_created  postal_code  \\\n",
       "0           volkswagen          yes   2016-03-24        70435   \n",
       "16          volkswagen          yes   2016-04-01        38871   \n",
       "37             renault           no   2016-03-28        46483   \n",
       "40                opel          yes   2016-03-26        56412   \n",
       "52             hyundai          yes   2016-04-04        34454   \n",
       "...                ...          ...          ...          ...   \n",
       "354334            opel          yes   2016-03-31        41470   \n",
       "354342   mercedes_benz          yes   2016-03-07        61169   \n",
       "354347      volkswagen           no   2016-03-11        87700   \n",
       "354360      mitsubishi          yes   2016-03-21         2694   \n",
       "354361  sonstige_autos          yes   2016-03-14        39576   \n",
       "\n",
       "                 last_seen  \n",
       "0      2016-04-07 03:16:57  \n",
       "16     2016-04-01 12:46:46  \n",
       "37     2016-03-30 09:18:02  \n",
       "40     2016-03-27 17:43:34  \n",
       "52     2016-04-06 12:45:43  \n",
       "...                    ...  \n",
       "354334 2016-04-06 14:18:04  \n",
       "354342 2016-03-08 21:28:38  \n",
       "354347 2016-03-12 14:16:51  \n",
       "354360 2016-03-21 10:42:49  \n",
       "354361 2016-04-06 00:46:52  \n",
       "\n",
       "[16591 rows x 15 columns]"
      ]
     },
     "execution_count": 46,
     "metadata": {},
     "output_type": "execute_result"
    }
   ],
   "source": [
    "df[df['vehicle_type'].isna()]"
   ]
  },
  {
   "cell_type": "markdown",
   "metadata": {},
   "source": [
    "Угадывать тип кузова не будем. Заменим пропуски на уже имеющееся значение *other*, тем самым не увеличим количество категорий."
   ]
  },
  {
   "cell_type": "code",
   "execution_count": 47,
   "metadata": {
    "scrolled": true
   },
   "outputs": [
    {
     "data": {
      "text/plain": [
       "sedan          89230\n",
       "small          79153\n",
       "wagon          64839\n",
       "bus            28435\n",
       "other          19595\n",
       "convertible    19448\n",
       "coupe          15115\n",
       "suv            11648\n",
       "Name: vehicle_type, dtype: int64"
      ]
     },
     "execution_count": 47,
     "metadata": {},
     "output_type": "execute_result"
    }
   ],
   "source": [
    "df['vehicle_type'] = df['vehicle_type'].fillna('other')\n",
    "df['vehicle_type'].value_counts(dropna=False)"
   ]
  },
  {
   "cell_type": "markdown",
   "metadata": {},
   "source": [
    "**Вывод по качественным параметрам**\n",
    "\n",
    "- Пропуски в столбце *model* заменены на моду соответствующую бренду и году выпуска\n",
    "- Пропуски в столбце *not_repaired* после анализа заменены значением *yes*\n",
    "- Пропуски в столбце *fuel_type* заменены наиболее популярным значением *petrol*\n",
    "- Различные написания газового топлива приведенны к одному - *gasoline*\n",
    "- Пропуски в столбце *gearbox* заменены наиболее популярным значением *manual*\n",
    "- Пропуски в столбце *vehicle_type* заменены на *other*"
   ]
  },
  {
   "cell_type": "markdown",
   "metadata": {},
   "source": [
    "### Лишние признаки\n",
    "\n",
    "Некоторые полученные признаки могут затруднить обучение модели, предсказывающей цену авто.\n",
    "\n",
    "Даты *date_crawled*, *last_seen*, *date_created* и месяц регистрации *registration_month* были полезны для определения границ адекватного года регистрации авто, но на ценообразование они не влияют.\n",
    "\n",
    "Индекс места регистрации авто *postal_code* это не регион продажи, влияющий на цену, поэтому он тоже может сбить с толку нашу модель."
   ]
  },
  {
   "cell_type": "code",
   "execution_count": 48,
   "metadata": {
    "scrolled": true
   },
   "outputs": [
    {
     "data": {
      "text/html": [
       "<div>\n",
       "<style scoped>\n",
       "    .dataframe tbody tr th:only-of-type {\n",
       "        vertical-align: middle;\n",
       "    }\n",
       "\n",
       "    .dataframe tbody tr th {\n",
       "        vertical-align: top;\n",
       "    }\n",
       "\n",
       "    .dataframe thead th {\n",
       "        text-align: right;\n",
       "    }\n",
       "</style>\n",
       "<table border=\"1\" class=\"dataframe\">\n",
       "  <thead>\n",
       "    <tr style=\"text-align: right;\">\n",
       "      <th></th>\n",
       "      <th>price</th>\n",
       "      <th>vehicle_type</th>\n",
       "      <th>registration_year</th>\n",
       "      <th>gearbox</th>\n",
       "      <th>power</th>\n",
       "      <th>model</th>\n",
       "      <th>kilometer</th>\n",
       "      <th>fuel_type</th>\n",
       "      <th>brand</th>\n",
       "      <th>not_repaired</th>\n",
       "    </tr>\n",
       "  </thead>\n",
       "  <tbody>\n",
       "    <tr>\n",
       "      <th>0</th>\n",
       "      <td>480</td>\n",
       "      <td>other</td>\n",
       "      <td>1993</td>\n",
       "      <td>manual</td>\n",
       "      <td>0</td>\n",
       "      <td>golf</td>\n",
       "      <td>150000</td>\n",
       "      <td>petrol</td>\n",
       "      <td>volkswagen</td>\n",
       "      <td>yes</td>\n",
       "    </tr>\n",
       "    <tr>\n",
       "      <th>1</th>\n",
       "      <td>18300</td>\n",
       "      <td>coupe</td>\n",
       "      <td>2011</td>\n",
       "      <td>manual</td>\n",
       "      <td>190</td>\n",
       "      <td>other</td>\n",
       "      <td>125000</td>\n",
       "      <td>gasoline</td>\n",
       "      <td>audi</td>\n",
       "      <td>yes</td>\n",
       "    </tr>\n",
       "    <tr>\n",
       "      <th>2</th>\n",
       "      <td>9800</td>\n",
       "      <td>suv</td>\n",
       "      <td>2004</td>\n",
       "      <td>auto</td>\n",
       "      <td>163</td>\n",
       "      <td>grand</td>\n",
       "      <td>125000</td>\n",
       "      <td>gasoline</td>\n",
       "      <td>jeep</td>\n",
       "      <td>yes</td>\n",
       "    </tr>\n",
       "    <tr>\n",
       "      <th>3</th>\n",
       "      <td>1500</td>\n",
       "      <td>small</td>\n",
       "      <td>2001</td>\n",
       "      <td>manual</td>\n",
       "      <td>75</td>\n",
       "      <td>golf</td>\n",
       "      <td>150000</td>\n",
       "      <td>petrol</td>\n",
       "      <td>volkswagen</td>\n",
       "      <td>no</td>\n",
       "    </tr>\n",
       "    <tr>\n",
       "      <th>4</th>\n",
       "      <td>3600</td>\n",
       "      <td>small</td>\n",
       "      <td>2008</td>\n",
       "      <td>manual</td>\n",
       "      <td>69</td>\n",
       "      <td>fabia</td>\n",
       "      <td>90000</td>\n",
       "      <td>gasoline</td>\n",
       "      <td>skoda</td>\n",
       "      <td>no</td>\n",
       "    </tr>\n",
       "  </tbody>\n",
       "</table>\n",
       "</div>"
      ],
      "text/plain": [
       "   price vehicle_type  registration_year gearbox  power  model  kilometer  \\\n",
       "0    480        other               1993  manual      0   golf     150000   \n",
       "1  18300        coupe               2011  manual    190  other     125000   \n",
       "2   9800          suv               2004    auto    163  grand     125000   \n",
       "3   1500        small               2001  manual     75   golf     150000   \n",
       "4   3600        small               2008  manual     69  fabia      90000   \n",
       "\n",
       "  fuel_type       brand not_repaired  \n",
       "0    petrol  volkswagen          yes  \n",
       "1  gasoline        audi          yes  \n",
       "2  gasoline        jeep          yes  \n",
       "3    petrol  volkswagen           no  \n",
       "4  gasoline       skoda           no  "
      ]
     },
     "execution_count": 48,
     "metadata": {},
     "output_type": "execute_result"
    }
   ],
   "source": [
    "df.drop(['date_crawled', 'date_created', 'last_seen', 'registration_month', 'postal_code'], axis=1, inplace=True)\n",
    "df.head()"
   ]
  },
  {
   "cell_type": "code",
   "execution_count": 49,
   "metadata": {},
   "outputs": [
    {
     "data": {
      "text/plain": [
       "(327463, 10)"
      ]
     },
     "execution_count": 49,
     "metadata": {},
     "output_type": "execute_result"
    }
   ],
   "source": [
    "df.shape"
   ]
  },
  {
   "cell_type": "markdown",
   "metadata": {},
   "source": [
    "### Выделение признаков"
   ]
  },
  {
   "cell_type": "markdown",
   "metadata": {},
   "source": [
    "Для увеличения скорости расчетов уменьшим разрядность количественных данных"
   ]
  },
  {
   "cell_type": "code",
   "execution_count": 50,
   "metadata": {},
   "outputs": [
    {
     "data": {
      "text/plain": [
       "price                 int32\n",
       "vehicle_type         object\n",
       "registration_year     int32\n",
       "gearbox              object\n",
       "power                 int32\n",
       "model                object\n",
       "kilometer             int32\n",
       "fuel_type            object\n",
       "brand                object\n",
       "not_repaired         object\n",
       "dtype: object"
      ]
     },
     "execution_count": 50,
     "metadata": {},
     "output_type": "execute_result"
    }
   ],
   "source": [
    "df = df.astype({'price': np.int32, 'power': np.int32, 'registration_year': np.int32, 'kilometer': np.int32})\n",
    "df.dtypes"
   ]
  },
  {
   "cell_type": "code",
   "execution_count": 51,
   "metadata": {},
   "outputs": [],
   "source": [
    "# Определим список категориальных признаков\n",
    "categorical_features = ['vehicle_type', 'gearbox', 'model', 'fuel_type', 'brand', 'not_repaired']\n",
    "# и количественных признаков\n",
    "numeric_features= ['registration_year', 'power', 'kilometer']"
   ]
  },
  {
   "cell_type": "markdown",
   "metadata": {},
   "source": [
    "Теперь выделим целевой признак"
   ]
  },
  {
   "cell_type": "code",
   "execution_count": 52,
   "metadata": {},
   "outputs": [],
   "source": [
    "df = df.reset_index(drop=True)\n",
    "target = df['price']\n",
    "features = df.drop('price', axis=1)"
   ]
  },
  {
   "cell_type": "markdown",
   "metadata": {},
   "source": [
    "### Вывод\n",
    "\n",
    "- Мы получили данные и проанализировали их.\n",
    "- На основе анализа определили адекватные данные по диапазону дат, избавились от аномалий\n",
    "- Обработали пропуски, стараясь восстановить данные по другим признакам.\n",
    "- Убрали признаки, не влияющие на ценнообразование\n",
    "- Разбили данные на целевой и другие признаки для дальнейшего моделирования."
   ]
  },
  {
   "cell_type": "markdown",
   "metadata": {},
   "source": [
    "## Обучение моделей"
   ]
  },
  {
   "cell_type": "markdown",
   "metadata": {},
   "source": [
    "Зассмотрим несколько моделей. \n",
    "\n",
    "Предварительно определим константы и функцию RMSE"
   ]
  },
  {
   "cell_type": "code",
   "execution_count": 53,
   "metadata": {},
   "outputs": [],
   "source": [
    "RSTATE = 12345"
   ]
  },
  {
   "cell_type": "code",
   "execution_count": 54,
   "metadata": {},
   "outputs": [],
   "source": [
    "# RMSE\n",
    "rmse = partial(mean_squared_error, squared=False)"
   ]
  },
  {
   "cell_type": "markdown",
   "metadata": {},
   "source": [
    "###  Случайный лес "
   ]
  },
  {
   "cell_type": "markdown",
   "metadata": {},
   "source": [
    "Попробуем составить модель регрессии на основе случайного леса. Это может быть интересно сделать, так как и случайный лес, и градиентный бустинг являются ансамблевыми алгоритмами, в основе которых лежит (очень грубо говоря) дерево решений.\n",
    "\n",
    "Поскольку в наших данных присутствуют категориальные переменные, то для случайного леса их нужно закодировать. Воспользуемся порядковым кодированием, с которым познакомились в ходе теоретического курса."
   ]
  },
  {
   "cell_type": "code",
   "execution_count": 55,
   "metadata": {
    "scrolled": true
   },
   "outputs": [
    {
     "data": {
      "text/html": [
       "<div>\n",
       "<style scoped>\n",
       "    .dataframe tbody tr th:only-of-type {\n",
       "        vertical-align: middle;\n",
       "    }\n",
       "\n",
       "    .dataframe tbody tr th {\n",
       "        vertical-align: top;\n",
       "    }\n",
       "\n",
       "    .dataframe thead th {\n",
       "        text-align: right;\n",
       "    }\n",
       "</style>\n",
       "<table border=\"1\" class=\"dataframe\">\n",
       "  <thead>\n",
       "    <tr style=\"text-align: right;\">\n",
       "      <th></th>\n",
       "      <th>vehicle_type</th>\n",
       "      <th>registration_year</th>\n",
       "      <th>gearbox</th>\n",
       "      <th>power</th>\n",
       "      <th>model</th>\n",
       "      <th>kilometer</th>\n",
       "      <th>fuel_type</th>\n",
       "      <th>brand</th>\n",
       "      <th>not_repaired</th>\n",
       "    </tr>\n",
       "  </thead>\n",
       "  <tbody>\n",
       "    <tr>\n",
       "      <th>0</th>\n",
       "      <td>3.0</td>\n",
       "      <td>1993</td>\n",
       "      <td>1.0</td>\n",
       "      <td>0</td>\n",
       "      <td>116.0</td>\n",
       "      <td>150000</td>\n",
       "      <td>4.0</td>\n",
       "      <td>38.0</td>\n",
       "      <td>1.0</td>\n",
       "    </tr>\n",
       "    <tr>\n",
       "      <th>1</th>\n",
       "      <td>2.0</td>\n",
       "      <td>2011</td>\n",
       "      <td>1.0</td>\n",
       "      <td>190</td>\n",
       "      <td>166.0</td>\n",
       "      <td>125000</td>\n",
       "      <td>1.0</td>\n",
       "      <td>1.0</td>\n",
       "      <td>1.0</td>\n",
       "    </tr>\n",
       "    <tr>\n",
       "      <th>2</th>\n",
       "      <td>6.0</td>\n",
       "      <td>2004</td>\n",
       "      <td>0.0</td>\n",
       "      <td>163</td>\n",
       "      <td>117.0</td>\n",
       "      <td>125000</td>\n",
       "      <td>1.0</td>\n",
       "      <td>14.0</td>\n",
       "      <td>1.0</td>\n",
       "    </tr>\n",
       "    <tr>\n",
       "      <th>3</th>\n",
       "      <td>5.0</td>\n",
       "      <td>2001</td>\n",
       "      <td>1.0</td>\n",
       "      <td>75</td>\n",
       "      <td>116.0</td>\n",
       "      <td>150000</td>\n",
       "      <td>4.0</td>\n",
       "      <td>38.0</td>\n",
       "      <td>0.0</td>\n",
       "    </tr>\n",
       "    <tr>\n",
       "      <th>4</th>\n",
       "      <td>5.0</td>\n",
       "      <td>2008</td>\n",
       "      <td>1.0</td>\n",
       "      <td>69</td>\n",
       "      <td>101.0</td>\n",
       "      <td>90000</td>\n",
       "      <td>1.0</td>\n",
       "      <td>31.0</td>\n",
       "      <td>0.0</td>\n",
       "    </tr>\n",
       "  </tbody>\n",
       "</table>\n",
       "</div>"
      ],
      "text/plain": [
       "   vehicle_type  registration_year  gearbox  power  model  kilometer  \\\n",
       "0           3.0               1993      1.0      0  116.0     150000   \n",
       "1           2.0               2011      1.0    190  166.0     125000   \n",
       "2           6.0               2004      0.0    163  117.0     125000   \n",
       "3           5.0               2001      1.0     75  116.0     150000   \n",
       "4           5.0               2008      1.0     69  101.0      90000   \n",
       "\n",
       "   fuel_type  brand  not_repaired  \n",
       "0        4.0   38.0           1.0  \n",
       "1        1.0    1.0           1.0  \n",
       "2        1.0   14.0           1.0  \n",
       "3        4.0   38.0           0.0  \n",
       "4        1.0   31.0           0.0  "
      ]
     },
     "execution_count": 55,
     "metadata": {},
     "output_type": "execute_result"
    }
   ],
   "source": [
    "features_rf = features.copy()\n",
    "\n",
    "encoder = OrdinalEncoder()\n",
    "features_rf[categorical_features] = pd.DataFrame(encoder.fit_transform(features_rf[categorical_features]), \n",
    "                                                 columns=features_rf[categorical_features].columns)\n",
    "\n",
    "features_rf.head()"
   ]
  },
  {
   "cell_type": "markdown",
   "metadata": {},
   "source": [
    "Мы закодировали порядковые переменные, количественные оставили как есть. Для алгоритмов случайного леса их можно не масштабировать.\n",
    "\n",
    "Далее разобьем данные на выборки, зарезервируем 25% под тестовую выборку."
   ]
  },
  {
   "cell_type": "code",
   "execution_count": 56,
   "metadata": {},
   "outputs": [],
   "source": [
    "features_train_rf, features_valid_rf, target_train_rf, target_valid_rf = train_test_split(\n",
    "    features_rf, target, test_size=0.25, random_state=RSTATE)"
   ]
  },
  {
   "cell_type": "markdown",
   "metadata": {},
   "source": [
    "Подберем  гиперпараметры."
   ]
  },
  {
   "cell_type": "code",
   "execution_count": 57,
   "metadata": {},
   "outputs": [],
   "source": [
    "rf_model = RandomForestRegressor(random_state=RSTATE)"
   ]
  },
  {
   "cell_type": "code",
   "execution_count": 58,
   "metadata": {
    "scrolled": true
   },
   "outputs": [
    {
     "name": "stdout",
     "output_type": "stream",
     "text": [
      "Fitting 3 folds for each of 16 candidates, totalling 48 fits\n",
      "CPU times: user 21.7 s, sys: 550 ms, total: 22.3 s\n",
      "Wall time: 4min 31s\n"
     ]
    },
    {
     "data": {
      "text/plain": [
       "GridSearchCV(cv=3, estimator=RandomForestRegressor(random_state=12345),\n",
       "             n_jobs=-1,\n",
       "             param_grid={'max_depth': range(21, 23),\n",
       "                         'max_features': range(2, 4),\n",
       "                         'min_samples_leaf': range(1, 3),\n",
       "                         'n_estimators': [20, 50]},\n",
       "             scoring='neg_mean_squared_error', verbose=True)"
      ]
     },
     "execution_count": 58,
     "metadata": {},
     "output_type": "execute_result"
    }
   ],
   "source": [
    "%%time\n",
    "forest_params = {'n_estimators':[20, 50],\n",
    "                'max_depth': range(21,23),\n",
    "                'max_features': range(2,4),\n",
    "                'min_samples_leaf': range(1,3)\n",
    "}\n",
    "\n",
    "best_forest = GridSearchCV(rf_model, forest_params, scoring='neg_mean_squared_error', \n",
    "                           cv=3, n_jobs=-1, verbose=True)\n",
    "\n",
    "best_forest.fit(features_train_rf, target_train_rf)"
   ]
  },
  {
   "cell_type": "code",
   "execution_count": 59,
   "metadata": {
    "scrolled": true
   },
   "outputs": [
    {
     "data": {
      "text/plain": [
       "1645.2343552891925"
      ]
     },
     "execution_count": 59,
     "metadata": {},
     "output_type": "execute_result"
    }
   ],
   "source": [
    "(-best_forest.best_score_)**0.5"
   ]
  },
  {
   "cell_type": "markdown",
   "metadata": {},
   "source": [
    "Корень из среднеквадратической ошибки составил около 1645 евро, что выглядит довольно большим, поскольку составляет примерно треть от средней цены по всему датасету."
   ]
  },
  {
   "cell_type": "code",
   "execution_count": 60,
   "metadata": {},
   "outputs": [
    {
     "data": {
      "text/plain": [
       "{'max_depth': 21, 'max_features': 3, 'min_samples_leaf': 2, 'n_estimators': 50}"
      ]
     },
     "execution_count": 60,
     "metadata": {},
     "output_type": "execute_result"
    }
   ],
   "source": [
    "best_forest.best_params_"
   ]
  },
  {
   "cell_type": "markdown",
   "metadata": {},
   "source": [
    "Таковы лучшие параметры. Обучим модель, применяя их.\n",
    "\n",
    "И зафиксируем время обучения."
   ]
  },
  {
   "cell_type": "code",
   "execution_count": 61,
   "metadata": {},
   "outputs": [
    {
     "name": "stdout",
     "output_type": "stream",
     "text": [
      "CPU times: user 21 s, sys: 203 ms, total: 21.2 s\n",
      "Wall time: 21.2 s\n"
     ]
    }
   ],
   "source": [
    "%%time\n",
    "rf_best_model = RandomForestRegressor(random_state=RSTATE,max_depth= 22, max_features = 3, \n",
    "                                      n_estimators=50, min_samples_leaf=2) \n",
    "start = time.time()\n",
    "rf_best_model.fit(features_train_rf, target_train_rf)\n",
    "\n",
    "finish = time.time()\n",
    "rf_time_fit = finish - start"
   ]
  },
  {
   "cell_type": "markdown",
   "metadata": {},
   "source": [
    "Сделаем предсказания по валидационной выборке и оценим их."
   ]
  },
  {
   "cell_type": "code",
   "execution_count": 62,
   "metadata": {},
   "outputs": [
    {
     "name": "stdout",
     "output_type": "stream",
     "text": [
      "RMSE_Случайный_Лес=1653\n",
      "CPU times: user 1.5 s, sys: 0 ns, total: 1.5 s\n",
      "Wall time: 1.49 s\n"
     ]
    }
   ],
   "source": [
    "%%time\n",
    "start = time.time()\n",
    "\n",
    "rf_pred = rf_best_model.predict(features_valid_rf)\n",
    "\n",
    "finish = time.time()\n",
    "\n",
    "rf_time_predict = finish - start\n",
    "\n",
    "rf_rmse = rmse(target_valid_rf, rf_pred)\n",
    "print(f'RMSE_Случайный_Лес={rf_rmse:.0f}')"
   ]
  },
  {
   "cell_type": "markdown",
   "metadata": {},
   "source": [
    "Получили RMSE  1653 евро на валидационной выборке. Взглянем ради интереса на значимость признаков."
   ]
  },
  {
   "cell_type": "code",
   "execution_count": 63,
   "metadata": {
    "scrolled": true
   },
   "outputs": [
    {
     "data": {
      "text/html": [
       "<div>\n",
       "<style scoped>\n",
       "    .dataframe tbody tr th:only-of-type {\n",
       "        vertical-align: middle;\n",
       "    }\n",
       "\n",
       "    .dataframe tbody tr th {\n",
       "        vertical-align: top;\n",
       "    }\n",
       "\n",
       "    .dataframe thead th {\n",
       "        text-align: right;\n",
       "    }\n",
       "</style>\n",
       "<table border=\"1\" class=\"dataframe\">\n",
       "  <thead>\n",
       "    <tr style=\"text-align: right;\">\n",
       "      <th></th>\n",
       "      <th>feature</th>\n",
       "      <th>coef</th>\n",
       "    </tr>\n",
       "  </thead>\n",
       "  <tbody>\n",
       "    <tr>\n",
       "      <th>1</th>\n",
       "      <td>registration_year</td>\n",
       "      <td>0.421154</td>\n",
       "    </tr>\n",
       "    <tr>\n",
       "      <th>3</th>\n",
       "      <td>power</td>\n",
       "      <td>0.254082</td>\n",
       "    </tr>\n",
       "    <tr>\n",
       "      <th>5</th>\n",
       "      <td>kilometer</td>\n",
       "      <td>0.109993</td>\n",
       "    </tr>\n",
       "    <tr>\n",
       "      <th>7</th>\n",
       "      <td>brand</td>\n",
       "      <td>0.048312</td>\n",
       "    </tr>\n",
       "    <tr>\n",
       "      <th>4</th>\n",
       "      <td>model</td>\n",
       "      <td>0.038701</td>\n",
       "    </tr>\n",
       "    <tr>\n",
       "      <th>6</th>\n",
       "      <td>fuel_type</td>\n",
       "      <td>0.037078</td>\n",
       "    </tr>\n",
       "    <tr>\n",
       "      <th>0</th>\n",
       "      <td>vehicle_type</td>\n",
       "      <td>0.036272</td>\n",
       "    </tr>\n",
       "    <tr>\n",
       "      <th>8</th>\n",
       "      <td>not_repaired</td>\n",
       "      <td>0.031185</td>\n",
       "    </tr>\n",
       "    <tr>\n",
       "      <th>2</th>\n",
       "      <td>gearbox</td>\n",
       "      <td>0.023222</td>\n",
       "    </tr>\n",
       "  </tbody>\n",
       "</table>\n",
       "</div>"
      ],
      "text/plain": [
       "             feature      coef\n",
       "1  registration_year  0.421154\n",
       "3              power  0.254082\n",
       "5          kilometer  0.109993\n",
       "7              brand  0.048312\n",
       "4              model  0.038701\n",
       "6          fuel_type  0.037078\n",
       "0       vehicle_type  0.036272\n",
       "8       not_repaired  0.031185\n",
       "2            gearbox  0.023222"
      ]
     },
     "execution_count": 63,
     "metadata": {},
     "output_type": "execute_result"
    }
   ],
   "source": [
    "rf_importance = pd.DataFrame({'feature': features_rf.columns,\n",
    "                    'coef' : rf_best_model.feature_importances_}).sort_values('coef', ascending=False)\n",
    "rf_importance"
   ]
  },
  {
   "cell_type": "markdown",
   "metadata": {},
   "source": [
    "Итак, первая тройка - это год регистрации, мощность и километраж."
   ]
  },
  {
   "cell_type": "markdown",
   "metadata": {},
   "source": [
    "### Линейная регрессия"
   ]
  },
  {
   "cell_type": "markdown",
   "metadata": {},
   "source": [
    "Далее попробуем построить модель линейной регрессии.\n",
    "\n",
    "Разделим данные на обучающую и валидационную выборку и промасштабируем количественные переменные.."
   ]
  },
  {
   "cell_type": "code",
   "execution_count": 64,
   "metadata": {},
   "outputs": [],
   "source": [
    "features_train_lr, features_valid_lr, target_train_lr, target_valid_lr = train_test_split(\n",
    "    features, target, test_size=0.25, random_state=RSTATE)\n",
    "scaler = StandardScaler()\n",
    "scaler.fit(features_train_lr[numeric_features])\n",
    "features_train_lr[numeric_features] = scaler.transform(features_train_lr[numeric_features])\n",
    "features_valid_lr[numeric_features] = scaler.transform(features_valid_lr[numeric_features])"
   ]
  },
  {
   "cell_type": "markdown",
   "metadata": {},
   "source": [
    "Так как линейная регрессия не может обрабатывать категориальные переменные, значит, их нужно закодировать. Воспользуемся техникой OHE, обучим объект на обучающей выборке, и затем трансформируем обучающую и тестовую выборки."
   ]
  },
  {
   "cell_type": "code",
   "execution_count": 65,
   "metadata": {},
   "outputs": [],
   "source": [
    "enc = OneHotEncoder(handle_unknown = 'ignore')\n",
    "enc.fit(features_train_lr[categorical_features])\n",
    "features_train_lr = enc.transform(features_train_lr[categorical_features])\n",
    "features_valid_lr = enc.transform(features_valid_lr[categorical_features])"
   ]
  },
  {
   "cell_type": "markdown",
   "metadata": {},
   "source": [
    "Обучим модель линейной регрессии."
   ]
  },
  {
   "cell_type": "code",
   "execution_count": 66,
   "metadata": {},
   "outputs": [
    {
     "name": "stdout",
     "output_type": "stream",
     "text": [
      "CPU times: user 19.6 s, sys: 895 ms, total: 20.5 s\n",
      "Wall time: 5.31 s\n"
     ]
    }
   ],
   "source": [
    "%%time\n",
    "linreg = LinearRegression()\n",
    "start = time.time()\n",
    "linreg.fit(features_train_lr, target_train_lr)\n",
    "finish = time.time()\n",
    "\n",
    "lr_time_fit = finish - start"
   ]
  },
  {
   "cell_type": "markdown",
   "metadata": {},
   "source": [
    "Обучалась достаточно долго. Сделаем предсказания по валидационной выборке и оценим их."
   ]
  },
  {
   "cell_type": "code",
   "execution_count": 67,
   "metadata": {
    "scrolled": true
   },
   "outputs": [
    {
     "name": "stdout",
     "output_type": "stream",
     "text": [
      "RMSE_Линейная регрессия=3511\n",
      "CPU times: user 11.6 ms, sys: 3.99 ms, total: 15.6 ms\n",
      "Wall time: 8.26 ms\n"
     ]
    }
   ],
   "source": [
    "%%time\n",
    "start = time.time()\n",
    "test_pred = linreg.predict(features_valid_lr)\n",
    "finish = time.time()\n",
    "\n",
    "lr_time_predict = finish - start\n",
    "\n",
    "lr_rmse = rmse(target_valid_lr, test_pred)\n",
    "print(f'RMSE_Линейная регрессия={lr_rmse:.0f}')\n"
   ]
  },
  {
   "cell_type": "markdown",
   "metadata": {},
   "source": [
    "RMSE раза в два хуже, чем у случайного леса - более 3500 евро."
   ]
  },
  {
   "cell_type": "markdown",
   "metadata": {},
   "source": [
    "### Градиентный бустинг LightGBM"
   ]
  },
  {
   "cell_type": "markdown",
   "metadata": {},
   "source": [
    "Далее построим модель градиентного бустинга с помощью библиотеки LightGBM.\n",
    "\n",
    "LightGBM обрабатывает категориальные переменные напрямую, однако для этого необходимо присвоить им тип 'category'."
   ]
  },
  {
   "cell_type": "code",
   "execution_count": 68,
   "metadata": {},
   "outputs": [],
   "source": [
    "features_lgbm = features.copy()\n",
    "features_lgbm[categorical_features] = features[categorical_features].astype('category')\n",
    "\n",
    "features_train_lgb, features_valid_lgb, target_train_lgb, target_valid_lgb = train_test_split(\n",
    "    features_lgbm, target, test_size=0.25, random_state=RSTATE)\n"
   ]
  },
  {
   "cell_type": "markdown",
   "metadata": {},
   "source": [
    "Приступим к созданию моделей.\n",
    "- Мы не будем злоупотреблять гиперпараметрами, будем работать только со **скоростью обучения, глубиной деревьев, количеством моделей и типом бустинга**. Параметры будем подбирать с помощью **randomized search**: так у нас будет намёк на то, как оптимизировать скорость обучения (learning rate) и количество моделей (n_estimators) в бустинге."
   ]
  },
  {
   "cell_type": "code",
   "execution_count": 69,
   "metadata": {},
   "outputs": [],
   "source": [
    "from sklearn.model_selection import RandomizedSearchCV\n",
    "\n",
    "# Запишем параметры, общие для всех RandomizedSearch\n",
    "RMSESearch = partial(RandomizedSearchCV,\n",
    "                     scoring='neg_root_mean_squared_error',\n",
    "                     n_iter=10,\n",
    "                     random_state=RSTATE)"
   ]
  },
  {
   "cell_type": "code",
   "execution_count": 70,
   "metadata": {},
   "outputs": [
    {
     "name": "stdout",
     "output_type": "stream",
     "text": [
      "CPU times: user 9min 3s, sys: 4.66 s, total: 9min 8s\n",
      "Wall time: 2min 18s\n"
     ]
    }
   ],
   "source": [
    "%%time\n",
    "# Создадим модель LGBM с лучшими параметрами\n",
    "lgb_model = RMSESearch(LGBMRegressor(random_state=RSTATE), \n",
    "                       {'learning_rate': np.arange(0.1, 0.6, 0.1), \n",
    "                        'n_estimators': range(100, 300, 20), \n",
    "                        'max_depth': range(1, 11)}).fit(features_train_lgb, target_train_lgb,  categorical_feature=categorical_features).best_estimator_\n"
   ]
  },
  {
   "cell_type": "markdown",
   "metadata": {},
   "source": [
    "Обучим, кросс-валидируем и запишем результаты в переменную"
   ]
  },
  {
   "cell_type": "code",
   "execution_count": 71,
   "metadata": {},
   "outputs": [
    {
     "name": "stdout",
     "output_type": "stream",
     "text": [
      "CPU times: user 14.6 s, sys: 220 ms, total: 14.8 s\n",
      "Wall time: 3.95 s\n"
     ]
    }
   ],
   "source": [
    "%%time\n",
    "# Измерим скорость непосредственно обучения.\n",
    "\n",
    "start = time.time()\n",
    "lgb_model.fit(features_train_lgb, target_train_lgb, \n",
    "              eval_metric='rmse', categorical_feature=categorical_features)\n",
    "#lgbm_reg.fit(features_train_gbm, target_train_gbm,\n",
    "#             eval_metric='rmse', categorical_feature=categorical_features)\n",
    "finish = time.time()\n",
    "\n",
    "lgb_time_fit = finish - start"
   ]
  },
  {
   "cell_type": "code",
   "execution_count": 72,
   "metadata": {
    "scrolled": true
   },
   "outputs": [
    {
     "name": "stdout",
     "output_type": "stream",
     "text": [
      "RMSE_Light_GBM=1649\n",
      "CPU times: user 4.81 s, sys: 23.4 ms, total: 4.83 s\n",
      "Wall time: 1.38 s\n"
     ]
    }
   ],
   "source": [
    "%%time\n",
    "# Измерим скорость предсказаний\n",
    "start = time.time()\n",
    "test_pred = lgb_model.predict(features_valid_lgb)\n",
    "finish = time.time()\n",
    "\n",
    "lgb_time_predict = finish - start\n",
    "\n",
    "lgb_rmse = rmse(target_valid_lgb, test_pred)\n",
    "print(f'RMSE_Light_GBM={lgb_rmse:.0f}')"
   ]
  },
  {
   "cell_type": "markdown",
   "metadata": {},
   "source": [
    "RMSE составила 1649 евро, что существенно лучше, чем у линейной регрессии, и незначительно лучше, чем у случайного леса."
   ]
  },
  {
   "cell_type": "markdown",
   "metadata": {},
   "source": [
    "## Анализ моделей"
   ]
  },
  {
   "cell_type": "markdown",
   "metadata": {},
   "source": [
    "Проверим модели на адекватность - сравним со средним."
   ]
  },
  {
   "cell_type": "code",
   "execution_count": 73,
   "metadata": {},
   "outputs": [
    {
     "data": {
      "text/plain": [
       "4530.901309293951"
      ]
     },
     "execution_count": 73,
     "metadata": {},
     "output_type": "execute_result"
    }
   ],
   "source": [
    "dummy_predict = pd.Series(target_train_rf.mean(), index=target_valid_rf.index)  \n",
    "dummy_rmse = rmse(target_valid_rf, dummy_predict)\n",
    "dummy_rmse"
   ]
  },
  {
   "cell_type": "markdown",
   "metadata": {},
   "source": [
    "RMSE между целевым признаком и средним составляет более 4500 евро, что существенно выше, чем оценка у всех наших моделей."
   ]
  },
  {
   "cell_type": "code",
   "execution_count": 74,
   "metadata": {
    "scrolled": true
   },
   "outputs": [
    {
     "data": {
      "text/html": [
       "<div>\n",
       "<style scoped>\n",
       "    .dataframe tbody tr th:only-of-type {\n",
       "        vertical-align: middle;\n",
       "    }\n",
       "\n",
       "    .dataframe tbody tr th {\n",
       "        vertical-align: top;\n",
       "    }\n",
       "\n",
       "    .dataframe thead th {\n",
       "        text-align: right;\n",
       "    }\n",
       "</style>\n",
       "<table border=\"1\" class=\"dataframe\">\n",
       "  <thead>\n",
       "    <tr style=\"text-align: right;\">\n",
       "      <th></th>\n",
       "      <th>RMSE</th>\n",
       "      <th>Время_обучения</th>\n",
       "      <th>Время_предсказания</th>\n",
       "    </tr>\n",
       "  </thead>\n",
       "  <tbody>\n",
       "    <tr>\n",
       "      <th>Light_GBM</th>\n",
       "      <td>1649.365246</td>\n",
       "      <td>3.951269</td>\n",
       "      <td>1.375484</td>\n",
       "    </tr>\n",
       "    <tr>\n",
       "      <th>Случайный_лес</th>\n",
       "      <td>1653.133199</td>\n",
       "      <td>21.203844</td>\n",
       "      <td>1.490597</td>\n",
       "    </tr>\n",
       "    <tr>\n",
       "      <th>Линейная_регрессия</th>\n",
       "      <td>3510.564160</td>\n",
       "      <td>5.309466</td>\n",
       "      <td>0.004978</td>\n",
       "    </tr>\n",
       "  </tbody>\n",
       "</table>\n",
       "</div>"
      ],
      "text/plain": [
       "                           RMSE  Время_обучения  Время_предсказания\n",
       "Light_GBM           1649.365246        3.951269            1.375484\n",
       "Случайный_лес       1653.133199       21.203844            1.490597\n",
       "Линейная_регрессия  3510.564160        5.309466            0.004978"
      ]
     },
     "execution_count": 74,
     "metadata": {},
     "output_type": "execute_result"
    }
   ],
   "source": [
    "rf_list = [rf_rmse, rf_time_fit, rf_time_predict]\n",
    "lr_list = [lr_rmse, lr_time_fit, lr_time_predict]\n",
    "lgbm_list = [lgb_rmse, lgb_time_fit, lgb_time_predict]\n",
    "\n",
    "overall = pd.DataFrame(data=[rf_list, lr_list, lgbm_list],\n",
    "                       columns=['RMSE', 'Время_обучения', 'Время_предсказания'],\n",
    "                      index=['Случайный_лес', 'Линейная_регрессия', 'Light_GBM',])\n",
    "overall.sort_values('RMSE')"
   ]
  },
  {
   "cell_type": "markdown",
   "metadata": {},
   "source": [
    "Худшей по качеству оказалась модель линейной регрессии - её RMSE более 3510 евро, что более чем в два раза хуже лидеров. \n",
    "\n",
    "Лучшей по качеству оказалась модель LightGBM. Модель случайного леса на втором месте с незначительной разницей в метрике: в 4 евро. Это разница в четвертом значащем знаке такова, что на другом наборе данных они могут поменяться местами. Поэтом, опираясь только на метрику RMSE, трудно было бы рекомендовать модель заказчику. \n",
    "\n",
    "К счастью, у заказчика есть дополнительное требование к скорости работы модели. И здесь модель LightGBM абсолютный лидер по времени обучения 3,9 сек. Случайный лес учится в 5,6 раз дольше. И по времени предскаазания случайный лес проигрывает LightGBM в два раза.\n",
    "\n",
    "**Вывод**\n",
    "\n",
    "LightGBM лучшая и по качеству, по времени обучения и скорости предсказания."
   ]
  },
  {
   "cell_type": "markdown",
   "metadata": {},
   "source": [
    "##  Общий вывод\n",
    "Целью нашего проекта был поиск модели градиентного бустинга, которую можно встроить в приложение, и которая будет рекомендовать стоимость автомобиля в зависимости от его характеристик и других факторов.\n",
    "- Мы изучили данные из базы объявлений о продаже автомобилей и определили набор действий, которые выполнили на этапе предобработки данных.\n",
    "- Выполнили предобработку данных, по возможности заполняя пропуски в данных и удаляя сомнительные строки, которые могут породить ошибки при обучении.\n",
    "- Построили модель градиентного бустинга LightGBM при помощи случайной оптимизации гиперпараметров и для сравнения взяли две более простые модели: Случайный лес и Линейная регрессия.\n",
    "- Провели сравнение моделей. \n",
    "- Сделали вывод, что лучшей моделью для решения нашей задачи будет LightGBM, потому что она обеспечивает лучшее качество предсказаний и лучшее время обучения."
   ]
  }
 ],
 "metadata": {
  "kernelspec": {
   "display_name": "Python 3",
   "language": "python",
   "name": "python3"
  },
  "language_info": {
   "codemirror_mode": {
    "name": "ipython",
    "version": 3
   },
   "file_extension": ".py",
   "mimetype": "text/x-python",
   "name": "python",
   "nbconvert_exporter": "python",
   "pygments_lexer": "ipython3",
   "version": "3.8.5"
  },
  "toc": {
   "base_numbering": 1,
   "nav_menu": {},
   "number_sections": true,
   "sideBar": true,
   "skip_h1_title": true,
   "title_cell": "Table of Contents",
   "title_sidebar": "Contents",
   "toc_cell": true,
   "toc_position": {
    "height": "calc(100% - 180px)",
    "left": "10px",
    "top": "150px",
    "width": "165px"
   },
   "toc_section_display": true,
   "toc_window_display": true
  }
 },
 "nbformat": 4,
 "nbformat_minor": 2
}
